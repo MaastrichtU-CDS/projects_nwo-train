{
 "cells": [
  {
   "cell_type": "markdown",
   "id": "0fcc84f5",
   "metadata": {},
   "source": [
    "# Batch conversion Dicom to NRRD in XNAT collection"
   ]
  },
  {
   "cell_type": "raw",
   "id": "5ea30128",
   "metadata": {},
   "source": [
    "By : Leonard Wee (postdoc), Tianchen Luo (intern) and Zhenwei Shi (PhD graduate)\n",
    "Thanks to : Johan van Soest (dicomdb function) and Hakim Achterberg (xnat api library)"
   ]
  },
  {
   "cell_type": "markdown",
   "id": "df2d2522",
   "metadata": {},
   "source": [
    "### import necessary components"
   ]
  },
  {
   "cell_type": "code",
   "execution_count": 1,
   "id": "2ab3ecee",
   "metadata": {
    "scrolled": true
   },
   "outputs": [],
   "source": [
    "#ORAW modifications and integrations with XNAT by Leonard Wee during Oct -> Dec 2021\n",
    "\n",
    "from __future__ import print_function\n",
    "\n",
    "from time import process_time\n",
    "import os, subprocess, glob\n",
    "#import yaml\n",
    "#import ORAW\n",
    "import glob\n",
    "import shutil\n",
    "import pandas as pd\n",
    "from datetime import date, datetime\n",
    "from numpy.random import choice\n",
    "\n",
    "import xnat #needed for reading and writing to/from XNAT\n",
    "from DicomDatabase import DicomDatabase # dicom indexer by Johan van Soest\n"
   ]
  },
  {
   "cell_type": "markdown",
   "id": "c83d00c2",
   "metadata": {},
   "source": [
    "### define needed operations"
   ]
  },
  {
   "cell_type": "code",
   "execution_count": 2,
   "id": "46392327",
   "metadata": {},
   "outputs": [],
   "source": [
    "def upload_file(session, project, subject, experiment, assessment, resource, convfile):\n",
    "    xnat_project = session.projects[project]\n",
    "    xnat_subject = session.classes.SubjectData(parent=xnat_project, label=subject)\n",
    "    xnat_experiment = session.classes.CtSessionData(parent=xnat_subject, label=experiment)\n",
    "    xnat_resource = session.classes.ResourceCatalog(parent=xnat_experiment, label=resource)\n",
    "    #xnat_assessment = session.classes.QcAssessmentData(parent=xnat_experiment, label=assessment) #not used\n",
    "    #xnat_resource = session.classes.ResourceCatalog(parent=xnat_assessment, label=resource) #resource under experiment instead\n",
    "    xnat_resource.upload(convfile, os.path.basename(convfile)) # upload\n",
    "#    for file_ in data:\n",
    "#        resource.upload(file_, os.path.basename(file_))\n",
    "#    pass\n",
    "\n",
    "\n",
    "def cleanup_temp_folder(dirt):\n",
    "    if os.path.exists(dirt):\n",
    "        shutil.rmtree(dirt)\n",
    "        os.makedirs(dirt)\n",
    "    if not os.path.exists(dirt):\n",
    "        os.makedirs(dirt)\n",
    "        \n",
    "def RTSTRUCT2NRRD(pt,dt):\n",
    "    # convert contents of STRUCTWorkingDir to NRRD using CTWorkingDir as reference\n",
    "    f = open(os.path.join('./plastimatch','plastimatch_logfile.txt'), \"a\")\n",
    "    try:\n",
    "        subprocess.run(['plastimatch', 'convert',\\\n",
    "                '--input',STRUCTWorkingDir,\\\n",
    "                '--output-prefix',NRRDWorkingDir,\n",
    "                '--prefix-format','nrrd',\\\n",
    "                '--referenced-ct',CTWorkingDir,\\\n",
    "                '--prune-empty'], stdout=f)\n",
    "    except:\n",
    "        print(\"Error: plastimatch failed to convert RTSTRUCT to [roiname].nrrd\", file=f)\n",
    "    print(\"Subject: %s\" % (pt), file=f)\n",
    "    print(\"Datetime stamp : %s\" % (dt), file=f)\n",
    "    f.close()\n",
    "\n",
    "def AXIALCT2NRRD(pt,dt):\n",
    "    # convert contents of CTWorkingDir to NRRD\n",
    "    f = open(os.path.join('./plastimatch','plastimatch_logfile.txt'), \"a\")\n",
    "    try:\n",
    "        subprocess.run(['plastimatch', 'convert',\\\n",
    "              '--input',CTWorkingDir,\\\n",
    "              '--output-img',os.path.join(NRRDWorkingDir,'ct_image.nrrd')], stdout=f)\n",
    "    except:\n",
    "        print(\"Error: plastimatch failed to convert DICOM CT image to ct_image.nrrd\", file=f)\n",
    "    print(\"Subject: %s\" % (pt), file=f)\n",
    "    print(\"Datetime stamp : %s\" % (dt), file=f)\n",
    "    f.close()\n"
   ]
  },
  {
   "cell_type": "markdown",
   "id": "5b55a474",
   "metadata": {},
   "source": [
    "### configure user-dependent settings"
   ]
  },
  {
   "cell_type": "raw",
   "id": "0cca9d3e",
   "metadata": {},
   "source": [
    "- check the url using docker network inspect on the package defaul network, find the web application nginx\n",
    "- the procedure is as follows :\n",
    "- \"docker network ls\" on the command line\n",
    "- find your docker network bridge running all the xnat and python images, eg xnat-docker-compose-master_default\n",
    "- copy the network id on the left hand side\n",
    "- \"docker network inspect [the network id from above]\" on the same command line\n",
    "- scroll down a little and find the docker IP network address of the nginx gateway\n",
    "- record that docker IP address for the step below"
   ]
  },
  {
   "cell_type": "code",
   "execution_count": 4,
   "id": "8b7612a8",
   "metadata": {},
   "outputs": [],
   "source": [
    "#------------------------- USER SETTINGS -------------------------------\n",
    "\n",
    "# set up XNAT login credentials here\n",
    "# .......................\n",
    "#xnatUrl = 'https://xnat.bmia.nl'\n",
    "#xnatUser = 'leonardwee'\n",
    "xnatUrl = 'http://172.24.0.5:80'  #change me! e.g. 'http://localhost:8081/'\n",
    "xnatUser = 'admin'  #change me!\n",
    "xnatPass = 'admin'  #change me!\n",
    "xnatProject = 'hn3-radiomics'  #change me!"
   ]
  },
  {
   "cell_type": "markdown",
   "id": "36196b4a",
   "metadata": {},
   "source": [
    "### retrieve list of patients and dicom experiments from XNAT project"
   ]
  },
  {
   "cell_type": "code",
   "execution_count": 5,
   "id": "95ecbd84",
   "metadata": {
    "scrolled": true
   },
   "outputs": [
    {
     "name": "stderr",
     "output_type": "stream",
     "text": [
      "[WARNING] Detected a redirect from http://172.24.0.5:80 to http://172.24.0.5/, using http://172.24.0.5/ from now on\n"
     ]
    },
    {
     "name": "stdout",
     "output_type": "stream",
     "text": [
      "hn3-radiomics\tP0415C0006I355015\tP0415C0006I355015\n",
      "hn3-radiomics\tP0415C0006I1454678\tP0415C0006I1454678\n",
      "hn3-radiomics\tP0415C0006I1263056\tP0415C0006I1263056\n",
      "hn3-radiomics\tP0415C0006I1660348\tP0415C0006I1660348\n",
      "hn3-radiomics\tP0415C0006I1447565\tP0415C0006I1447565\n",
      "hn3-radiomics\tP0415C0006I119663\tP0415C0006I119663\n",
      "hn3-radiomics\tP0415C0006I1097833\tP0415C0006I1097833\n",
      "hn3-radiomics\tP0415C0006I1439383\tP0415C0006I1439383\n",
      "hn3-radiomics\tP0415C0006I13300\tP0415C0006I13300\n",
      "hn3-radiomics\tP0415C0006I1146494\tP0415C0006I1146494\n",
      "hn3-radiomics\tP0415C0006I2024685\tP0415C0006I2024685\n",
      "hn3-radiomics\tP0415C0006I1733057\tP0415C0006I1733057\n",
      "hn3-radiomics\tP0415C0006I1966784\tP0415C0006I1966784\n",
      "hn3-radiomics\tP0415C0006I1483114\tP0415C0006I1483114\n",
      "hn3-radiomics\tP0415C0006I1513638\tP0415C0006I1513638\n",
      "hn3-radiomics\tP0415C0006I1515168\tP0415C0006I1515168\n",
      "hn3-radiomics\tP0415C0006I1827573\tP0415C0006I1827573\n",
      "hn3-radiomics\tP0415C0006I2045556\tP0415C0006I2045556\n",
      "hn3-radiomics\tP0415C0006I1145536\tP0415C0006I1145536\n",
      "hn3-radiomics\tP0415C0006I2046221\tP0415C0006I2046221\n",
      "hn3-radiomics\tP0415C0006I2070210\tP0415C0006I2070210\n",
      "hn3-radiomics\tP0415C0006I2072630\tP0415C0006I2072630\n",
      "hn3-radiomics\tP0415C0006I2197346\tP0415C0006I2197346\n",
      "hn3-radiomics\tP0415C0006I2358549\tP0415C0006I2358549\n",
      "hn3-radiomics\tP0415C0006I759713\tP0415C0006I759713\n",
      "hn3-radiomics\tP0415C0006I2573595\tP0415C0006I2573595\n",
      "hn3-radiomics\tP0415C0006I3307786\tP0415C0006I3307786\n",
      "hn3-radiomics\tP0415C0006I2798485\tP0415C0006I2798485\n",
      "hn3-radiomics\tP0415C0006I824087\tP0415C0006I824087\n",
      "hn3-radiomics\tP0415C0006I3063288\tP0415C0006I3063288\n",
      "hn3-radiomics\tP0415C0006I2773423\tP0415C0006I2773423\n",
      "hn3-radiomics\tP0415C0006I281543\tP0415C0006I281543\n",
      "hn3-radiomics\tP0415C0006I809977\tP0415C0006I809977\n",
      "hn3-radiomics\tP0415C0006I922801\tP0415C0006I922801\n",
      "hn3-radiomics\tP0415C0006I970723\tP0415C0006I970723\n",
      "hn3-radiomics\tP0415C0006I3280407\tP0415C0006I3280407\n",
      "hn3-radiomics\tP0415C0006I882805\tP0415C0006I882805\n",
      "hn3-radiomics\tP0415C0006I266334\tP0415C0006I266334\n",
      "hn3-radiomics\tP0415C0006I3244283\tP0415C0006I3244283\n",
      "hn3-radiomics\tP0415C0006I2936910\tP0415C0006I2936910\n",
      "hn3-radiomics\tP0415C0006I3142066\tP0415C0006I3142066\n",
      "hn3-radiomics\tP0415C0006I2770066\tP0415C0006I2770066\n",
      "hn3-radiomics\tP0415C0006I3272753\tP0415C0006I3272753\n",
      "hn3-radiomics\tP0415C0006I860022\tP0415C0006I860022\n",
      "hn3-radiomics\tP0415C0006I3175363\tP0415C0006I3175363\n",
      "hn3-radiomics\tP0415C0006I3094333\tP0415C0006I3094333\n",
      "hn3-radiomics\tP0415C0006I825592\tP0415C0006I825592\n",
      "hn3-radiomics\tP0415C0006I3247182\tP0415C0006I3247182\n",
      "hn3-radiomics\tP0415C0006I49522\tP0415C0006I49522\n",
      "hn3-radiomics\tP0415C0006I42187\tP0415C0006I42187\n",
      "hn3-radiomics\tP0415C0006I3574119\tP0415C0006I3574119\n",
      "hn3-radiomics\tP0415C0006I3599860\tP0415C0006I3599860\n",
      "hn3-radiomics\tP0415C0006I3655208\tP0415C0006I3655208\n",
      "hn3-radiomics\tP0415C0006I3691715\tP0415C0006I3691715\n",
      "hn3-radiomics\tP0415C0006I3713487\tP0415C0006I3713487\n",
      "hn3-radiomics\tP0415C0006I3729792\tP0415C0006I3729792\n",
      "hn3-radiomics\tP0415C0006I3735731\tP0415C0006I3735731\n",
      "hn3-radiomics\tP0415C0006I3780084\tP0415C0006I3780084\n",
      "hn3-radiomics\tP0415C0006I3784760\tP0415C0006I3784760\n",
      "hn3-radiomics\tP0415C0006I3791277\tP0415C0006I3791277\n",
      "hn3-radiomics\tP0415C0006I3836560\tP0415C0006I3836560\n",
      "hn3-radiomics\tP0415C0006I3869452\tP0415C0006I3869452\n",
      "hn3-radiomics\tP0415C0006I4121824\tP0415C0006I4121824\n",
      "hn3-radiomics\tP0415C0006I4172752\tP0415C0006I4172752\n",
      "hn3-radiomics\tP0415C0006I4196632\tP0415C0006I4196632\n",
      "hn3-radiomics\tP0415C0006I4247114\tP0415C0006I4247114\n",
      "hn3-radiomics\tP0415C0006I4270424\tP0415C0006I4270424\n",
      "hn3-radiomics\tP0415C0006I4461422\tP0415C0006I4461422\n",
      "hn3-radiomics\tP0415C0006I4378200\tP0415C0006I4378200\n",
      "hn3-radiomics\tP0415C0006I4641582\tP0415C0006I4641582\n",
      "hn3-radiomics\tP0415C0006I4450765\tP0415C0006I4450765\n",
      "hn3-radiomics\tP0415C0006I4534464\tP0415C0006I4534464\n",
      "hn3-radiomics\tP0415C0006I4441159\tP0415C0006I4441159\n",
      "hn3-radiomics\tP0415C0006I4798901\tP0415C0006I4798901\n",
      "hn3-radiomics\tP0415C0006I4676602\tP0415C0006I4676602\n",
      "hn3-radiomics\tP0415C0006I4854737\tP0415C0006I4854737\n",
      "hn3-radiomics\tP0415C0006I5035509\tP0415C0006I5035509\n",
      "hn3-radiomics\tP0415C0006I5064021\tP0415C0006I5064021\n",
      "hn3-radiomics\tP0415C0006I5120774\tP0415C0006I5120774\n",
      "hn3-radiomics\tP0415C0006I5134193\tP0415C0006I5134193\n",
      "hn3-radiomics\tP0415C0006I5217471\tP0415C0006I5217471\n",
      "hn3-radiomics\tP0415C0006I5351827\tP0415C0006I5351827\n",
      "hn3-radiomics\tP0415C0006I5424843\tP0415C0006I5424843\n",
      "hn3-radiomics\tP0415C0006I5443091\tP0415C0006I5443091\n",
      "hn3-radiomics\tP0415C0006I5461698\tP0415C0006I5461698\n",
      "hn3-radiomics\tP0415C0006I5495649\tP0415C0006I5495649\n",
      "hn3-radiomics\tP0415C0006I5678481\tP0415C0006I5678481\n",
      "hn3-radiomics\tP0415C0006I5691192\tP0415C0006I5691192\n",
      "hn3-radiomics\tP0415C0006I5715555\tP0415C0006I5715555\n",
      "hn3-radiomics\tP0415C0006I5745399\tP0415C0006I5745399\n",
      "hn3-radiomics\tP0415C0006I5784045\tP0415C0006I5784045\n",
      "hn3-radiomics\tP0415C0006I5901006\tP0415C0006I5901006\n",
      "hn3-radiomics\tP0415C0006I8395745\tP0415C0006I8395745\n",
      "hn3-radiomics\tP0415C0006I6127161\tP0415C0006I6127161\n",
      "hn3-radiomics\tP0415C0006I8502689\tP0415C0006I8502689\n",
      "hn3-radiomics\tP0415C0006I6013428\tP0415C0006I6013428\n",
      "hn3-radiomics\tP0415C0006I6904620\tP0415C0006I6904620\n",
      "hn3-radiomics\tP0415C0006I6945030\tP0415C0006I6945030\n",
      "hn3-radiomics\tP0415C0006I7977295\tP0415C0006I7977295\n",
      "hn3-radiomics\tP0415C0006I6452284\tP0415C0006I6452284\n",
      "hn3-radiomics\tP0415C0006I7758700\tP0415C0006I7758700\n",
      "hn3-radiomics\tP0415C0006I5770287\tP0415C0006I5770287\n",
      "hn3-radiomics\tP0415C0006I5803624\tP0415C0006I5803624\n",
      "hn3-radiomics\tP0415C0006I5820580\tP0415C0006I5820580\n",
      "hn3-radiomics\tP0415C0006I8388837\tP0415C0006I8388837\n",
      "hn3-radiomics\tP0415C0006I7901592\tP0415C0006I7901592\n",
      "hn3-radiomics\tP0415C0006I8510520\tP0415C0006I8510520\n",
      "hn3-radiomics\tP0415C0006I8749420\tP0415C0006I8749420\n",
      "hn3-radiomics\tP0415C0006I8165609\tP0415C0006I8165609\n",
      "hn3-radiomics\tP0415C0006I6501380\tP0415C0006I6501380\n",
      "hn3-radiomics\tP0415C0006I5942783\tP0415C0006I5942783\n",
      "hn3-radiomics\tP0415C0006I5933459\tP0415C0006I5933459\n",
      "hn3-radiomics\tP0415C0006I7801852\tP0415C0006I7801852\n",
      "hn3-radiomics\tP0415C0006I6005319\tP0415C0006I6005319\n",
      "hn3-radiomics\tP0415C0006I6696171\tP0415C0006I6696171\n",
      "hn3-radiomics\tP0415C0006I7265422\tP0415C0006I7265422\n",
      "hn3-radiomics\tP0415C0006I7061196\tP0415C0006I7061196\n",
      "hn3-radiomics\tP0415C0006I7686910\tP0415C0006I7686910\n",
      "hn3-radiomics\tP0415C0006I8188369\tP0415C0006I8188369\n",
      "hn3-radiomics\tP0415C0006I8251326\tP0415C0006I8251326\n",
      "hn3-radiomics\tP0415C0006I6134620\tP0415C0006I6134620\n",
      "hn3-radiomics\tP0415C0006I8376226\tP0415C0006I8376226\n",
      "hn3-radiomics\tP0415C0006I7920275\tP0415C0006I7920275\n",
      "hn3-radiomics\tP0415C0006I6402177\tP0415C0006I6402177\n",
      "hn3-radiomics\tP0415C0006I6590223\tP0415C0006I6590223\n",
      "hn3-radiomics\tP0415C0006I6801385\tP0415C0006I6801385\n",
      "hn3-radiomics\tP0415C0006I6729812\tP0415C0006I6729812\n",
      "hn3-radiomics\tP0415C0006I6902945\tP0415C0006I6902945\n",
      "hn3-radiomics\tP0415C0006I7741679\tP0415C0006I7741679\n",
      "hn3-radiomics\tP0415C0006I8139948\tP0415C0006I8139948\n",
      "hn3-radiomics\tP0415C0006I7467347\tP0415C0006I7467347\n",
      "hn3-radiomics\tP0415C0006I7437948\tP0415C0006I7437948\n",
      "hn3-radiomics\tP0415C0006I6637958\tP0415C0006I6637958\n",
      "hn3-radiomics\tP0415C0006I7233147\tP0415C0006I7233147\n",
      "hn3-radiomics\tP0415C0006I7055526\tP0415C0006I7055526\n",
      "hn3-radiomics\tP0415C0006I8176472\tP0415C0006I8176472\n",
      "hn3-radiomics\tP0415C0006I8731433\tP0415C0006I8731433\n",
      "hn3-radiomics\tP0415C0006I9176704\tP0415C0006I9176704\n",
      "hn3-radiomics\tP0415C0006I8205891\tP0415C0006I8205891\n",
      "hn3-radiomics\tP0415C0006I8574428\tP0415C0006I8574428\n",
      "hn3-radiomics\tP0415C0006I8383593\tP0415C0006I8383593\n",
      "hn3-radiomics\tP0415C0006I8471795\tP0415C0006I8471795\n",
      "hn3-radiomics\tP0415C0006I9018535\tP0415C0006I9018535\n",
      "hn3-radiomics\tP0415C0006I8858622\tP0415C0006I8858622\n",
      "hn3-radiomics\tP0415C0006I9393231\tP0415C0006I9393231\n",
      "hn3-radiomics\tP0415C0006I9464833\tP0415C0006I9464833\n",
      "hn3-radiomics\tP0415C0006I9596891\tP0415C0006I9596891\n",
      "hn3-radiomics\tP0415C0006I9332184\tP0415C0006I9332184\n",
      "hn3-radiomics\tP0415C0006I9327309\tP0415C0006I9327309\n",
      "hn3-radiomics\tP0415C0006I9985489\tP0415C0006I9985489\n",
      "hn3-radiomics\tP0415C0006I9831888\tP0415C0006I9831888\n",
      "hn3-radiomics\tP0415C0006I9522686\tP0415C0006I9522686\n",
      "hn3-radiomics\tP0415C0006I9359608\tP0415C0006I9359608\n",
      "hn3-radiomics\tP0415C0006I9769068\tP0415C0006I9769068\n",
      "hn3-radiomics\tP0415C0006I9565578\tP0415C0006I9565578\n",
      "hn3-radiomics\tP0415C0006I9888200\tP0415C0006I9888200\n"
     ]
    }
   ],
   "source": [
    "with xnat.connect(xnatUrl, user=xnatUser, password=xnatPass) as session:\n",
    "    myProject= session.projects[xnatProject]\n",
    "    mySubjectsList = myProject.subjects.values()\n",
    "    for s in mySubjectsList:\n",
    "        mySubjectID = s.label\n",
    "        mySubject = myProject.subjects[mySubjectID]\n",
    "        myExperimentsList = mySubject.experiments.values()\n",
    "        for e in myExperimentsList:\n",
    "            myExperimentID = e.label\n",
    "            myExperiment = mySubject.experiments[myExperimentID]\n",
    "            print(xnatProject + \"\\t\" + mySubjectID + \"\\t\" + myExperimentID)"
   ]
  },
  {
   "cell_type": "markdown",
   "id": "695511dd",
   "metadata": {},
   "source": [
    "### main section"
   ]
  },
  {
   "cell_type": "code",
   "execution_count": 8,
   "id": "397e38d0",
   "metadata": {
    "scrolled": false
   },
   "outputs": [
    {
     "name": "stderr",
     "output_type": "stream",
     "text": [
      "[WARNING] Detected a redirect from http://172.24.0.5:80 to http://172.24.0.5/, using http://172.24.0.5/ from now on\n",
      "119.3 MiB |                #                                      |   1.5 MiB/s\n"
     ]
    },
    {
     "name": "stdout",
     "output_type": "stream",
     "text": [
      "Processing: P0415C0006I355015\n",
      "Starting with RTStruct 1.3.6.1.4.1.32722.415.6.334438723428200308149604515333735375401\n",
      "Located GTV file : ./NrrdFolder/GTVp1.nrrd\n",
      "Saved MASK as resource in XNAT under experiment.\n",
      "hn3-radiomics;P0415C0006I355015;P0415C0006I355015;D_20220104_2357_GTVp1;./NrrdFolder/GTVp1.nrrd\n",
      "Located CT IMAGE file : ./NrrdFolder/ct_image.nrrd\n",
      "Saved CT_IMAGE as resource in XNAT under experiment.\n",
      "hn3-radiomics;P0415C0006I355015;P0415C0006I355015;D_20220104_2357_ct_image;./NrrdFolder/ct_image.nrrd\n",
      "Done for RTStruct 1.3.6.1.4.1.32722.415.6.334438723428200308149604515333735375401 of subject P0415C0006I355015 .... moving on ....\n"
     ]
    },
    {
     "name": "stderr",
     "output_type": "stream",
     "text": [
      " 91.8 MiB |                                #                      |   1.4 MiB/s\n"
     ]
    },
    {
     "name": "stdout",
     "output_type": "stream",
     "text": [
      "Processing: P0415C0006I1454678\n",
      "Starting with RTStruct 1.3.6.1.4.1.32722.415.6.187407374563272489748043799716277894637\n",
      "Located GTV file : ./NrrdFolder/GTV_1.nrrd\n",
      "Saved MASK as resource in XNAT under experiment.\n",
      "hn3-radiomics;P0415C0006I1454678;P0415C0006I1454678;D_20220104_2357_GTV_1;./NrrdFolder/GTV_1.nrrd\n",
      "Located GTV file : ./NrrdFolder/GTV_2.nrrd\n",
      "Saved MASK as resource in XNAT under experiment.\n",
      "hn3-radiomics;P0415C0006I1454678;P0415C0006I1454678;D_20220104_2357_GTV_2;./NrrdFolder/GTV_2.nrrd\n",
      "Located CT IMAGE file : ./NrrdFolder/ct_image.nrrd\n",
      "Saved CT_IMAGE as resource in XNAT under experiment.\n",
      "hn3-radiomics;P0415C0006I1454678;P0415C0006I1454678;D_20220104_2357_ct_image;./NrrdFolder/ct_image.nrrd\n",
      "Done for RTStruct 1.3.6.1.4.1.32722.415.6.187407374563272489748043799716277894637 of subject P0415C0006I1454678 .... moving on ....\n"
     ]
    },
    {
     "name": "stderr",
     "output_type": "stream",
     "text": [
      " 75.4 MiB |                               #                       |   1.3 MiB/s\n"
     ]
    },
    {
     "name": "stdout",
     "output_type": "stream",
     "text": [
      "Processing: P0415C0006I1263056\n",
      "Starting with RTStruct 1.3.6.1.4.1.32722.415.6.26775697212182630552769458608396175\n",
      "Located GTV file : ./NrrdFolder/GTVn_L.nrrd\n",
      "Saved MASK as resource in XNAT under experiment.\n",
      "hn3-radiomics;P0415C0006I1263056;P0415C0006I1263056;D_20220104_2357_GTVn_L;./NrrdFolder/GTVn_L.nrrd\n",
      "Located GTV file : ./NrrdFolder/GTVp1.nrrd\n",
      "Saved MASK as resource in XNAT under experiment.\n",
      "hn3-radiomics;P0415C0006I1263056;P0415C0006I1263056;D_20220104_2357_GTVp1;./NrrdFolder/GTVp1.nrrd\n",
      "Located CT IMAGE file : ./NrrdFolder/ct_image.nrrd\n",
      "Saved CT_IMAGE as resource in XNAT under experiment.\n",
      "hn3-radiomics;P0415C0006I1263056;P0415C0006I1263056;D_20220104_2357_ct_image;./NrrdFolder/ct_image.nrrd\n",
      "Done for RTStruct 1.3.6.1.4.1.32722.415.6.26775697212182630552769458608396175 of subject P0415C0006I1263056 .... moving on ....\n"
     ]
    },
    {
     "name": "stderr",
     "output_type": "stream",
     "text": [
      " 78.0 MiB |               #                                       |   1.5 MiB/s\n"
     ]
    },
    {
     "name": "stdout",
     "output_type": "stream",
     "text": [
      "Processing: P0415C0006I1660348\n",
      "Starting with RTStruct 1.3.6.1.4.1.32722.415.6.296635018785707302001495834885927321448\n",
      "Located GTV file : ./NrrdFolder/GTV-1.nrrd\n",
      "Saved MASK as resource in XNAT under experiment.\n",
      "hn3-radiomics;P0415C0006I1660348;P0415C0006I1660348;D_20220104_2357_GTV-1;./NrrdFolder/GTV-1.nrrd\n",
      "Located GTV file : ./NrrdFolder/GTV-2.nrrd\n",
      "Saved MASK as resource in XNAT under experiment.\n",
      "hn3-radiomics;P0415C0006I1660348;P0415C0006I1660348;D_20220104_2357_GTV-2;./NrrdFolder/GTV-2.nrrd\n",
      "Located CT IMAGE file : ./NrrdFolder/ct_image.nrrd\n",
      "Saved CT_IMAGE as resource in XNAT under experiment.\n",
      "hn3-radiomics;P0415C0006I1660348;P0415C0006I1660348;D_20220104_2357_ct_image;./NrrdFolder/ct_image.nrrd\n",
      "Done for RTStruct 1.3.6.1.4.1.32722.415.6.296635018785707302001495834885927321448 of subject P0415C0006I1660348 .... moving on ....\n"
     ]
    },
    {
     "name": "stderr",
     "output_type": "stream",
     "text": [
      " 87.8 MiB |        #                                              |   1.4 MiB/s\n"
     ]
    },
    {
     "name": "stdout",
     "output_type": "stream",
     "text": [
      "Processing: P0415C0006I1447565\n",
      "Starting with RTStruct 1.3.6.1.4.1.32722.415.6.212167204143615921290514020242574559355\n",
      "Located GTV file : ./NrrdFolder/GTV_1.nrrd\n",
      "Saved MASK as resource in XNAT under experiment.\n",
      "hn3-radiomics;P0415C0006I1447565;P0415C0006I1447565;D_20220104_2357_GTV_1;./NrrdFolder/GTV_1.nrrd\n",
      "Located GTV file : ./NrrdFolder/GTV_2.nrrd\n",
      "Saved MASK as resource in XNAT under experiment.\n",
      "hn3-radiomics;P0415C0006I1447565;P0415C0006I1447565;D_20220104_2357_GTV_2;./NrrdFolder/GTV_2.nrrd\n",
      "Located CT IMAGE file : ./NrrdFolder/ct_image.nrrd\n",
      "Saved CT_IMAGE as resource in XNAT under experiment.\n",
      "hn3-radiomics;P0415C0006I1447565;P0415C0006I1447565;D_20220104_2357_ct_image;./NrrdFolder/ct_image.nrrd\n",
      "Done for RTStruct 1.3.6.1.4.1.32722.415.6.212167204143615921290514020242574559355 of subject P0415C0006I1447565 .... moving on ....\n"
     ]
    },
    {
     "name": "stderr",
     "output_type": "stream",
     "text": [
      " 86.8 MiB |                #                                      |   1.2 MiB/s\n"
     ]
    },
    {
     "name": "stdout",
     "output_type": "stream",
     "text": [
      "Processing: P0415C0006I119663\n",
      "Starting with RTStruct 1.3.6.1.4.1.32722.415.6.219498075990433707722531864342443524413\n",
      "Located GTV file : ./NrrdFolder/GTV_1.nrrd\n",
      "Saved MASK as resource in XNAT under experiment.\n",
      "hn3-radiomics;P0415C0006I119663;P0415C0006I119663;D_20220104_2357_GTV_1;./NrrdFolder/GTV_1.nrrd\n",
      "Located CT IMAGE file : ./NrrdFolder/ct_image.nrrd\n",
      "Saved CT_IMAGE as resource in XNAT under experiment.\n",
      "hn3-radiomics;P0415C0006I119663;P0415C0006I119663;D_20220104_2357_ct_image;./NrrdFolder/ct_image.nrrd\n",
      "Done for RTStruct 1.3.6.1.4.1.32722.415.6.219498075990433707722531864342443524413 of subject P0415C0006I119663 .... moving on ....\n"
     ]
    },
    {
     "name": "stderr",
     "output_type": "stream",
     "text": [
      " 86.9 MiB |#                                                      |   1.5 MiB/s\n"
     ]
    },
    {
     "name": "stdout",
     "output_type": "stream",
     "text": [
      "Processing: P0415C0006I1097833\n",
      "Starting with RTStruct 1.3.6.1.4.1.32722.415.6.148884161094029462902365153526375608264\n",
      "Located GTV file : ./NrrdFolder/GTV_1.nrrd\n",
      "Saved MASK as resource in XNAT under experiment.\n",
      "hn3-radiomics;P0415C0006I1097833;P0415C0006I1097833;D_20220104_2357_GTV_1;./NrrdFolder/GTV_1.nrrd\n",
      "Located CT IMAGE file : ./NrrdFolder/ct_image.nrrd\n",
      "Saved CT_IMAGE as resource in XNAT under experiment.\n",
      "hn3-radiomics;P0415C0006I1097833;P0415C0006I1097833;D_20220104_2357_ct_image;./NrrdFolder/ct_image.nrrd\n",
      "Done for RTStruct 1.3.6.1.4.1.32722.415.6.148884161094029462902365153526375608264 of subject P0415C0006I1097833 .... moving on ....\n"
     ]
    },
    {
     "name": "stderr",
     "output_type": "stream",
     "text": [
      " 86.1 MiB |                                     #                 |   1.3 MiB/s\n"
     ]
    },
    {
     "name": "stdout",
     "output_type": "stream",
     "text": [
      "Processing: P0415C0006I1439383\n",
      "Starting with RTStruct 1.3.6.1.4.1.32722.415.6.39700187237916340903732299765986665159\n",
      "Located GTV file : ./NrrdFolder/GTV_1.nrrd\n",
      "Saved MASK as resource in XNAT under experiment.\n",
      "hn3-radiomics;P0415C0006I1439383;P0415C0006I1439383;D_20220104_2357_GTV_1;./NrrdFolder/GTV_1.nrrd\n",
      "Located CT IMAGE file : ./NrrdFolder/ct_image.nrrd\n",
      "Saved CT_IMAGE as resource in XNAT under experiment.\n",
      "hn3-radiomics;P0415C0006I1439383;P0415C0006I1439383;D_20220104_2357_ct_image;./NrrdFolder/ct_image.nrrd\n",
      "Done for RTStruct 1.3.6.1.4.1.32722.415.6.39700187237916340903732299765986665159 of subject P0415C0006I1439383 .... moving on ....\n"
     ]
    },
    {
     "name": "stderr",
     "output_type": "stream",
     "text": [
      " 86.8 MiB |                   #                                   |   1.4 MiB/s\n"
     ]
    },
    {
     "name": "stdout",
     "output_type": "stream",
     "text": [
      "Processing: P0415C0006I13300\n",
      "Starting with RTStruct 1.3.6.1.4.1.32722.415.6.225646392027741896584610811763635901829\n",
      "Located GTV file : ./NrrdFolder/GTV_1.nrrd\n",
      "Saved MASK as resource in XNAT under experiment.\n",
      "hn3-radiomics;P0415C0006I13300;P0415C0006I13300;D_20220104_2357_GTV_1;./NrrdFolder/GTV_1.nrrd\n",
      "Located GTV file : ./NrrdFolder/GTV_2.nrrd\n",
      "Saved MASK as resource in XNAT under experiment.\n",
      "hn3-radiomics;P0415C0006I13300;P0415C0006I13300;D_20220104_2357_GTV_2;./NrrdFolder/GTV_2.nrrd\n",
      "Located CT IMAGE file : ./NrrdFolder/ct_image.nrrd\n",
      "Saved CT_IMAGE as resource in XNAT under experiment.\n",
      "hn3-radiomics;P0415C0006I13300;P0415C0006I13300;D_20220104_2357_ct_image;./NrrdFolder/ct_image.nrrd\n",
      "Done for RTStruct 1.3.6.1.4.1.32722.415.6.225646392027741896584610811763635901829 of subject P0415C0006I13300 .... moving on ....\n"
     ]
    },
    {
     "name": "stderr",
     "output_type": "stream",
     "text": [
      " 86.3 MiB |                               #                       |   1.5 MiB/s\n"
     ]
    },
    {
     "name": "stdout",
     "output_type": "stream",
     "text": [
      "Processing: P0415C0006I1146494\n",
      "Starting with RTStruct 1.3.6.1.4.1.32722.415.6.95220007648888991248366381497816935577\n",
      "Located GTV file : ./NrrdFolder/GTV-1.nrrd\n",
      "Saved MASK as resource in XNAT under experiment.\n",
      "hn3-radiomics;P0415C0006I1146494;P0415C0006I1146494;D_20220104_2357_GTV-1;./NrrdFolder/GTV-1.nrrd\n",
      "Located GTV file : ./NrrdFolder/GTV-2.nrrd\n",
      "Saved MASK as resource in XNAT under experiment.\n",
      "hn3-radiomics;P0415C0006I1146494;P0415C0006I1146494;D_20220104_2357_GTV-2;./NrrdFolder/GTV-2.nrrd\n",
      "Located CT IMAGE file : ./NrrdFolder/ct_image.nrrd\n",
      "Saved CT_IMAGE as resource in XNAT under experiment.\n",
      "hn3-radiomics;P0415C0006I1146494;P0415C0006I1146494;D_20220104_2357_ct_image;./NrrdFolder/ct_image.nrrd\n",
      "Done for RTStruct 1.3.6.1.4.1.32722.415.6.95220007648888991248366381497816935577 of subject P0415C0006I1146494 .... moving on ....\n"
     ]
    },
    {
     "name": "stderr",
     "output_type": "stream",
     "text": [
      " 87.1 MiB |                                       #               |   1.5 MiB/s\n"
     ]
    },
    {
     "name": "stdout",
     "output_type": "stream",
     "text": [
      "Processing: P0415C0006I2024685\n",
      "Starting with RTStruct 1.3.6.1.4.1.32722.415.6.171186572186336604862166142004742097818\n",
      "Located GTV file : ./NrrdFolder/GTV-1.nrrd\n",
      "Saved MASK as resource in XNAT under experiment.\n",
      "hn3-radiomics;P0415C0006I2024685;P0415C0006I2024685;D_20220104_2357_GTV-1;./NrrdFolder/GTV-1.nrrd\n",
      "Located CT IMAGE file : ./NrrdFolder/ct_image.nrrd\n",
      "Saved CT_IMAGE as resource in XNAT under experiment.\n",
      "hn3-radiomics;P0415C0006I2024685;P0415C0006I2024685;D_20220104_2357_ct_image;./NrrdFolder/ct_image.nrrd\n",
      "Done for RTStruct 1.3.6.1.4.1.32722.415.6.171186572186336604862166142004742097818 of subject P0415C0006I2024685 .... moving on ....\n"
     ]
    },
    {
     "name": "stderr",
     "output_type": "stream",
     "text": [
      "111.6 MiB |                                               #       |   1.4 MiB/s\n"
     ]
    },
    {
     "name": "stdout",
     "output_type": "stream",
     "text": [
      "Processing: P0415C0006I1733057\n",
      "Starting with RTStruct 1.3.6.1.4.1.32722.415.6.303366893067141771102344665838223113316\n",
      "Located GTV file : ./NrrdFolder/GTVp1.nrrd\n",
      "Saved MASK as resource in XNAT under experiment.\n",
      "hn3-radiomics;P0415C0006I1733057;P0415C0006I1733057;D_20220104_2357_GTVp1;./NrrdFolder/GTVp1.nrrd\n",
      "Located CT IMAGE file : ./NrrdFolder/ct_image.nrrd\n",
      "Saved CT_IMAGE as resource in XNAT under experiment.\n",
      "hn3-radiomics;P0415C0006I1733057;P0415C0006I1733057;D_20220104_2357_ct_image;./NrrdFolder/ct_image.nrrd\n",
      "Done for RTStruct 1.3.6.1.4.1.32722.415.6.303366893067141771102344665838223113316 of subject P0415C0006I1733057 .... moving on ....\n"
     ]
    },
    {
     "name": "stderr",
     "output_type": "stream",
     "text": [
      " 79.0 MiB |                                           #           |   1.8 MiB/s\n"
     ]
    },
    {
     "name": "stdout",
     "output_type": "stream",
     "text": [
      "Processing: P0415C0006I1966784\n",
      "Starting with RTStruct 1.3.6.1.4.1.32722.415.6.23014503155101820969313756422564950024\n",
      "Located GTV file : ./NrrdFolder/GTV-1.nrrd\n",
      "Saved MASK as resource in XNAT under experiment.\n",
      "hn3-radiomics;P0415C0006I1966784;P0415C0006I1966784;D_20220104_2357_GTV-1;./NrrdFolder/GTV-1.nrrd\n",
      "Located GTV file : ./NrrdFolder/GTV-2.nrrd\n",
      "Saved MASK as resource in XNAT under experiment.\n",
      "hn3-radiomics;P0415C0006I1966784;P0415C0006I1966784;D_20220104_2357_GTV-2;./NrrdFolder/GTV-2.nrrd\n",
      "Located CT IMAGE file : ./NrrdFolder/ct_image.nrrd\n",
      "Saved CT_IMAGE as resource in XNAT under experiment.\n",
      "hn3-radiomics;P0415C0006I1966784;P0415C0006I1966784;D_20220104_2357_ct_image;./NrrdFolder/ct_image.nrrd\n",
      "Done for RTStruct 1.3.6.1.4.1.32722.415.6.23014503155101820969313756422564950024 of subject P0415C0006I1966784 .... moving on ....\n"
     ]
    },
    {
     "name": "stderr",
     "output_type": "stream",
     "text": [
      " 74.9 MiB |                                        #              |   1.3 MiB/s\n"
     ]
    },
    {
     "name": "stdout",
     "output_type": "stream",
     "text": [
      "Processing: P0415C0006I1483114\n",
      "Starting with RTStruct 1.3.6.1.4.1.32722.415.6.190368099032342663222609444917231417691\n",
      "Located GTV file : ./NrrdFolder/GTVp1.nrrd\n",
      "Saved MASK as resource in XNAT under experiment.\n",
      "hn3-radiomics;P0415C0006I1483114;P0415C0006I1483114;D_20220104_2357_GTVp1;./NrrdFolder/GTVp1.nrrd\n",
      "Located CT IMAGE file : ./NrrdFolder/ct_image.nrrd\n",
      "Saved CT_IMAGE as resource in XNAT under experiment.\n",
      "hn3-radiomics;P0415C0006I1483114;P0415C0006I1483114;D_20220104_2357_ct_image;./NrrdFolder/ct_image.nrrd\n",
      "Done for RTStruct 1.3.6.1.4.1.32722.415.6.190368099032342663222609444917231417691 of subject P0415C0006I1483114 .... moving on ....\n"
     ]
    },
    {
     "name": "stderr",
     "output_type": "stream",
     "text": [
      " 79.0 MiB |         #                                             |   1.7 MiB/s\n"
     ]
    },
    {
     "name": "stdout",
     "output_type": "stream",
     "text": [
      "Processing: P0415C0006I1513638\n",
      "Starting with RTStruct 1.3.6.1.4.1.32722.415.6.189995549502920392956849087368253367787\n",
      "Located GTV file : ./NrrdFolder/GTV-1.nrrd\n",
      "Saved MASK as resource in XNAT under experiment.\n",
      "hn3-radiomics;P0415C0006I1513638;P0415C0006I1513638;D_20220104_2357_GTV-1;./NrrdFolder/GTV-1.nrrd\n",
      "Located GTV file : ./NrrdFolder/GTV-2.nrrd\n",
      "Saved MASK as resource in XNAT under experiment.\n",
      "hn3-radiomics;P0415C0006I1513638;P0415C0006I1513638;D_20220104_2357_GTV-2;./NrrdFolder/GTV-2.nrrd\n",
      "Located GTV file : ./NrrdFolder/GTV-3.nrrd\n",
      "Saved MASK as resource in XNAT under experiment.\n",
      "hn3-radiomics;P0415C0006I1513638;P0415C0006I1513638;D_20220104_2357_GTV-3;./NrrdFolder/GTV-3.nrrd\n",
      "Located CT IMAGE file : ./NrrdFolder/ct_image.nrrd\n",
      "Saved CT_IMAGE as resource in XNAT under experiment.\n",
      "hn3-radiomics;P0415C0006I1513638;P0415C0006I1513638;D_20220104_2357_ct_image;./NrrdFolder/ct_image.nrrd\n",
      "Done for RTStruct 1.3.6.1.4.1.32722.415.6.189995549502920392956849087368253367787 of subject P0415C0006I1513638 .... moving on ....\n"
     ]
    },
    {
     "name": "stderr",
     "output_type": "stream",
     "text": [
      " 76.6 MiB |    #                                                  |   1.3 MiB/s\n"
     ]
    },
    {
     "name": "stdout",
     "output_type": "stream",
     "text": [
      "Processing: P0415C0006I1515168\n",
      "Starting with RTStruct 1.3.6.1.4.1.32722.415.6.157719112599949588424759515356215932406\n",
      "Located GTV file : ./NrrdFolder/GTV-1.nrrd\n",
      "Saved MASK as resource in XNAT under experiment.\n",
      "hn3-radiomics;P0415C0006I1515168;P0415C0006I1515168;V_20220104_2357_GTV-1;./NrrdFolder/GTV-1.nrrd\n",
      "Located GTV file : ./NrrdFolder/GTV-LN -L.nrrd\n",
      "Saved MASK as resource in XNAT under experiment.\n",
      "hn3-radiomics;P0415C0006I1515168;P0415C0006I1515168;V_20220104_2357_GTV-LN -L;./NrrdFolder/GTV-LN -L.nrrd\n",
      "Located CT IMAGE file : ./NrrdFolder/ct_image.nrrd\n",
      "Saved CT_IMAGE as resource in XNAT under experiment.\n",
      "hn3-radiomics;P0415C0006I1515168;P0415C0006I1515168;V_20220104_2357_ct_image;./NrrdFolder/ct_image.nrrd\n",
      "Done for RTStruct 1.3.6.1.4.1.32722.415.6.157719112599949588424759515356215932406 of subject P0415C0006I1515168 .... moving on ....\n"
     ]
    },
    {
     "name": "stderr",
     "output_type": "stream",
     "text": [
      "122.6 MiB | #                                                     |   1.6 MiB/s\n"
     ]
    },
    {
     "name": "stdout",
     "output_type": "stream",
     "text": [
      "Processing: P0415C0006I1827573\n",
      "Starting with RTStruct 1.3.6.1.4.1.32722.415.6.324711092101294101931232136710043517456\n",
      "Located GTV file : ./NrrdFolder/GTV-1.nrrd\n",
      "Saved MASK as resource in XNAT under experiment.\n",
      "hn3-radiomics;P0415C0006I1827573;P0415C0006I1827573;D_20220104_2357_GTV-1;./NrrdFolder/GTV-1.nrrd\n",
      "Located GTV file : ./NrrdFolder/GTV-2.nrrd\n",
      "Saved MASK as resource in XNAT under experiment.\n",
      "hn3-radiomics;P0415C0006I1827573;P0415C0006I1827573;D_20220104_2357_GTV-2;./NrrdFolder/GTV-2.nrrd\n",
      "Located CT IMAGE file : ./NrrdFolder/ct_image.nrrd\n",
      "Saved CT_IMAGE as resource in XNAT under experiment.\n",
      "hn3-radiomics;P0415C0006I1827573;P0415C0006I1827573;D_20220104_2357_ct_image;./NrrdFolder/ct_image.nrrd\n",
      "Done for RTStruct 1.3.6.1.4.1.32722.415.6.324711092101294101931232136710043517456 of subject P0415C0006I1827573 .... moving on ....\n"
     ]
    },
    {
     "name": "stderr",
     "output_type": "stream",
     "text": [
      " 87.4 MiB | #                                                     |   1.4 MiB/s\n"
     ]
    },
    {
     "name": "stdout",
     "output_type": "stream",
     "text": [
      "Processing: P0415C0006I2045556\n",
      "Starting with RTStruct 1.3.6.1.4.1.32722.415.6.201907043989653265925928445936575920674\n",
      "Located GTV file : ./NrrdFolder/GTV_1.nrrd\n",
      "Saved MASK as resource in XNAT under experiment.\n",
      "hn3-radiomics;P0415C0006I2045556;P0415C0006I2045556;D_20220104_2357_GTV_1;./NrrdFolder/GTV_1.nrrd\n",
      "Located CT IMAGE file : ./NrrdFolder/ct_image.nrrd\n",
      "Saved CT_IMAGE as resource in XNAT under experiment.\n",
      "hn3-radiomics;P0415C0006I2045556;P0415C0006I2045556;D_20220104_2357_ct_image;./NrrdFolder/ct_image.nrrd\n",
      "Done for RTStruct 1.3.6.1.4.1.32722.415.6.201907043989653265925928445936575920674 of subject P0415C0006I2045556 .... moving on ....\n"
     ]
    },
    {
     "name": "stderr",
     "output_type": "stream",
     "text": [
      " 85.3 MiB |                                  #                    |   1.2 MiB/s\n"
     ]
    },
    {
     "name": "stdout",
     "output_type": "stream",
     "text": [
      "Processing: P0415C0006I1145536\n",
      "Starting with RTStruct 1.3.6.1.4.1.32722.415.6.266788311329020120164220312797443133722\n",
      "Located GTV file : ./NrrdFolder/GTV-1.nrrd\n",
      "Saved MASK as resource in XNAT under experiment.\n",
      "hn3-radiomics;P0415C0006I1145536;P0415C0006I1145536;D_20220104_2357_GTV-1;./NrrdFolder/GTV-1.nrrd\n",
      "Located CT IMAGE file : ./NrrdFolder/ct_image.nrrd\n",
      "Saved CT_IMAGE as resource in XNAT under experiment.\n",
      "hn3-radiomics;P0415C0006I1145536;P0415C0006I1145536;D_20220104_2357_ct_image;./NrrdFolder/ct_image.nrrd\n",
      "Done for RTStruct 1.3.6.1.4.1.32722.415.6.266788311329020120164220312797443133722 of subject P0415C0006I1145536 .... moving on ....\n"
     ]
    },
    {
     "name": "stderr",
     "output_type": "stream",
     "text": [
      " 87.7 MiB |                                         #             |   1.4 MiB/s\n"
     ]
    },
    {
     "name": "stdout",
     "output_type": "stream",
     "text": [
      "Processing: P0415C0006I2046221\n",
      "Starting with RTStruct 1.3.6.1.4.1.32722.415.6.268808230841711329988919721446467902342\n",
      "Located GTV file : ./NrrdFolder/GTV_1.nrrd\n",
      "Saved MASK as resource in XNAT under experiment.\n",
      "hn3-radiomics;P0415C0006I2046221;P0415C0006I2046221;D_20220104_2357_GTV_1;./NrrdFolder/GTV_1.nrrd\n",
      "Located GTV file : ./NrrdFolder/GTV_2.nrrd\n",
      "Saved MASK as resource in XNAT under experiment.\n",
      "hn3-radiomics;P0415C0006I2046221;P0415C0006I2046221;D_20220104_2357_GTV_2;./NrrdFolder/GTV_2.nrrd\n",
      "Located CT IMAGE file : ./NrrdFolder/ct_image.nrrd\n",
      "Saved CT_IMAGE as resource in XNAT under experiment.\n",
      "hn3-radiomics;P0415C0006I2046221;P0415C0006I2046221;D_20220104_2357_ct_image;./NrrdFolder/ct_image.nrrd\n",
      "Done for RTStruct 1.3.6.1.4.1.32722.415.6.268808230841711329988919721446467902342 of subject P0415C0006I2046221 .... moving on ....\n"
     ]
    },
    {
     "name": "stderr",
     "output_type": "stream",
     "text": [
      " 88.0 MiB |                                           #           |   1.3 MiB/s\n"
     ]
    },
    {
     "name": "stdout",
     "output_type": "stream",
     "text": [
      "Processing: P0415C0006I2070210\n",
      "Starting with RTStruct 1.3.6.1.4.1.32722.415.6.73598854247028007643531764016575471977\n",
      "Located GTV file : ./NrrdFolder/GTV_1.nrrd\n",
      "Saved MASK as resource in XNAT under experiment.\n",
      "hn3-radiomics;P0415C0006I2070210;P0415C0006I2070210;D_20220104_2357_GTV_1;./NrrdFolder/GTV_1.nrrd\n",
      "Located GTV file : ./NrrdFolder/GTV_2.nrrd\n",
      "Saved MASK as resource in XNAT under experiment.\n",
      "hn3-radiomics;P0415C0006I2070210;P0415C0006I2070210;D_20220104_2357_GTV_2;./NrrdFolder/GTV_2.nrrd\n",
      "Located GTV file : ./NrrdFolder/GTV_3.nrrd\n",
      "Saved MASK as resource in XNAT under experiment.\n",
      "hn3-radiomics;P0415C0006I2070210;P0415C0006I2070210;D_20220104_2357_GTV_3;./NrrdFolder/GTV_3.nrrd\n",
      "Located CT IMAGE file : ./NrrdFolder/ct_image.nrrd\n",
      "Saved CT_IMAGE as resource in XNAT under experiment.\n",
      "hn3-radiomics;P0415C0006I2070210;P0415C0006I2070210;D_20220104_2357_ct_image;./NrrdFolder/ct_image.nrrd\n",
      "Done for RTStruct 1.3.6.1.4.1.32722.415.6.73598854247028007643531764016575471977 of subject P0415C0006I2070210 .... moving on ....\n"
     ]
    },
    {
     "name": "stderr",
     "output_type": "stream",
     "text": [
      " 80.3 MiB |#                                                      |   1.1 MiB/s\n"
     ]
    },
    {
     "name": "stdout",
     "output_type": "stream",
     "text": [
      "Processing: P0415C0006I2072630\n",
      "Starting with RTStruct 1.3.6.1.4.1.32722.415.6.329576209716667170496091945977730716616\n",
      "Located GTV file : ./NrrdFolder/GTVn_R.nrrd\n",
      "Saved MASK as resource in XNAT under experiment.\n",
      "hn3-radiomics;P0415C0006I2072630;P0415C0006I2072630;V_20220104_2357_GTVn_R;./NrrdFolder/GTVn_R.nrrd\n",
      "Located GTV file : ./NrrdFolder/GTVp1.nrrd\n",
      "Saved MASK as resource in XNAT under experiment.\n",
      "hn3-radiomics;P0415C0006I2072630;P0415C0006I2072630;V_20220104_2357_GTVp1;./NrrdFolder/GTVp1.nrrd\n",
      "Located CT IMAGE file : ./NrrdFolder/ct_image.nrrd\n",
      "Saved CT_IMAGE as resource in XNAT under experiment.\n",
      "hn3-radiomics;P0415C0006I2072630;P0415C0006I2072630;V_20220104_2357_ct_image;./NrrdFolder/ct_image.nrrd\n",
      "Done for RTStruct 1.3.6.1.4.1.32722.415.6.329576209716667170496091945977730716616 of subject P0415C0006I2072630 .... moving on ....\n"
     ]
    },
    {
     "name": "stderr",
     "output_type": "stream",
     "text": [
      " 84.2 MiB |                                       #               |   1.3 MiB/s\n"
     ]
    },
    {
     "name": "stdout",
     "output_type": "stream",
     "text": [
      "Processing: P0415C0006I2197346\n",
      "Starting with RTStruct 1.3.6.1.4.1.32722.415.6.317075079474502886594574907391650397264\n",
      "Located GTV file : ./NrrdFolder/GTV_1.nrrd\n",
      "Saved MASK as resource in XNAT under experiment.\n",
      "hn3-radiomics;P0415C0006I2197346;P0415C0006I2197346;D_20220104_2357_GTV_1;./NrrdFolder/GTV_1.nrrd\n",
      "Located GTV file : ./NrrdFolder/GTV_2.nrrd\n",
      "Saved MASK as resource in XNAT under experiment.\n",
      "hn3-radiomics;P0415C0006I2197346;P0415C0006I2197346;D_20220104_2357_GTV_2;./NrrdFolder/GTV_2.nrrd\n",
      "Located CT IMAGE file : ./NrrdFolder/ct_image.nrrd\n",
      "Saved CT_IMAGE as resource in XNAT under experiment.\n",
      "hn3-radiomics;P0415C0006I2197346;P0415C0006I2197346;D_20220104_2357_ct_image;./NrrdFolder/ct_image.nrrd\n",
      "Done for RTStruct 1.3.6.1.4.1.32722.415.6.317075079474502886594574907391650397264 of subject P0415C0006I2197346 .... moving on ....\n"
     ]
    },
    {
     "name": "stderr",
     "output_type": "stream",
     "text": [
      " 86.4 MiB |            #                                          |   1.6 MiB/s\n"
     ]
    },
    {
     "name": "stdout",
     "output_type": "stream",
     "text": [
      "Processing: P0415C0006I2358549\n",
      "Starting with RTStruct 1.3.6.1.4.1.32722.415.6.98476768591511605285168603173991424455\n",
      "Located GTV file : ./NrrdFolder/GTV-1.nrrd\n",
      "Saved MASK as resource in XNAT under experiment.\n",
      "hn3-radiomics;P0415C0006I2358549;P0415C0006I2358549;V_20220104_2357_GTV-1;./NrrdFolder/GTV-1.nrrd\n",
      "Located GTV file : ./NrrdFolder/GTV-2.nrrd\n",
      "Saved MASK as resource in XNAT under experiment.\n",
      "hn3-radiomics;P0415C0006I2358549;P0415C0006I2358549;V_20220104_2357_GTV-2;./NrrdFolder/GTV-2.nrrd\n",
      "Located GTV file : ./NrrdFolder/GTV-3.nrrd\n",
      "Saved MASK as resource in XNAT under experiment.\n",
      "hn3-radiomics;P0415C0006I2358549;P0415C0006I2358549;V_20220104_2357_GTV-3;./NrrdFolder/GTV-3.nrrd\n",
      "Located CT IMAGE file : ./NrrdFolder/ct_image.nrrd\n",
      "Saved CT_IMAGE as resource in XNAT under experiment.\n",
      "hn3-radiomics;P0415C0006I2358549;P0415C0006I2358549;V_20220104_2357_ct_image;./NrrdFolder/ct_image.nrrd\n",
      "Done for RTStruct 1.3.6.1.4.1.32722.415.6.98476768591511605285168603173991424455 of subject P0415C0006I2358549 .... moving on ....\n"
     ]
    },
    {
     "name": "stderr",
     "output_type": "stream",
     "text": [
      " 88.2 MiB |                                                   #   |   1.3 MiB/s\n"
     ]
    },
    {
     "name": "stdout",
     "output_type": "stream",
     "text": [
      "Processing: P0415C0006I759713\n",
      "Starting with RTStruct 1.3.6.1.4.1.32722.415.6.28336669516192656896610002113689044836\n",
      "Located GTV file : ./NrrdFolder/GTV_1.nrrd\n",
      "Saved MASK as resource in XNAT under experiment.\n",
      "hn3-radiomics;P0415C0006I759713;P0415C0006I759713;D_20220104_2357_GTV_1;./NrrdFolder/GTV_1.nrrd\n",
      "Located GTV file : ./NrrdFolder/GTV_2.nrrd\n",
      "Saved MASK as resource in XNAT under experiment.\n",
      "hn3-radiomics;P0415C0006I759713;P0415C0006I759713;D_20220104_2357_GTV_2;./NrrdFolder/GTV_2.nrrd\n",
      "Located GTV file : ./NrrdFolder/GTV_3.nrrd\n",
      "Saved MASK as resource in XNAT under experiment.\n",
      "hn3-radiomics;P0415C0006I759713;P0415C0006I759713;D_20220104_2357_GTV_3;./NrrdFolder/GTV_3.nrrd\n",
      "Located CT IMAGE file : ./NrrdFolder/ct_image.nrrd\n",
      "Saved CT_IMAGE as resource in XNAT under experiment.\n",
      "hn3-radiomics;P0415C0006I759713;P0415C0006I759713;D_20220104_2357_ct_image;./NrrdFolder/ct_image.nrrd\n",
      "Done for RTStruct 1.3.6.1.4.1.32722.415.6.28336669516192656896610002113689044836 of subject P0415C0006I759713 .... moving on ....\n"
     ]
    },
    {
     "name": "stderr",
     "output_type": "stream",
     "text": [
      " 78.5 MiB |                            #                          |   1.2 MiB/s\n"
     ]
    },
    {
     "name": "stdout",
     "output_type": "stream",
     "text": [
      "Processing: P0415C0006I2573595\n",
      "Starting with RTStruct 1.3.6.1.4.1.32722.415.6.117470453197482688553783559826533050324\n",
      "Located GTV file : ./NrrdFolder/GTV-1.nrrd\n",
      "Saved MASK as resource in XNAT under experiment.\n",
      "hn3-radiomics;P0415C0006I2573595;P0415C0006I2573595;D_20220104_2357_GTV-1;./NrrdFolder/GTV-1.nrrd\n",
      "Located GTV file : ./NrrdFolder/GTV-2.nrrd\n",
      "Saved MASK as resource in XNAT under experiment.\n",
      "hn3-radiomics;P0415C0006I2573595;P0415C0006I2573595;D_20220104_2357_GTV-2;./NrrdFolder/GTV-2.nrrd\n",
      "Located GTV file : ./NrrdFolder/GTV-3.nrrd\n",
      "Saved MASK as resource in XNAT under experiment.\n",
      "hn3-radiomics;P0415C0006I2573595;P0415C0006I2573595;D_20220104_2357_GTV-3;./NrrdFolder/GTV-3.nrrd\n",
      "Located CT IMAGE file : ./NrrdFolder/ct_image.nrrd\n",
      "Saved CT_IMAGE as resource in XNAT under experiment.\n",
      "hn3-radiomics;P0415C0006I2573595;P0415C0006I2573595;D_20220104_2357_ct_image;./NrrdFolder/ct_image.nrrd\n",
      "Done for RTStruct 1.3.6.1.4.1.32722.415.6.117470453197482688553783559826533050324 of subject P0415C0006I2573595 .... moving on ....\n"
     ]
    },
    {
     "name": "stderr",
     "output_type": "stream",
     "text": [
      " 76.8 MiB |                    #                                  |   1.4 MiB/s\n"
     ]
    },
    {
     "name": "stdout",
     "output_type": "stream",
     "text": [
      "Processing: P0415C0006I3307786\n",
      "Starting with RTStruct 1.3.6.1.4.1.32722.415.6.58950008513136757651677600760891523925\n",
      "Located GTV file : ./NrrdFolder/GTV-1.nrrd\n",
      "Saved MASK as resource in XNAT under experiment.\n",
      "hn3-radiomics;P0415C0006I3307786;P0415C0006I3307786;D_20220104_2357_GTV-1;./NrrdFolder/GTV-1.nrrd\n",
      "Located GTV file : ./NrrdFolder/GTVPTV.nrrd\n",
      "Saved MASK as resource in XNAT under experiment.\n",
      "hn3-radiomics;P0415C0006I3307786;P0415C0006I3307786;D_20220104_2357_GTVPTV;./NrrdFolder/GTVPTV.nrrd\n",
      "Located CT IMAGE file : ./NrrdFolder/ct_image.nrrd\n",
      "Saved CT_IMAGE as resource in XNAT under experiment.\n",
      "hn3-radiomics;P0415C0006I3307786;P0415C0006I3307786;D_20220104_2357_ct_image;./NrrdFolder/ct_image.nrrd\n",
      "Done for RTStruct 1.3.6.1.4.1.32722.415.6.58950008513136757651677600760891523925 of subject P0415C0006I3307786 .... moving on ....\n"
     ]
    },
    {
     "name": "stderr",
     "output_type": "stream",
     "text": [
      " 82.9 MiB |               #                                       |   1.5 MiB/s\n"
     ]
    },
    {
     "name": "stdout",
     "output_type": "stream",
     "text": [
      "Processing: P0415C0006I2798485\n",
      "Starting with RTStruct 1.3.6.1.4.1.32722.415.6.213399442867255369618391566256726007527\n",
      "Located GTV file : ./NrrdFolder/GTV-1.nrrd\n",
      "Saved MASK as resource in XNAT under experiment.\n",
      "hn3-radiomics;P0415C0006I2798485;P0415C0006I2798485;D_20220104_2357_GTV-1;./NrrdFolder/GTV-1.nrrd\n",
      "Located GTV file : ./NrrdFolder/GTV-2.nrrd\n",
      "Saved MASK as resource in XNAT under experiment.\n",
      "hn3-radiomics;P0415C0006I2798485;P0415C0006I2798485;D_20220104_2357_GTV-2;./NrrdFolder/GTV-2.nrrd\n",
      "Located GTV file : ./NrrdFolder/GTV-3.nrrd\n",
      "Saved MASK as resource in XNAT under experiment.\n",
      "hn3-radiomics;P0415C0006I2798485;P0415C0006I2798485;D_20220104_2357_GTV-3;./NrrdFolder/GTV-3.nrrd\n",
      "Located CT IMAGE file : ./NrrdFolder/ct_image.nrrd\n",
      "Saved CT_IMAGE as resource in XNAT under experiment.\n",
      "hn3-radiomics;P0415C0006I2798485;P0415C0006I2798485;D_20220104_2357_ct_image;./NrrdFolder/ct_image.nrrd\n",
      "Done for RTStruct 1.3.6.1.4.1.32722.415.6.213399442867255369618391566256726007527 of subject P0415C0006I2798485 .... moving on ....\n"
     ]
    },
    {
     "name": "stderr",
     "output_type": "stream",
     "text": [
      " 88.0 MiB |                           #                           |   1.5 MiB/s\n"
     ]
    },
    {
     "name": "stdout",
     "output_type": "stream",
     "text": [
      "Processing: P0415C0006I824087\n",
      "Starting with RTStruct 1.3.6.1.4.1.32722.415.6.209059977860122582777433126349738240113\n",
      "Located GTV file : ./NrrdFolder/GTV_1.nrrd\n",
      "Saved MASK as resource in XNAT under experiment.\n",
      "hn3-radiomics;P0415C0006I824087;P0415C0006I824087;D_20220104_2357_GTV_1;./NrrdFolder/GTV_1.nrrd\n",
      "Located GTV file : ./NrrdFolder/GTV_2.nrrd\n",
      "Saved MASK as resource in XNAT under experiment.\n",
      "hn3-radiomics;P0415C0006I824087;P0415C0006I824087;D_20220104_2357_GTV_2;./NrrdFolder/GTV_2.nrrd\n",
      "Located GTV file : ./NrrdFolder/GTV_3.nrrd\n",
      "Saved MASK as resource in XNAT under experiment.\n",
      "hn3-radiomics;P0415C0006I824087;P0415C0006I824087;D_20220104_2357_GTV_3;./NrrdFolder/GTV_3.nrrd\n",
      "Located CT IMAGE file : ./NrrdFolder/ct_image.nrrd\n",
      "Saved CT_IMAGE as resource in XNAT under experiment.\n",
      "hn3-radiomics;P0415C0006I824087;P0415C0006I824087;D_20220104_2357_ct_image;./NrrdFolder/ct_image.nrrd\n",
      "Done for RTStruct 1.3.6.1.4.1.32722.415.6.209059977860122582777433126349738240113 of subject P0415C0006I824087 .... moving on ....\n"
     ]
    },
    {
     "name": "stderr",
     "output_type": "stream",
     "text": [
      " 85.9 MiB |       #                                               |   1.3 MiB/s\n"
     ]
    },
    {
     "name": "stdout",
     "output_type": "stream",
     "text": [
      "Processing: P0415C0006I3063288\n",
      "Starting with RTStruct 1.3.6.1.4.1.32722.415.6.139801404631733643763802024338717365918\n",
      "Located GTV file : ./NrrdFolder/GTV_1.nrrd\n",
      "Saved MASK as resource in XNAT under experiment.\n",
      "hn3-radiomics;P0415C0006I3063288;P0415C0006I3063288;D_20220104_2357_GTV_1;./NrrdFolder/GTV_1.nrrd\n",
      "Located GTV file : ./NrrdFolder/GTV_2.nrrd\n",
      "Saved MASK as resource in XNAT under experiment.\n",
      "hn3-radiomics;P0415C0006I3063288;P0415C0006I3063288;D_20220104_2357_GTV_2;./NrrdFolder/GTV_2.nrrd\n",
      "Located CT IMAGE file : ./NrrdFolder/ct_image.nrrd\n",
      "Saved CT_IMAGE as resource in XNAT under experiment.\n",
      "hn3-radiomics;P0415C0006I3063288;P0415C0006I3063288;D_20220104_2357_ct_image;./NrrdFolder/ct_image.nrrd\n",
      "Done for RTStruct 1.3.6.1.4.1.32722.415.6.139801404631733643763802024338717365918 of subject P0415C0006I3063288 .... moving on ....\n"
     ]
    },
    {
     "name": "stderr",
     "output_type": "stream",
     "text": [
      " 76.4 MiB |                     #                                 |   1.8 MiB/s\n"
     ]
    },
    {
     "name": "stdout",
     "output_type": "stream",
     "text": [
      "Processing: P0415C0006I2773423\n",
      "Starting with RTStruct 1.3.6.1.4.1.32722.415.6.64514419098246390865863599246374332267\n",
      "Located GTV file : ./NrrdFolder/GTV-1.nrrd\n",
      "Saved MASK as resource in XNAT under experiment.\n",
      "hn3-radiomics;P0415C0006I2773423;P0415C0006I2773423;D_20220104_2357_GTV-1;./NrrdFolder/GTV-1.nrrd\n",
      "Located GTV file : ./NrrdFolder/GTV-2.nrrd\n",
      "Saved MASK as resource in XNAT under experiment.\n",
      "hn3-radiomics;P0415C0006I2773423;P0415C0006I2773423;D_20220104_2357_GTV-2;./NrrdFolder/GTV-2.nrrd\n",
      "Located CT IMAGE file : ./NrrdFolder/ct_image.nrrd\n",
      "Saved CT_IMAGE as resource in XNAT under experiment.\n",
      "hn3-radiomics;P0415C0006I2773423;P0415C0006I2773423;D_20220104_2357_ct_image;./NrrdFolder/ct_image.nrrd\n",
      "Done for RTStruct 1.3.6.1.4.1.32722.415.6.64514419098246390865863599246374332267 of subject P0415C0006I2773423 .... moving on ....\n"
     ]
    },
    {
     "name": "stderr",
     "output_type": "stream",
     "text": [
      " 86.7 MiB |  #                                                    |   1.5 MiB/s\n"
     ]
    },
    {
     "name": "stdout",
     "output_type": "stream",
     "text": [
      "Processing: P0415C0006I281543\n",
      "Starting with RTStruct 1.3.6.1.4.1.32722.415.6.332508693361269324624789759097937806720\n",
      "Located GTV file : ./NrrdFolder/GTV_1.nrrd\n",
      "Saved MASK as resource in XNAT under experiment.\n",
      "hn3-radiomics;P0415C0006I281543;P0415C0006I281543;D_20220104_2357_GTV_1;./NrrdFolder/GTV_1.nrrd\n",
      "Located GTV file : ./NrrdFolder/GTV_2.nrrd\n",
      "Saved MASK as resource in XNAT under experiment.\n",
      "hn3-radiomics;P0415C0006I281543;P0415C0006I281543;D_20220104_2357_GTV_2;./NrrdFolder/GTV_2.nrrd\n",
      "Located CT IMAGE file : ./NrrdFolder/ct_image.nrrd\n",
      "Saved CT_IMAGE as resource in XNAT under experiment.\n",
      "hn3-radiomics;P0415C0006I281543;P0415C0006I281543;D_20220104_2357_ct_image;./NrrdFolder/ct_image.nrrd\n",
      "Done for RTStruct 1.3.6.1.4.1.32722.415.6.332508693361269324624789759097937806720 of subject P0415C0006I281543 .... moving on ....\n"
     ]
    },
    {
     "name": "stderr",
     "output_type": "stream",
     "text": [
      " 78.5 MiB |                          #                            |   1.5 MiB/s\n"
     ]
    },
    {
     "name": "stdout",
     "output_type": "stream",
     "text": [
      "Processing: P0415C0006I809977\n",
      "Starting with RTStruct 1.3.6.1.4.1.32722.415.6.109741206509159755201881796247268736185\n",
      "Located GTV file : ./NrrdFolder/GTV-1.nrrd\n",
      "Saved MASK as resource in XNAT under experiment.\n",
      "hn3-radiomics;P0415C0006I809977;P0415C0006I809977;D_20220104_2357_GTV-1;./NrrdFolder/GTV-1.nrrd\n",
      "Located GTV file : ./NrrdFolder/GTV-2.nrrd\n",
      "Saved MASK as resource in XNAT under experiment.\n",
      "hn3-radiomics;P0415C0006I809977;P0415C0006I809977;D_20220104_2357_GTV-2;./NrrdFolder/GTV-2.nrrd\n",
      "Located CT IMAGE file : ./NrrdFolder/ct_image.nrrd\n",
      "Saved CT_IMAGE as resource in XNAT under experiment.\n",
      "hn3-radiomics;P0415C0006I809977;P0415C0006I809977;D_20220104_2357_ct_image;./NrrdFolder/ct_image.nrrd\n",
      "Done for RTStruct 1.3.6.1.4.1.32722.415.6.109741206509159755201881796247268736185 of subject P0415C0006I809977 .... moving on ....\n"
     ]
    },
    {
     "name": "stderr",
     "output_type": "stream",
     "text": [
      " 88.4 MiB |        #                                              |   1.3 MiB/s\n"
     ]
    },
    {
     "name": "stdout",
     "output_type": "stream",
     "text": [
      "Processing: P0415C0006I922801\n",
      "Starting with RTStruct 1.3.6.1.4.1.32722.415.6.114162394196133488838126596564391110953\n",
      "Located GTV file : ./NrrdFolder/GTVn_R.nrrd\n",
      "Saved MASK as resource in XNAT under experiment.\n",
      "hn3-radiomics;P0415C0006I922801;P0415C0006I922801;D_20220104_2357_GTVn_R;./NrrdFolder/GTVn_R.nrrd\n",
      "Located GTV file : ./NrrdFolder/GTVp1.nrrd\n",
      "Saved MASK as resource in XNAT under experiment.\n",
      "hn3-radiomics;P0415C0006I922801;P0415C0006I922801;D_20220104_2357_GTVp1;./NrrdFolder/GTVp1.nrrd\n",
      "Located CT IMAGE file : ./NrrdFolder/ct_image.nrrd\n",
      "Saved CT_IMAGE as resource in XNAT under experiment.\n",
      "hn3-radiomics;P0415C0006I922801;P0415C0006I922801;D_20220104_2357_ct_image;./NrrdFolder/ct_image.nrrd\n",
      "Done for RTStruct 1.3.6.1.4.1.32722.415.6.114162394196133488838126596564391110953 of subject P0415C0006I922801 .... moving on ....\n"
     ]
    },
    {
     "name": "stderr",
     "output_type": "stream",
     "text": [
      " 77.2 MiB | #                                                     |   1.6 MiB/s\n"
     ]
    },
    {
     "name": "stdout",
     "output_type": "stream",
     "text": [
      "Processing: P0415C0006I970723\n",
      "Starting with RTStruct 1.3.6.1.4.1.32722.415.6.34253698196097761849810684964479394492\n",
      "Located GTV file : ./NrrdFolder/GTVn_L.nrrd\n",
      "Saved MASK as resource in XNAT under experiment.\n",
      "hn3-radiomics;P0415C0006I970723;P0415C0006I970723;D_20220104_2357_GTVn_L;./NrrdFolder/GTVn_L.nrrd\n",
      "Located GTV file : ./NrrdFolder/GTVp1.nrrd\n",
      "Saved MASK as resource in XNAT under experiment.\n",
      "hn3-radiomics;P0415C0006I970723;P0415C0006I970723;D_20220104_2357_GTVp1;./NrrdFolder/GTVp1.nrrd\n",
      "Located CT IMAGE file : ./NrrdFolder/ct_image.nrrd\n",
      "Saved CT_IMAGE as resource in XNAT under experiment.\n",
      "hn3-radiomics;P0415C0006I970723;P0415C0006I970723;D_20220104_2357_ct_image;./NrrdFolder/ct_image.nrrd\n",
      "Done for RTStruct 1.3.6.1.4.1.32722.415.6.34253698196097761849810684964479394492 of subject P0415C0006I970723 .... moving on ....\n"
     ]
    },
    {
     "name": "stderr",
     "output_type": "stream",
     "text": [
      "215.0 MiB |                        #                              |   1.4 MiB/s\n"
     ]
    },
    {
     "name": "stdout",
     "output_type": "stream",
     "text": [
      "Processing: P0415C0006I3280407\n",
      "Starting with RTStruct 1.3.6.1.4.1.32722.415.6.103750846528600371051351618681180885320\n",
      "Located GTV file : ./NrrdFolder/GTV_1.nrrd\n",
      "Saved MASK as resource in XNAT under experiment.\n",
      "hn3-radiomics;P0415C0006I3280407;P0415C0006I3280407;V_20220104_2357_GTV_1;./NrrdFolder/GTV_1.nrrd\n",
      "Located GTV file : ./NrrdFolder/GTV_2.nrrd\n",
      "Saved MASK as resource in XNAT under experiment.\n",
      "hn3-radiomics;P0415C0006I3280407;P0415C0006I3280407;V_20220104_2357_GTV_2;./NrrdFolder/GTV_2.nrrd\n",
      "Located CT IMAGE file : ./NrrdFolder/ct_image.nrrd\n",
      "Saved CT_IMAGE as resource in XNAT under experiment.\n",
      "hn3-radiomics;P0415C0006I3280407;P0415C0006I3280407;V_20220104_2357_ct_image;./NrrdFolder/ct_image.nrrd\n",
      "Done for RTStruct 1.3.6.1.4.1.32722.415.6.103750846528600371051351618681180885320 of subject P0415C0006I3280407 .... moving on ....\n"
     ]
    },
    {
     "name": "stderr",
     "output_type": "stream",
     "text": [
      " 78.9 MiB |                         #                             |   1.3 MiB/s\n"
     ]
    },
    {
     "name": "stdout",
     "output_type": "stream",
     "text": [
      "Processing: P0415C0006I882805\n",
      "Starting with RTStruct 1.3.6.1.4.1.32722.415.6.203032331972415524361592733733170938590\n",
      "Located GTV file : ./NrrdFolder/GTV-1.nrrd\n",
      "Saved MASK as resource in XNAT under experiment.\n",
      "hn3-radiomics;P0415C0006I882805;P0415C0006I882805;D_20220104_2357_GTV-1;./NrrdFolder/GTV-1.nrrd\n",
      "Located GTV file : ./NrrdFolder/GTV-2.nrrd\n",
      "Saved MASK as resource in XNAT under experiment.\n",
      "hn3-radiomics;P0415C0006I882805;P0415C0006I882805;D_20220104_2357_GTV-2;./NrrdFolder/GTV-2.nrrd\n",
      "Located GTV file : ./NrrdFolder/GTV-3.nrrd\n",
      "Saved MASK as resource in XNAT under experiment.\n",
      "hn3-radiomics;P0415C0006I882805;P0415C0006I882805;D_20220104_2357_GTV-3;./NrrdFolder/GTV-3.nrrd\n",
      "Located CT IMAGE file : ./NrrdFolder/ct_image.nrrd\n",
      "Saved CT_IMAGE as resource in XNAT under experiment.\n",
      "hn3-radiomics;P0415C0006I882805;P0415C0006I882805;D_20220104_2357_ct_image;./NrrdFolder/ct_image.nrrd\n",
      "Done for RTStruct 1.3.6.1.4.1.32722.415.6.203032331972415524361592733733170938590 of subject P0415C0006I882805 .... moving on ....\n"
     ]
    },
    {
     "name": "stderr",
     "output_type": "stream",
     "text": [
      " 76.5 MiB |                           #                           |   1.5 MiB/s\n"
     ]
    },
    {
     "name": "stdout",
     "output_type": "stream",
     "text": [
      "Processing: P0415C0006I266334\n",
      "Starting with RTStruct 1.3.6.1.4.1.32722.415.6.92382522304796634679899195816326097681\n",
      "Located GTV file : ./NrrdFolder/GTV-1.nrrd\n",
      "Saved MASK as resource in XNAT under experiment.\n",
      "hn3-radiomics;P0415C0006I266334;P0415C0006I266334;D_20220104_2357_GTV-1;./NrrdFolder/GTV-1.nrrd\n",
      "Located GTV file : ./NrrdFolder/GTV-2.nrrd\n",
      "Saved MASK as resource in XNAT under experiment.\n",
      "hn3-radiomics;P0415C0006I266334;P0415C0006I266334;D_20220104_2357_GTV-2;./NrrdFolder/GTV-2.nrrd\n",
      "Located CT IMAGE file : ./NrrdFolder/ct_image.nrrd\n",
      "Saved CT_IMAGE as resource in XNAT under experiment.\n",
      "hn3-radiomics;P0415C0006I266334;P0415C0006I266334;D_20220104_2357_ct_image;./NrrdFolder/ct_image.nrrd\n",
      "Done for RTStruct 1.3.6.1.4.1.32722.415.6.92382522304796634679899195816326097681 of subject P0415C0006I266334 .... moving on ....\n"
     ]
    },
    {
     "name": "stderr",
     "output_type": "stream",
     "text": [
      " 77.6 MiB |           #                                           |   1.6 MiB/s\n"
     ]
    },
    {
     "name": "stdout",
     "output_type": "stream",
     "text": [
      "Processing: P0415C0006I3244283\n",
      "Starting with RTStruct 1.3.6.1.4.1.32722.415.6.323265841529600626351314975798782743967\n",
      "Located GTV file : ./NrrdFolder/GTV-1.nrrd\n",
      "Saved MASK as resource in XNAT under experiment.\n",
      "hn3-radiomics;P0415C0006I3244283;P0415C0006I3244283;V_20220104_2357_GTV-1;./NrrdFolder/GTV-1.nrrd\n",
      "Located CT IMAGE file : ./NrrdFolder/ct_image.nrrd\n",
      "Saved CT_IMAGE as resource in XNAT under experiment.\n",
      "hn3-radiomics;P0415C0006I3244283;P0415C0006I3244283;V_20220104_2357_ct_image;./NrrdFolder/ct_image.nrrd\n",
      "Done for RTStruct 1.3.6.1.4.1.32722.415.6.323265841529600626351314975798782743967 of subject P0415C0006I3244283 .... moving on ....\n"
     ]
    },
    {
     "name": "stderr",
     "output_type": "stream",
     "text": [
      " 76.0 MiB |   #                                                   |   1.2 MiB/s\n"
     ]
    },
    {
     "name": "stdout",
     "output_type": "stream",
     "text": [
      "Processing: P0415C0006I2936910\n",
      "Starting with RTStruct 1.3.6.1.4.1.32722.415.6.178547918014071149779342266025194927625\n",
      "Located GTV file : ./NrrdFolder/GTV-1.nrrd\n",
      "Saved MASK as resource in XNAT under experiment.\n",
      "hn3-radiomics;P0415C0006I2936910;P0415C0006I2936910;D_20220104_2357_GTV-1;./NrrdFolder/GTV-1.nrrd\n",
      "Located GTV file : ./NrrdFolder/GTV-2.nrrd\n",
      "Saved MASK as resource in XNAT under experiment.\n",
      "hn3-radiomics;P0415C0006I2936910;P0415C0006I2936910;D_20220104_2357_GTV-2;./NrrdFolder/GTV-2.nrrd\n",
      "Located CT IMAGE file : ./NrrdFolder/ct_image.nrrd\n",
      "Saved CT_IMAGE as resource in XNAT under experiment.\n",
      "hn3-radiomics;P0415C0006I2936910;P0415C0006I2936910;D_20220104_2357_ct_image;./NrrdFolder/ct_image.nrrd\n",
      "Done for RTStruct 1.3.6.1.4.1.32722.415.6.178547918014071149779342266025194927625 of subject P0415C0006I2936910 .... moving on ....\n"
     ]
    },
    {
     "name": "stderr",
     "output_type": "stream",
     "text": [
      " 86.4 MiB |                             #                         |   1.5 MiB/s\n"
     ]
    },
    {
     "name": "stdout",
     "output_type": "stream",
     "text": [
      "Processing: P0415C0006I3142066\n",
      "Starting with RTStruct 1.3.6.1.4.1.32722.415.6.327872164562564507710262864079997282397\n",
      "Located GTV file : ./NrrdFolder/GTV-1.nrrd\n",
      "Saved MASK as resource in XNAT under experiment.\n",
      "hn3-radiomics;P0415C0006I3142066;P0415C0006I3142066;V_20220104_2357_GTV-1;./NrrdFolder/GTV-1.nrrd\n",
      "Located GTV file : ./NrrdFolder/GTV-2pre-op.nrrd\n",
      "Saved MASK as resource in XNAT under experiment.\n",
      "hn3-radiomics;P0415C0006I3142066;P0415C0006I3142066;V_20220104_2357_GTV-2pre-op;./NrrdFolder/GTV-2pre-op.nrrd\n",
      "Located CT IMAGE file : ./NrrdFolder/ct_image.nrrd\n",
      "Saved CT_IMAGE as resource in XNAT under experiment.\n",
      "hn3-radiomics;P0415C0006I3142066;P0415C0006I3142066;V_20220104_2357_ct_image;./NrrdFolder/ct_image.nrrd\n",
      "Done for RTStruct 1.3.6.1.4.1.32722.415.6.327872164562564507710262864079997282397 of subject P0415C0006I3142066 .... moving on ....\n"
     ]
    },
    {
     "name": "stderr",
     "output_type": "stream",
     "text": [
      " 78.4 MiB |                #                                      |   1.6 MiB/s\n"
     ]
    },
    {
     "name": "stdout",
     "output_type": "stream",
     "text": [
      "Processing: P0415C0006I2770066\n",
      "Starting with RTStruct 1.3.6.1.4.1.32722.415.6.83900547063821277725645562675718544937\n",
      "Located GTV file : ./NrrdFolder/GTV-1.nrrd\n",
      "Saved MASK as resource in XNAT under experiment.\n",
      "hn3-radiomics;P0415C0006I2770066;P0415C0006I2770066;D_20220104_2357_GTV-1;./NrrdFolder/GTV-1.nrrd\n",
      "Located GTV file : ./NrrdFolder/GTV2.nrrd\n",
      "Saved MASK as resource in XNAT under experiment.\n",
      "hn3-radiomics;P0415C0006I2770066;P0415C0006I2770066;D_20220104_2357_GTV2;./NrrdFolder/GTV2.nrrd\n",
      "Located GTV file : ./NrrdFolder/GTV3.nrrd\n",
      "Saved MASK as resource in XNAT under experiment.\n",
      "hn3-radiomics;P0415C0006I2770066;P0415C0006I2770066;D_20220104_2357_GTV3;./NrrdFolder/GTV3.nrrd\n",
      "Located CT IMAGE file : ./NrrdFolder/ct_image.nrrd\n",
      "Saved CT_IMAGE as resource in XNAT under experiment.\n",
      "hn3-radiomics;P0415C0006I2770066;P0415C0006I2770066;D_20220104_2357_ct_image;./NrrdFolder/ct_image.nrrd\n",
      "Done for RTStruct 1.3.6.1.4.1.32722.415.6.83900547063821277725645562675718544937 of subject P0415C0006I2770066 .... moving on ....\n"
     ]
    },
    {
     "name": "stderr",
     "output_type": "stream",
     "text": [
      " 76.6 MiB |                #                                      |   1.3 MiB/s\n"
     ]
    },
    {
     "name": "stdout",
     "output_type": "stream",
     "text": [
      "Processing: P0415C0006I3272753\n",
      "Starting with RTStruct 1.3.6.1.4.1.32722.415.6.324043687368626800375020056647674569828\n",
      "Located GTV file : ./NrrdFolder/GTV-1+2.nrrd\n",
      "Saved MASK as resource in XNAT under experiment.\n",
      "hn3-radiomics;P0415C0006I3272753;P0415C0006I3272753;D_20220104_2357_GTV-1+2;./NrrdFolder/GTV-1+2.nrrd\n",
      "Located GTV file : ./NrrdFolder/GTV-3.nrrd\n",
      "Saved MASK as resource in XNAT under experiment.\n",
      "hn3-radiomics;P0415C0006I3272753;P0415C0006I3272753;D_20220104_2357_GTV-3;./NrrdFolder/GTV-3.nrrd\n",
      "Located CT IMAGE file : ./NrrdFolder/ct_image.nrrd\n",
      "Saved CT_IMAGE as resource in XNAT under experiment.\n",
      "hn3-radiomics;P0415C0006I3272753;P0415C0006I3272753;D_20220104_2357_ct_image;./NrrdFolder/ct_image.nrrd\n",
      "Done for RTStruct 1.3.6.1.4.1.32722.415.6.324043687368626800375020056647674569828 of subject P0415C0006I3272753 .... moving on ....\n"
     ]
    },
    {
     "name": "stderr",
     "output_type": "stream",
     "text": [
      " 99.5 MiB |     #                                                 |   1.3 MiB/s\n"
     ]
    },
    {
     "name": "stdout",
     "output_type": "stream",
     "text": [
      "Processing: P0415C0006I860022\n",
      "Starting with RTStruct 1.3.6.1.4.1.32722.415.6.56263427382352722950302718549218037348\n",
      "Located GTV file : ./NrrdFolder/GTV-1.nrrd\n",
      "Saved MASK as resource in XNAT under experiment.\n",
      "hn3-radiomics;P0415C0006I860022;P0415C0006I860022;D_20220104_2357_GTV-1;./NrrdFolder/GTV-1.nrrd\n",
      "Located GTV file : ./NrrdFolder/GTV-2.nrrd\n",
      "Saved MASK as resource in XNAT under experiment.\n",
      "hn3-radiomics;P0415C0006I860022;P0415C0006I860022;D_20220104_2357_GTV-2;./NrrdFolder/GTV-2.nrrd\n",
      "Located GTV file : ./NrrdFolder/GTV-3.nrrd\n",
      "Saved MASK as resource in XNAT under experiment.\n",
      "hn3-radiomics;P0415C0006I860022;P0415C0006I860022;D_20220104_2357_GTV-3;./NrrdFolder/GTV-3.nrrd\n",
      "Located CT IMAGE file : ./NrrdFolder/ct_image.nrrd\n",
      "Saved CT_IMAGE as resource in XNAT under experiment.\n",
      "hn3-radiomics;P0415C0006I860022;P0415C0006I860022;D_20220104_2357_ct_image;./NrrdFolder/ct_image.nrrd\n",
      "Done for RTStruct 1.3.6.1.4.1.32722.415.6.56263427382352722950302718549218037348 of subject P0415C0006I860022 .... moving on ....\n"
     ]
    },
    {
     "name": "stderr",
     "output_type": "stream",
     "text": [
      " 94.0 MiB |                                                   #   |   1.3 MiB/s\n"
     ]
    },
    {
     "name": "stdout",
     "output_type": "stream",
     "text": [
      "Processing: P0415C0006I3175363\n",
      "Starting with RTStruct 1.3.6.1.4.1.32722.415.6.80228690105997193216856947228448556455\n",
      "Located GTV file : ./NrrdFolder/GTV_1.nrrd\n",
      "Saved MASK as resource in XNAT under experiment.\n",
      "hn3-radiomics;P0415C0006I3175363;P0415C0006I3175363;D_20220104_2357_GTV_1;./NrrdFolder/GTV_1.nrrd\n",
      "Located CT IMAGE file : ./NrrdFolder/ct_image.nrrd\n",
      "Saved CT_IMAGE as resource in XNAT under experiment.\n",
      "hn3-radiomics;P0415C0006I3175363;P0415C0006I3175363;D_20220104_2357_ct_image;./NrrdFolder/ct_image.nrrd\n",
      "Done for RTStruct 1.3.6.1.4.1.32722.415.6.80228690105997193216856947228448556455 of subject P0415C0006I3175363 .... moving on ....\n"
     ]
    },
    {
     "name": "stderr",
     "output_type": "stream",
     "text": [
      " 85.3 MiB |       #                                               |   1.4 MiB/s\n"
     ]
    },
    {
     "name": "stdout",
     "output_type": "stream",
     "text": [
      "Processing: P0415C0006I3094333\n",
      "Starting with RTStruct 1.3.6.1.4.1.32722.415.6.58484086759566862830022908211154418725\n",
      "Located GTV file : ./NrrdFolder/GTVp1.nrrd\n",
      "Saved MASK as resource in XNAT under experiment.\n",
      "hn3-radiomics;P0415C0006I3094333;P0415C0006I3094333;D_20220104_2357_GTVp1;./NrrdFolder/GTVp1.nrrd\n",
      "Located CT IMAGE file : ./NrrdFolder/ct_image.nrrd\n",
      "Saved CT_IMAGE as resource in XNAT under experiment.\n",
      "hn3-radiomics;P0415C0006I3094333;P0415C0006I3094333;D_20220104_2357_ct_image;./NrrdFolder/ct_image.nrrd\n",
      "Done for RTStruct 1.3.6.1.4.1.32722.415.6.58484086759566862830022908211154418725 of subject P0415C0006I3094333 .... moving on ....\n"
     ]
    },
    {
     "name": "stderr",
     "output_type": "stream",
     "text": [
      " 86.9 MiB |                               #                       |   1.3 MiB/s\n"
     ]
    },
    {
     "name": "stdout",
     "output_type": "stream",
     "text": [
      "Processing: P0415C0006I825592\n",
      "Starting with RTStruct 1.3.6.1.4.1.32722.415.6.267923766980408203183547461804387098519\n",
      "Located GTV file : ./NrrdFolder/GTV_1.nrrd\n",
      "Saved MASK as resource in XNAT under experiment.\n",
      "hn3-radiomics;P0415C0006I825592;P0415C0006I825592;D_20220104_2357_GTV_1;./NrrdFolder/GTV_1.nrrd\n",
      "Located CT IMAGE file : ./NrrdFolder/ct_image.nrrd\n",
      "Saved CT_IMAGE as resource in XNAT under experiment.\n",
      "hn3-radiomics;P0415C0006I825592;P0415C0006I825592;D_20220104_2357_ct_image;./NrrdFolder/ct_image.nrrd\n",
      "Done for RTStruct 1.3.6.1.4.1.32722.415.6.267923766980408203183547461804387098519 of subject P0415C0006I825592 .... moving on ....\n"
     ]
    },
    {
     "name": "stderr",
     "output_type": "stream",
     "text": [
      " 77.1 MiB |                                               #       | 864.3 KiB/s\n"
     ]
    },
    {
     "name": "stdout",
     "output_type": "stream",
     "text": [
      "Processing: P0415C0006I3247182\n",
      "Starting with RTStruct 1.3.6.1.4.1.32722.415.6.236416154870955662935248586632378733306\n",
      "Located GTV file : ./NrrdFolder/GTV-1.nrrd\n",
      "Saved MASK as resource in XNAT under experiment.\n",
      "hn3-radiomics;P0415C0006I3247182;P0415C0006I3247182;D_20220104_2357_GTV-1;./NrrdFolder/GTV-1.nrrd\n",
      "Located GTV file : ./NrrdFolder/GTV-2.nrrd\n",
      "Saved MASK as resource in XNAT under experiment.\n",
      "hn3-radiomics;P0415C0006I3247182;P0415C0006I3247182;D_20220104_2357_GTV-2;./NrrdFolder/GTV-2.nrrd\n",
      "Located GTV file : ./NrrdFolder/GTV-3.nrrd\n",
      "Saved MASK as resource in XNAT under experiment.\n",
      "hn3-radiomics;P0415C0006I3247182;P0415C0006I3247182;D_20220104_2357_GTV-3;./NrrdFolder/GTV-3.nrrd\n",
      "Located CT IMAGE file : ./NrrdFolder/ct_image.nrrd\n",
      "Saved CT_IMAGE as resource in XNAT under experiment.\n",
      "hn3-radiomics;P0415C0006I3247182;P0415C0006I3247182;D_20220104_2357_ct_image;./NrrdFolder/ct_image.nrrd\n",
      "Done for RTStruct 1.3.6.1.4.1.32722.415.6.236416154870955662935248586632378733306 of subject P0415C0006I3247182 .... moving on ....\n"
     ]
    },
    {
     "name": "stderr",
     "output_type": "stream",
     "text": [
      " 80.8 MiB |                                            #          |   1.4 MiB/s\n"
     ]
    },
    {
     "name": "stdout",
     "output_type": "stream",
     "text": [
      "Processing: P0415C0006I49522\n",
      "Starting with RTStruct 1.3.6.1.4.1.32722.415.6.252589515673612212016947648861337530004\n",
      "Located GTV file : ./NrrdFolder/GTV-1.nrrd\n",
      "Saved MASK as resource in XNAT under experiment.\n",
      "hn3-radiomics;P0415C0006I49522;P0415C0006I49522;D_20220104_2357_GTV-1;./NrrdFolder/GTV-1.nrrd\n",
      "Located GTV file : ./NrrdFolder/GTV-2.nrrd\n",
      "Saved MASK as resource in XNAT under experiment.\n",
      "hn3-radiomics;P0415C0006I49522;P0415C0006I49522;D_20220104_2357_GTV-2;./NrrdFolder/GTV-2.nrrd\n",
      "Located CT IMAGE file : ./NrrdFolder/ct_image.nrrd\n",
      "Saved CT_IMAGE as resource in XNAT under experiment.\n",
      "hn3-radiomics;P0415C0006I49522;P0415C0006I49522;D_20220104_2357_ct_image;./NrrdFolder/ct_image.nrrd\n",
      "Done for RTStruct 1.3.6.1.4.1.32722.415.6.252589515673612212016947648861337530004 of subject P0415C0006I49522 .... moving on ....\n"
     ]
    },
    {
     "name": "stderr",
     "output_type": "stream",
     "text": [
      " 78.3 MiB |#                                                      |   1.4 MiB/s\n"
     ]
    },
    {
     "name": "stdout",
     "output_type": "stream",
     "text": [
      "Processing: P0415C0006I42187\n",
      "Starting with RTStruct 1.3.6.1.4.1.32722.415.6.256939364019374885645204665822372731263\n",
      "Located GTV file : ./NrrdFolder/GTV-1.nrrd\n",
      "Saved MASK as resource in XNAT under experiment.\n",
      "hn3-radiomics;P0415C0006I42187;P0415C0006I42187;D_20220104_2357_GTV-1;./NrrdFolder/GTV-1.nrrd\n",
      "Located CT IMAGE file : ./NrrdFolder/ct_image.nrrd\n",
      "Saved CT_IMAGE as resource in XNAT under experiment.\n",
      "hn3-radiomics;P0415C0006I42187;P0415C0006I42187;D_20220104_2357_ct_image;./NrrdFolder/ct_image.nrrd\n",
      "Done for RTStruct 1.3.6.1.4.1.32722.415.6.256939364019374885645204665822372731263 of subject P0415C0006I42187 .... moving on ....\n"
     ]
    },
    {
     "name": "stderr",
     "output_type": "stream",
     "text": [
      " 78.9 MiB |                    #                                  |   1.3 MiB/s\n"
     ]
    },
    {
     "name": "stdout",
     "output_type": "stream",
     "text": [
      "Processing: P0415C0006I3574119\n",
      "Starting with RTStruct 1.3.6.1.4.1.32722.415.6.248616913307117071768539870084571986396\n",
      "Located GTV file : ./NrrdFolder/GTV-1.nrrd\n",
      "Saved MASK as resource in XNAT under experiment.\n",
      "hn3-radiomics;P0415C0006I3574119;P0415C0006I3574119;D_20220104_2357_GTV-1;./NrrdFolder/GTV-1.nrrd\n",
      "Located GTV file : ./NrrdFolder/GTV-2.nrrd\n",
      "Saved MASK as resource in XNAT under experiment.\n",
      "hn3-radiomics;P0415C0006I3574119;P0415C0006I3574119;D_20220104_2357_GTV-2;./NrrdFolder/GTV-2.nrrd\n",
      "Located GTV file : ./NrrdFolder/GTV-3.nrrd\n",
      "Saved MASK as resource in XNAT under experiment.\n",
      "hn3-radiomics;P0415C0006I3574119;P0415C0006I3574119;D_20220104_2357_GTV-3;./NrrdFolder/GTV-3.nrrd\n",
      "Located CT IMAGE file : ./NrrdFolder/ct_image.nrrd\n",
      "Saved CT_IMAGE as resource in XNAT under experiment.\n",
      "hn3-radiomics;P0415C0006I3574119;P0415C0006I3574119;D_20220104_2357_ct_image;./NrrdFolder/ct_image.nrrd\n",
      "Done for RTStruct 1.3.6.1.4.1.32722.415.6.248616913307117071768539870084571986396 of subject P0415C0006I3574119 .... moving on ....\n"
     ]
    },
    {
     "name": "stderr",
     "output_type": "stream",
     "text": [
      " 77.5 MiB |                         #                             |   1.6 MiB/s\n"
     ]
    },
    {
     "name": "stdout",
     "output_type": "stream",
     "text": [
      "Processing: P0415C0006I3599860\n",
      "Starting with RTStruct 1.3.6.1.4.1.32722.415.6.324349605309981797515841770979704492024\n",
      "Located GTV file : ./NrrdFolder/GTV-1.nrrd\n",
      "Saved MASK as resource in XNAT under experiment.\n",
      "hn3-radiomics;P0415C0006I3599860;P0415C0006I3599860;D_20220104_2357_GTV-1;./NrrdFolder/GTV-1.nrrd\n",
      "Located GTV file : ./NrrdFolder/GTV-2.nrrd\n",
      "Saved MASK as resource in XNAT under experiment.\n",
      "hn3-radiomics;P0415C0006I3599860;P0415C0006I3599860;D_20220104_2357_GTV-2;./NrrdFolder/GTV-2.nrrd\n",
      "Located CT IMAGE file : ./NrrdFolder/ct_image.nrrd\n",
      "Saved CT_IMAGE as resource in XNAT under experiment.\n",
      "hn3-radiomics;P0415C0006I3599860;P0415C0006I3599860;D_20220104_2357_ct_image;./NrrdFolder/ct_image.nrrd\n",
      "Done for RTStruct 1.3.6.1.4.1.32722.415.6.324349605309981797515841770979704492024 of subject P0415C0006I3599860 .... moving on ....\n"
     ]
    },
    {
     "name": "stderr",
     "output_type": "stream",
     "text": [
      " 87.8 MiB |        #                                              |   1.6 MiB/s\n"
     ]
    },
    {
     "name": "stdout",
     "output_type": "stream",
     "text": [
      "Processing: P0415C0006I3655208\n",
      "Starting with RTStruct 1.3.6.1.4.1.32722.415.6.231028005516398853813727877025978840630\n",
      "Located GTV file : ./NrrdFolder/GTV-1.nrrd\n",
      "Saved MASK as resource in XNAT under experiment.\n",
      "hn3-radiomics;P0415C0006I3655208;P0415C0006I3655208;D_20220104_2357_GTV-1;./NrrdFolder/GTV-1.nrrd\n",
      "Located CT IMAGE file : ./NrrdFolder/ct_image.nrrd\n",
      "Saved CT_IMAGE as resource in XNAT under experiment.\n",
      "hn3-radiomics;P0415C0006I3655208;P0415C0006I3655208;D_20220104_2357_ct_image;./NrrdFolder/ct_image.nrrd\n",
      "Done for RTStruct 1.3.6.1.4.1.32722.415.6.231028005516398853813727877025978840630 of subject P0415C0006I3655208 .... moving on ....\n"
     ]
    },
    {
     "name": "stderr",
     "output_type": "stream",
     "text": [
      " 89.2 MiB |                            #                          |   1.3 MiB/s\n"
     ]
    },
    {
     "name": "stdout",
     "output_type": "stream",
     "text": [
      "Processing: P0415C0006I3691715\n",
      "Starting with RTStruct 1.3.6.1.4.1.32722.415.6.53146446116508512937743212550887264412\n",
      "Located GTV file : ./NrrdFolder/GTV_1.nrrd\n",
      "Saved MASK as resource in XNAT under experiment.\n",
      "hn3-radiomics;P0415C0006I3691715;P0415C0006I3691715;D_20220104_2357_GTV_1;./NrrdFolder/GTV_1.nrrd\n",
      "Located GTV file : ./NrrdFolder/GTV_2.nrrd\n",
      "Saved MASK as resource in XNAT under experiment.\n",
      "hn3-radiomics;P0415C0006I3691715;P0415C0006I3691715;D_20220104_2357_GTV_2;./NrrdFolder/GTV_2.nrrd\n",
      "Located CT IMAGE file : ./NrrdFolder/ct_image.nrrd\n",
      "Saved CT_IMAGE as resource in XNAT under experiment.\n",
      "hn3-radiomics;P0415C0006I3691715;P0415C0006I3691715;D_20220104_2357_ct_image;./NrrdFolder/ct_image.nrrd\n",
      "Done for RTStruct 1.3.6.1.4.1.32722.415.6.53146446116508512937743212550887264412 of subject P0415C0006I3691715 .... moving on ....\n"
     ]
    },
    {
     "name": "stderr",
     "output_type": "stream",
     "text": [
      " 76.8 MiB |                               #                       |   1.3 MiB/s\n"
     ]
    },
    {
     "name": "stdout",
     "output_type": "stream",
     "text": [
      "Processing: P0415C0006I3713487\n",
      "Starting with RTStruct 1.3.6.1.4.1.32722.415.6.325184881930436808853268608842601752975\n",
      "Located GTV file : ./NrrdFolder/GTVn_L.nrrd\n",
      "Saved MASK as resource in XNAT under experiment.\n",
      "hn3-radiomics;P0415C0006I3713487;P0415C0006I3713487;D_20220104_2357_GTVn_L;./NrrdFolder/GTVn_L.nrrd\n",
      "Located GTV file : ./NrrdFolder/GTVp1.nrrd\n",
      "Saved MASK as resource in XNAT under experiment.\n",
      "hn3-radiomics;P0415C0006I3713487;P0415C0006I3713487;D_20220104_2357_GTVp1;./NrrdFolder/GTVp1.nrrd\n",
      "Located CT IMAGE file : ./NrrdFolder/ct_image.nrrd\n",
      "Saved CT_IMAGE as resource in XNAT under experiment.\n",
      "hn3-radiomics;P0415C0006I3713487;P0415C0006I3713487;D_20220104_2357_ct_image;./NrrdFolder/ct_image.nrrd\n",
      "Done for RTStruct 1.3.6.1.4.1.32722.415.6.325184881930436808853268608842601752975 of subject P0415C0006I3713487 .... moving on ....\n"
     ]
    },
    {
     "name": "stderr",
     "output_type": "stream",
     "text": [
      " 79.4 MiB |       #                                               |   1.4 MiB/s\n"
     ]
    },
    {
     "name": "stdout",
     "output_type": "stream",
     "text": [
      "Processing: P0415C0006I3729792\n",
      "Starting with RTStruct 1.3.6.1.4.1.32722.415.6.57408699382936378885777467464068114688\n",
      "Located GTV file : ./NrrdFolder/GTV-1.nrrd\n",
      "Saved MASK as resource in XNAT under experiment.\n",
      "hn3-radiomics;P0415C0006I3729792;P0415C0006I3729792;D_20220104_2357_GTV-1;./NrrdFolder/GTV-1.nrrd\n",
      "Located GTV file : ./NrrdFolder/GTV-2.nrrd\n",
      "Saved MASK as resource in XNAT under experiment.\n",
      "hn3-radiomics;P0415C0006I3729792;P0415C0006I3729792;D_20220104_2357_GTV-2;./NrrdFolder/GTV-2.nrrd\n",
      "Located CT IMAGE file : ./NrrdFolder/ct_image.nrrd\n",
      "Saved CT_IMAGE as resource in XNAT under experiment.\n",
      "hn3-radiomics;P0415C0006I3729792;P0415C0006I3729792;D_20220104_2357_ct_image;./NrrdFolder/ct_image.nrrd\n",
      "Done for RTStruct 1.3.6.1.4.1.32722.415.6.57408699382936378885777467464068114688 of subject P0415C0006I3729792 .... moving on ....\n"
     ]
    },
    {
     "name": "stderr",
     "output_type": "stream",
     "text": [
      "140.6 MiB |                    #                                  |   1.3 MiB/s\n"
     ]
    },
    {
     "name": "stdout",
     "output_type": "stream",
     "text": [
      "Processing: P0415C0006I3735731\n",
      "Starting with RTStruct 1.3.6.1.4.1.32722.415.6.263079635662141181461340568031805867535\n",
      "Located GTV file : ./NrrdFolder/GTVn_R.nrrd\n",
      "Saved MASK as resource in XNAT under experiment.\n",
      "hn3-radiomics;P0415C0006I3735731;P0415C0006I3735731;D_20220104_2357_GTVn_R;./NrrdFolder/GTVn_R.nrrd\n",
      "Located GTV file : ./NrrdFolder/GTVp1.nrrd\n",
      "Saved MASK as resource in XNAT under experiment.\n",
      "hn3-radiomics;P0415C0006I3735731;P0415C0006I3735731;D_20220104_2357_GTVp1;./NrrdFolder/GTVp1.nrrd\n",
      "Located CT IMAGE file : ./NrrdFolder/ct_image.nrrd\n",
      "Saved CT_IMAGE as resource in XNAT under experiment.\n",
      "hn3-radiomics;P0415C0006I3735731;P0415C0006I3735731;D_20220104_2357_ct_image;./NrrdFolder/ct_image.nrrd\n",
      "Done for RTStruct 1.3.6.1.4.1.32722.415.6.263079635662141181461340568031805867535 of subject P0415C0006I3735731 .... moving on ....\n"
     ]
    },
    {
     "name": "stderr",
     "output_type": "stream",
     "text": [
      " 88.7 MiB |                          #                            |   1.3 MiB/s\n"
     ]
    },
    {
     "name": "stdout",
     "output_type": "stream",
     "text": [
      "Processing: P0415C0006I3780084\n",
      "Starting with RTStruct 1.3.6.1.4.1.32722.415.6.292766809163936629219574256755697083819\n",
      "Located GTV file : ./NrrdFolder/GTVn_R.nrrd\n",
      "Saved MASK as resource in XNAT under experiment.\n",
      "hn3-radiomics;P0415C0006I3780084;P0415C0006I3780084;D_20220104_2357_GTVn_R;./NrrdFolder/GTVn_R.nrrd\n",
      "Located GTV file : ./NrrdFolder/GTVp1.nrrd\n",
      "Saved MASK as resource in XNAT under experiment.\n",
      "hn3-radiomics;P0415C0006I3780084;P0415C0006I3780084;D_20220104_2357_GTVp1;./NrrdFolder/GTVp1.nrrd\n",
      "Located CT IMAGE file : ./NrrdFolder/ct_image.nrrd\n",
      "Saved CT_IMAGE as resource in XNAT under experiment.\n",
      "hn3-radiomics;P0415C0006I3780084;P0415C0006I3780084;D_20220104_2357_ct_image;./NrrdFolder/ct_image.nrrd\n",
      "Done for RTStruct 1.3.6.1.4.1.32722.415.6.292766809163936629219574256755697083819 of subject P0415C0006I3780084 .... moving on ....\n"
     ]
    },
    {
     "name": "stderr",
     "output_type": "stream",
     "text": [
      " 77.4 MiB |             #                                         |   1.4 MiB/s\n"
     ]
    },
    {
     "name": "stdout",
     "output_type": "stream",
     "text": [
      "Processing: P0415C0006I3784760\n",
      "Starting with RTStruct 1.3.6.1.4.1.32722.415.6.41684266597679737994848658742060229211\n",
      "Located GTV file : ./NrrdFolder/GTV-1.nrrd\n",
      "Saved MASK as resource in XNAT under experiment.\n",
      "hn3-radiomics;P0415C0006I3784760;P0415C0006I3784760;V_20220104_2357_GTV-1;./NrrdFolder/GTV-1.nrrd\n",
      "Located CT IMAGE file : ./NrrdFolder/ct_image.nrrd\n",
      "Saved CT_IMAGE as resource in XNAT under experiment.\n",
      "hn3-radiomics;P0415C0006I3784760;P0415C0006I3784760;V_20220104_2357_ct_image;./NrrdFolder/ct_image.nrrd\n",
      "Done for RTStruct 1.3.6.1.4.1.32722.415.6.41684266597679737994848658742060229211 of subject P0415C0006I3784760 .... moving on ....\n"
     ]
    },
    {
     "name": "stderr",
     "output_type": "stream",
     "text": [
      " 85.3 MiB |                                     #                 |   1.3 MiB/s\n"
     ]
    },
    {
     "name": "stdout",
     "output_type": "stream",
     "text": [
      "Processing: P0415C0006I3791277\n",
      "Starting with RTStruct 1.3.6.1.4.1.32722.415.6.15836138689105512178971612428197525125\n",
      "Located GTV file : ./NrrdFolder/GTV-1.nrrd\n",
      "Saved MASK as resource in XNAT under experiment.\n",
      "hn3-radiomics;P0415C0006I3791277;P0415C0006I3791277;D_20220104_2357_GTV-1;./NrrdFolder/GTV-1.nrrd\n",
      "Located CT IMAGE file : ./NrrdFolder/ct_image.nrrd\n",
      "Saved CT_IMAGE as resource in XNAT under experiment.\n",
      "hn3-radiomics;P0415C0006I3791277;P0415C0006I3791277;D_20220104_2357_ct_image;./NrrdFolder/ct_image.nrrd\n",
      "Done for RTStruct 1.3.6.1.4.1.32722.415.6.15836138689105512178971612428197525125 of subject P0415C0006I3791277 .... moving on ....\n"
     ]
    },
    {
     "name": "stderr",
     "output_type": "stream",
     "text": [
      " 85.5 MiB |                                           #           |   1.5 MiB/s\n"
     ]
    },
    {
     "name": "stdout",
     "output_type": "stream",
     "text": [
      "Processing: P0415C0006I3836560\n",
      "Starting with RTStruct 1.3.6.1.4.1.32722.415.6.77614492967837678660455635784200262934\n",
      "Located GTV file : ./NrrdFolder/GTV-1.nrrd\n",
      "Saved MASK as resource in XNAT under experiment.\n",
      "hn3-radiomics;P0415C0006I3836560;P0415C0006I3836560;D_20220104_2357_GTV-1;./NrrdFolder/GTV-1.nrrd\n",
      "Located GTV file : ./NrrdFolder/GTV-2.nrrd\n",
      "Saved MASK as resource in XNAT under experiment.\n",
      "hn3-radiomics;P0415C0006I3836560;P0415C0006I3836560;D_20220104_2357_GTV-2;./NrrdFolder/GTV-2.nrrd\n",
      "Located GTV file : ./NrrdFolder/GTV-3.nrrd\n",
      "Saved MASK as resource in XNAT under experiment.\n",
      "hn3-radiomics;P0415C0006I3836560;P0415C0006I3836560;D_20220104_2357_GTV-3;./NrrdFolder/GTV-3.nrrd\n",
      "Located GTV file : ./NrrdFolder/GTV-4.nrrd\n",
      "Saved MASK as resource in XNAT under experiment.\n",
      "hn3-radiomics;P0415C0006I3836560;P0415C0006I3836560;D_20220104_2357_GTV-4;./NrrdFolder/GTV-4.nrrd\n",
      "Located CT IMAGE file : ./NrrdFolder/ct_image.nrrd\n",
      "Saved CT_IMAGE as resource in XNAT under experiment.\n",
      "hn3-radiomics;P0415C0006I3836560;P0415C0006I3836560;D_20220104_2357_ct_image;./NrrdFolder/ct_image.nrrd\n",
      "Done for RTStruct 1.3.6.1.4.1.32722.415.6.77614492967837678660455635784200262934 of subject P0415C0006I3836560 .... moving on ....\n"
     ]
    },
    {
     "name": "stderr",
     "output_type": "stream",
     "text": [
      " 85.7 MiB |     #                                                 |   1.4 MiB/s\n"
     ]
    },
    {
     "name": "stdout",
     "output_type": "stream",
     "text": [
      "Processing: P0415C0006I3869452\n",
      "Starting with RTStruct 1.3.6.1.4.1.32722.415.6.336280028560879075549615150016093926924\n",
      "Located GTV file : ./NrrdFolder/GTVn_L.nrrd\n",
      "Saved MASK as resource in XNAT under experiment.\n",
      "hn3-radiomics;P0415C0006I3869452;P0415C0006I3869452;D_20220104_2357_GTVn_L;./NrrdFolder/GTVn_L.nrrd\n",
      "Located GTV file : ./NrrdFolder/GTVp1.nrrd\n",
      "Saved MASK as resource in XNAT under experiment.\n",
      "hn3-radiomics;P0415C0006I3869452;P0415C0006I3869452;D_20220104_2357_GTVp1;./NrrdFolder/GTVp1.nrrd\n",
      "Located CT IMAGE file : ./NrrdFolder/ct_image.nrrd\n",
      "Saved CT_IMAGE as resource in XNAT under experiment.\n",
      "hn3-radiomics;P0415C0006I3869452;P0415C0006I3869452;D_20220104_2357_ct_image;./NrrdFolder/ct_image.nrrd\n",
      "Done for RTStruct 1.3.6.1.4.1.32722.415.6.336280028560879075549615150016093926924 of subject P0415C0006I3869452 .... moving on ....\n"
     ]
    },
    {
     "name": "stderr",
     "output_type": "stream",
     "text": [
      "121.3 MiB |                                #                      |   1.5 MiB/s\n"
     ]
    },
    {
     "name": "stdout",
     "output_type": "stream",
     "text": [
      "Processing: P0415C0006I4121824\n",
      "Starting with RTStruct 1.3.6.1.4.1.32722.415.6.120941589533883159771749660358302244713\n",
      "Located GTV file : ./NrrdFolder/GTV-1.nrrd\n",
      "Saved MASK as resource in XNAT under experiment.\n",
      "hn3-radiomics;P0415C0006I4121824;P0415C0006I4121824;D_20220104_2357_GTV-1;./NrrdFolder/GTV-1.nrrd\n",
      "Located GTV file : ./NrrdFolder/GTV-2.nrrd\n",
      "Saved MASK as resource in XNAT under experiment.\n",
      "hn3-radiomics;P0415C0006I4121824;P0415C0006I4121824;D_20220104_2357_GTV-2;./NrrdFolder/GTV-2.nrrd\n",
      "Located CT IMAGE file : ./NrrdFolder/ct_image.nrrd\n",
      "Saved CT_IMAGE as resource in XNAT under experiment.\n",
      "hn3-radiomics;P0415C0006I4121824;P0415C0006I4121824;D_20220104_2357_ct_image;./NrrdFolder/ct_image.nrrd\n",
      "Done for RTStruct 1.3.6.1.4.1.32722.415.6.120941589533883159771749660358302244713 of subject P0415C0006I4121824 .... moving on ....\n"
     ]
    },
    {
     "name": "stderr",
     "output_type": "stream",
     "text": [
      " 76.6 MiB |   #                                                   |   1.2 MiB/s\n"
     ]
    },
    {
     "name": "stdout",
     "output_type": "stream",
     "text": [
      "Processing: P0415C0006I4172752\n",
      "Starting with RTStruct 1.3.6.1.4.1.32722.415.6.198885592633013160409727375297888919981\n",
      "Located GTV file : ./NrrdFolder/GTV-1.nrrd\n",
      "Saved MASK as resource in XNAT under experiment.\n",
      "hn3-radiomics;P0415C0006I4172752;P0415C0006I4172752;D_20220104_2357_GTV-1;./NrrdFolder/GTV-1.nrrd\n",
      "Located CT IMAGE file : ./NrrdFolder/ct_image.nrrd\n",
      "Saved CT_IMAGE as resource in XNAT under experiment.\n",
      "hn3-radiomics;P0415C0006I4172752;P0415C0006I4172752;D_20220104_2357_ct_image;./NrrdFolder/ct_image.nrrd\n",
      "Done for RTStruct 1.3.6.1.4.1.32722.415.6.198885592633013160409727375297888919981 of subject P0415C0006I4172752 .... moving on ....\n"
     ]
    },
    {
     "name": "stderr",
     "output_type": "stream",
     "text": [
      " 77.4 MiB |                                                 #     |   1.5 MiB/s\n"
     ]
    },
    {
     "name": "stdout",
     "output_type": "stream",
     "text": [
      "Processing: P0415C0006I4196632\n",
      "Starting with RTStruct 1.3.6.1.4.1.32722.415.6.101858560108646547556706583451428756506\n",
      "Located GTV file : ./NrrdFolder/GTV-1.nrrd\n",
      "Saved MASK as resource in XNAT under experiment.\n",
      "hn3-radiomics;P0415C0006I4196632;P0415C0006I4196632;D_20220104_2357_GTV-1;./NrrdFolder/GTV-1.nrrd\n",
      "Located GTV file : ./NrrdFolder/GTV-2.nrrd\n",
      "Saved MASK as resource in XNAT under experiment.\n",
      "hn3-radiomics;P0415C0006I4196632;P0415C0006I4196632;D_20220104_2357_GTV-2;./NrrdFolder/GTV-2.nrrd\n",
      "Located CT IMAGE file : ./NrrdFolder/ct_image.nrrd\n",
      "Saved CT_IMAGE as resource in XNAT under experiment.\n",
      "hn3-radiomics;P0415C0006I4196632;P0415C0006I4196632;D_20220104_2357_ct_image;./NrrdFolder/ct_image.nrrd\n",
      "Done for RTStruct 1.3.6.1.4.1.32722.415.6.101858560108646547556706583451428756506 of subject P0415C0006I4196632 .... moving on ....\n"
     ]
    },
    {
     "name": "stderr",
     "output_type": "stream",
     "text": [
      " 72.1 MiB |                                                     # |   1.3 MiB/s\n"
     ]
    },
    {
     "name": "stdout",
     "output_type": "stream",
     "text": [
      "Processing: P0415C0006I4247114\n",
      "Starting with RTStruct 1.3.6.1.4.1.32722.415.6.184340345715249139361927156340983026111\n",
      "Located GTV file : ./NrrdFolder/GTV-1.nrrd\n",
      "Saved MASK as resource in XNAT under experiment.\n",
      "hn3-radiomics;P0415C0006I4247114;P0415C0006I4247114;D_20220104_2357_GTV-1;./NrrdFolder/GTV-1.nrrd\n",
      "Located GTV file : ./NrrdFolder/GTV-2.nrrd\n",
      "Saved MASK as resource in XNAT under experiment.\n",
      "hn3-radiomics;P0415C0006I4247114;P0415C0006I4247114;D_20220104_2357_GTV-2;./NrrdFolder/GTV-2.nrrd\n",
      "Located CT IMAGE file : ./NrrdFolder/ct_image.nrrd\n",
      "Saved CT_IMAGE as resource in XNAT under experiment.\n",
      "hn3-radiomics;P0415C0006I4247114;P0415C0006I4247114;D_20220104_2357_ct_image;./NrrdFolder/ct_image.nrrd\n",
      "Done for RTStruct 1.3.6.1.4.1.32722.415.6.184340345715249139361927156340983026111 of subject P0415C0006I4247114 .... moving on ....\n"
     ]
    },
    {
     "name": "stderr",
     "output_type": "stream",
     "text": [
      " 78.3 MiB | #                                                     |   1.6 MiB/s\n"
     ]
    },
    {
     "name": "stdout",
     "output_type": "stream",
     "text": [
      "Processing: P0415C0006I4270424\n",
      "Starting with RTStruct 1.3.6.1.4.1.32722.415.6.231175249558646998013373738940328382503\n",
      "Located GTV file : ./NrrdFolder/GTV-1.nrrd\n",
      "Saved MASK as resource in XNAT under experiment.\n",
      "hn3-radiomics;P0415C0006I4270424;P0415C0006I4270424;D_20220104_2357_GTV-1;./NrrdFolder/GTV-1.nrrd\n",
      "Located GTV file : ./NrrdFolder/GTV-2.nrrd\n",
      "Saved MASK as resource in XNAT under experiment.\n",
      "hn3-radiomics;P0415C0006I4270424;P0415C0006I4270424;D_20220104_2357_GTV-2;./NrrdFolder/GTV-2.nrrd\n",
      "Located CT IMAGE file : ./NrrdFolder/ct_image.nrrd\n",
      "Saved CT_IMAGE as resource in XNAT under experiment.\n",
      "hn3-radiomics;P0415C0006I4270424;P0415C0006I4270424;D_20220104_2357_ct_image;./NrrdFolder/ct_image.nrrd\n",
      "Done for RTStruct 1.3.6.1.4.1.32722.415.6.231175249558646998013373738940328382503 of subject P0415C0006I4270424 .... moving on ....\n"
     ]
    },
    {
     "name": "stderr",
     "output_type": "stream",
     "text": [
      " 76.2 MiB |                                #                      |   1.5 MiB/s\n"
     ]
    },
    {
     "name": "stdout",
     "output_type": "stream",
     "text": [
      "Processing: P0415C0006I4461422\n",
      "Starting with RTStruct 1.3.6.1.4.1.32722.415.6.8089408308928740837019065144142645539\n",
      "Located GTV file : ./NrrdFolder/GTVn_R.nrrd\n",
      "Saved MASK as resource in XNAT under experiment.\n",
      "hn3-radiomics;P0415C0006I4461422;P0415C0006I4461422;D_20220104_2357_GTVn_R;./NrrdFolder/GTVn_R.nrrd\n",
      "Located GTV file : ./NrrdFolder/GTVp1.nrrd\n",
      "Saved MASK as resource in XNAT under experiment.\n",
      "hn3-radiomics;P0415C0006I4461422;P0415C0006I4461422;D_20220104_2357_GTVp1;./NrrdFolder/GTVp1.nrrd\n",
      "Located CT IMAGE file : ./NrrdFolder/ct_image.nrrd\n",
      "Saved CT_IMAGE as resource in XNAT under experiment.\n",
      "hn3-radiomics;P0415C0006I4461422;P0415C0006I4461422;D_20220104_2357_ct_image;./NrrdFolder/ct_image.nrrd\n",
      "Done for RTStruct 1.3.6.1.4.1.32722.415.6.8089408308928740837019065144142645539 of subject P0415C0006I4461422 .... moving on ....\n"
     ]
    },
    {
     "name": "stderr",
     "output_type": "stream",
     "text": [
      " 78.0 MiB |                                      #                |   1.2 MiB/s\n"
     ]
    },
    {
     "name": "stdout",
     "output_type": "stream",
     "text": [
      "Processing: P0415C0006I4378200\n",
      "Starting with RTStruct 1.3.6.1.4.1.32722.415.6.2195440253530661485652277875041179415\n",
      "Located GTV file : ./NrrdFolder/GTVn_L.nrrd\n",
      "Saved MASK as resource in XNAT under experiment.\n",
      "hn3-radiomics;P0415C0006I4378200;P0415C0006I4378200;V_20220104_2357_GTVn_L;./NrrdFolder/GTVn_L.nrrd\n",
      "Located GTV file : ./NrrdFolder/GTVp1.nrrd\n",
      "Saved MASK as resource in XNAT under experiment.\n",
      "hn3-radiomics;P0415C0006I4378200;P0415C0006I4378200;V_20220104_2357_GTVp1;./NrrdFolder/GTVp1.nrrd\n",
      "Located CT IMAGE file : ./NrrdFolder/ct_image.nrrd\n",
      "Saved CT_IMAGE as resource in XNAT under experiment.\n",
      "hn3-radiomics;P0415C0006I4378200;P0415C0006I4378200;V_20220104_2357_ct_image;./NrrdFolder/ct_image.nrrd\n",
      "Done for RTStruct 1.3.6.1.4.1.32722.415.6.2195440253530661485652277875041179415 of subject P0415C0006I4378200 .... moving on ....\n"
     ]
    },
    {
     "name": "stderr",
     "output_type": "stream",
     "text": [
      " 75.4 MiB | #                                                     |   1.5 MiB/s\n"
     ]
    },
    {
     "name": "stdout",
     "output_type": "stream",
     "text": [
      "Processing: P0415C0006I4641582\n",
      "Starting with RTStruct 1.3.6.1.4.1.32722.415.6.309361255076411470067778914478377645649\n",
      "Located GTV file : ./NrrdFolder/GTVp1.nrrd\n",
      "Saved MASK as resource in XNAT under experiment.\n",
      "hn3-radiomics;P0415C0006I4641582;P0415C0006I4641582;V_20220104_2357_GTVp1;./NrrdFolder/GTVp1.nrrd\n",
      "Located CT IMAGE file : ./NrrdFolder/ct_image.nrrd\n",
      "Saved CT_IMAGE as resource in XNAT under experiment.\n",
      "hn3-radiomics;P0415C0006I4641582;P0415C0006I4641582;V_20220104_2357_ct_image;./NrrdFolder/ct_image.nrrd\n",
      "Done for RTStruct 1.3.6.1.4.1.32722.415.6.309361255076411470067778914478377645649 of subject P0415C0006I4641582 .... moving on ....\n"
     ]
    },
    {
     "name": "stderr",
     "output_type": "stream",
     "text": [
      " 86.4 MiB |                      #                                |   1.3 MiB/s\n"
     ]
    },
    {
     "name": "stdout",
     "output_type": "stream",
     "text": [
      "Processing: P0415C0006I4450765\n",
      "Starting with RTStruct 1.3.6.1.4.1.32722.415.6.308625240009923109508087203331751604796\n",
      "Located GTV file : ./NrrdFolder/GTV_1.nrrd\n",
      "Saved MASK as resource in XNAT under experiment.\n",
      "hn3-radiomics;P0415C0006I4450765;P0415C0006I4450765;D_20220104_2357_GTV_1;./NrrdFolder/GTV_1.nrrd\n",
      "Located CT IMAGE file : ./NrrdFolder/ct_image.nrrd\n",
      "Saved CT_IMAGE as resource in XNAT under experiment.\n",
      "hn3-radiomics;P0415C0006I4450765;P0415C0006I4450765;D_20220104_2357_ct_image;./NrrdFolder/ct_image.nrrd\n",
      "Done for RTStruct 1.3.6.1.4.1.32722.415.6.308625240009923109508087203331751604796 of subject P0415C0006I4450765 .... moving on ....\n"
     ]
    },
    {
     "name": "stderr",
     "output_type": "stream",
     "text": [
      " 79.4 MiB |             #                                         |   1.7 MiB/s\n"
     ]
    },
    {
     "name": "stdout",
     "output_type": "stream",
     "text": [
      "Processing: P0415C0006I4534464\n",
      "Starting with RTStruct 1.3.6.1.4.1.32722.415.6.210554913134117359078582546082305191243\n",
      "Located GTV file : ./NrrdFolder/GTV-1.nrrd\n",
      "Saved MASK as resource in XNAT under experiment.\n",
      "hn3-radiomics;P0415C0006I4534464;P0415C0006I4534464;D_20220104_2357_GTV-1;./NrrdFolder/GTV-1.nrrd\n",
      "Located GTV file : ./NrrdFolder/GTV-2.nrrd\n",
      "Saved MASK as resource in XNAT under experiment.\n",
      "hn3-radiomics;P0415C0006I4534464;P0415C0006I4534464;D_20220104_2357_GTV-2;./NrrdFolder/GTV-2.nrrd\n",
      "Located CT IMAGE file : ./NrrdFolder/ct_image.nrrd\n",
      "Saved CT_IMAGE as resource in XNAT under experiment.\n",
      "hn3-radiomics;P0415C0006I4534464;P0415C0006I4534464;D_20220104_2357_ct_image;./NrrdFolder/ct_image.nrrd\n",
      "Done for RTStruct 1.3.6.1.4.1.32722.415.6.210554913134117359078582546082305191243 of subject P0415C0006I4534464 .... moving on ....\n"
     ]
    },
    {
     "name": "stderr",
     "output_type": "stream",
     "text": [
      " 89.8 MiB |                           #                           |   1.5 MiB/s\n"
     ]
    },
    {
     "name": "stdout",
     "output_type": "stream",
     "text": [
      "Processing: P0415C0006I4441159\n",
      "Starting with RTStruct 1.3.6.1.4.1.32722.415.6.11032752782787837503702160233641250165\n",
      "Located GTV file : ./NrrdFolder/GTVn_L.nrrd\n",
      "Saved MASK as resource in XNAT under experiment.\n",
      "hn3-radiomics;P0415C0006I4441159;P0415C0006I4441159;D_20220104_2357_GTVn_L;./NrrdFolder/GTVn_L.nrrd\n",
      "Located GTV file : ./NrrdFolder/GTVn_R.nrrd\n",
      "Saved MASK as resource in XNAT under experiment.\n",
      "hn3-radiomics;P0415C0006I4441159;P0415C0006I4441159;D_20220104_2357_GTVn_R;./NrrdFolder/GTVn_R.nrrd\n",
      "Located GTV file : ./NrrdFolder/GTVp1.nrrd\n",
      "Saved MASK as resource in XNAT under experiment.\n",
      "hn3-radiomics;P0415C0006I4441159;P0415C0006I4441159;D_20220104_2357_GTVp1;./NrrdFolder/GTVp1.nrrd\n",
      "Located CT IMAGE file : ./NrrdFolder/ct_image.nrrd\n",
      "Saved CT_IMAGE as resource in XNAT under experiment.\n",
      "hn3-radiomics;P0415C0006I4441159;P0415C0006I4441159;D_20220104_2357_ct_image;./NrrdFolder/ct_image.nrrd\n",
      "Done for RTStruct 1.3.6.1.4.1.32722.415.6.11032752782787837503702160233641250165 of subject P0415C0006I4441159 .... moving on ....\n"
     ]
    },
    {
     "name": "stderr",
     "output_type": "stream",
     "text": [
      "121.7 MiB |        #                                              |   2.0 MiB/s\n"
     ]
    },
    {
     "name": "stdout",
     "output_type": "stream",
     "text": [
      "Processing: P0415C0006I4798901\n",
      "Starting with RTStruct 1.3.6.1.4.1.32722.415.6.129483941507195865937309771539657279892\n",
      "Located GTV file : ./NrrdFolder/GTV-1.nrrd\n",
      "Saved MASK as resource in XNAT under experiment.\n",
      "hn3-radiomics;P0415C0006I4798901;P0415C0006I4798901;D_20220104_2357_GTV-1;./NrrdFolder/GTV-1.nrrd\n",
      "Located GTV file : ./NrrdFolder/GTV-2.nrrd\n",
      "Saved MASK as resource in XNAT under experiment.\n",
      "hn3-radiomics;P0415C0006I4798901;P0415C0006I4798901;D_20220104_2357_GTV-2;./NrrdFolder/GTV-2.nrrd\n",
      "Located CT IMAGE file : ./NrrdFolder/ct_image.nrrd\n",
      "Saved CT_IMAGE as resource in XNAT under experiment.\n",
      "hn3-radiomics;P0415C0006I4798901;P0415C0006I4798901;D_20220104_2357_ct_image;./NrrdFolder/ct_image.nrrd\n",
      "Done for RTStruct 1.3.6.1.4.1.32722.415.6.129483941507195865937309771539657279892 of subject P0415C0006I4798901 .... moving on ....\n"
     ]
    },
    {
     "name": "stderr",
     "output_type": "stream",
     "text": [
      " 77.7 MiB |                #                                      |   1.2 MiB/s\n"
     ]
    },
    {
     "name": "stdout",
     "output_type": "stream",
     "text": [
      "Processing: P0415C0006I4676602\n",
      "Starting with RTStruct 1.3.6.1.4.1.32722.415.6.89754286895041238665593201992137674488\n",
      "Located GTV file : ./NrrdFolder/GTV-1.nrrd\n",
      "Saved MASK as resource in XNAT under experiment.\n",
      "hn3-radiomics;P0415C0006I4676602;P0415C0006I4676602;D_20220104_2357_GTV-1;./NrrdFolder/GTV-1.nrrd\n",
      "Located CT IMAGE file : ./NrrdFolder/ct_image.nrrd\n",
      "Saved CT_IMAGE as resource in XNAT under experiment.\n",
      "hn3-radiomics;P0415C0006I4676602;P0415C0006I4676602;D_20220104_2357_ct_image;./NrrdFolder/ct_image.nrrd\n",
      "Done for RTStruct 1.3.6.1.4.1.32722.415.6.89754286895041238665593201992137674488 of subject P0415C0006I4676602 .... moving on ....\n"
     ]
    },
    {
     "name": "stderr",
     "output_type": "stream",
     "text": [
      " 76.6 MiB |          #                                            |   1.5 MiB/s\n"
     ]
    },
    {
     "name": "stdout",
     "output_type": "stream",
     "text": [
      "Processing: P0415C0006I4854737\n",
      "Starting with RTStruct 1.3.6.1.4.1.32722.415.6.146731866444830990223016489465594708277\n",
      "Located GTV file : ./NrrdFolder/GTV-1.nrrd\n",
      "Saved MASK as resource in XNAT under experiment.\n",
      "hn3-radiomics;P0415C0006I4854737;P0415C0006I4854737;V_20220104_2357_GTV-1;./NrrdFolder/GTV-1.nrrd\n",
      "Located CT IMAGE file : ./NrrdFolder/ct_image.nrrd\n",
      "Saved CT_IMAGE as resource in XNAT under experiment.\n",
      "hn3-radiomics;P0415C0006I4854737;P0415C0006I4854737;V_20220104_2357_ct_image;./NrrdFolder/ct_image.nrrd\n",
      "Done for RTStruct 1.3.6.1.4.1.32722.415.6.146731866444830990223016489465594708277 of subject P0415C0006I4854737 .... moving on ....\n"
     ]
    },
    {
     "name": "stderr",
     "output_type": "stream",
     "text": [
      " 78.5 MiB | #                                                     |   1.7 MiB/s\n"
     ]
    },
    {
     "name": "stdout",
     "output_type": "stream",
     "text": [
      "Processing: P0415C0006I5035509\n",
      "Starting with RTStruct 1.3.6.1.4.1.32722.415.6.62520997420494987528040042298218800375\n",
      "Located GTV file : ./NrrdFolder/GTV-1.nrrd\n",
      "Saved MASK as resource in XNAT under experiment.\n",
      "hn3-radiomics;P0415C0006I5035509;P0415C0006I5035509;D_20220104_2357_GTV-1;./NrrdFolder/GTV-1.nrrd\n",
      "Located GTV file : ./NrrdFolder/GTV-2.nrrd\n",
      "Saved MASK as resource in XNAT under experiment.\n",
      "hn3-radiomics;P0415C0006I5035509;P0415C0006I5035509;D_20220104_2357_GTV-2;./NrrdFolder/GTV-2.nrrd\n",
      "Located GTV file : ./NrrdFolder/GTV-3.nrrd\n",
      "Saved MASK as resource in XNAT under experiment.\n",
      "hn3-radiomics;P0415C0006I5035509;P0415C0006I5035509;D_20220104_2357_GTV-3;./NrrdFolder/GTV-3.nrrd\n",
      "Located GTV file : ./NrrdFolder/GTVPTV.nrrd\n",
      "Saved MASK as resource in XNAT under experiment.\n",
      "hn3-radiomics;P0415C0006I5035509;P0415C0006I5035509;D_20220104_2357_GTVPTV;./NrrdFolder/GTVPTV.nrrd\n",
      "Located CT IMAGE file : ./NrrdFolder/ct_image.nrrd\n",
      "Saved CT_IMAGE as resource in XNAT under experiment.\n",
      "hn3-radiomics;P0415C0006I5035509;P0415C0006I5035509;D_20220104_2357_ct_image;./NrrdFolder/ct_image.nrrd\n",
      "Done for RTStruct 1.3.6.1.4.1.32722.415.6.62520997420494987528040042298218800375 of subject P0415C0006I5035509 .... moving on ....\n"
     ]
    },
    {
     "name": "stderr",
     "output_type": "stream",
     "text": [
      " 86.2 MiB |                                      #                |   1.4 MiB/s\n"
     ]
    },
    {
     "name": "stdout",
     "output_type": "stream",
     "text": [
      "Processing: P0415C0006I5064021\n",
      "Starting with RTStruct 1.3.6.1.4.1.32722.415.6.293985155076348899665717845121166771728\n",
      "Located GTV file : ./NrrdFolder/GTV-1.nrrd\n",
      "Saved MASK as resource in XNAT under experiment.\n",
      "hn3-radiomics;P0415C0006I5064021;P0415C0006I5064021;V_20220104_2357_GTV-1;./NrrdFolder/GTV-1.nrrd\n",
      "Located GTV file : ./NrrdFolder/GTV-2.nrrd\n",
      "Saved MASK as resource in XNAT under experiment.\n",
      "hn3-radiomics;P0415C0006I5064021;P0415C0006I5064021;V_20220104_2357_GTV-2;./NrrdFolder/GTV-2.nrrd\n",
      "Located CT IMAGE file : ./NrrdFolder/ct_image.nrrd\n",
      "Saved CT_IMAGE as resource in XNAT under experiment.\n",
      "hn3-radiomics;P0415C0006I5064021;P0415C0006I5064021;V_20220104_2357_ct_image;./NrrdFolder/ct_image.nrrd\n",
      "Done for RTStruct 1.3.6.1.4.1.32722.415.6.293985155076348899665717845121166771728 of subject P0415C0006I5064021 .... moving on ....\n"
     ]
    },
    {
     "name": "stderr",
     "output_type": "stream",
     "text": [
      "122.9 MiB |                  #                                    |   1.2 MiB/s\n"
     ]
    },
    {
     "name": "stdout",
     "output_type": "stream",
     "text": [
      "Processing: P0415C0006I5120774\n",
      "Starting with RTStruct 1.3.6.1.4.1.32722.415.6.329001556734347464826031745924178883180\n",
      "Located GTV file : ./NrrdFolder/GTV-1.nrrd\n",
      "Saved MASK as resource in XNAT under experiment.\n",
      "hn3-radiomics;P0415C0006I5120774;P0415C0006I5120774;D_20220104_2357_GTV-1;./NrrdFolder/GTV-1.nrrd\n",
      "Located GTV file : ./NrrdFolder/GTV2.nrrd\n",
      "Saved MASK as resource in XNAT under experiment.\n",
      "hn3-radiomics;P0415C0006I5120774;P0415C0006I5120774;D_20220104_2357_GTV2;./NrrdFolder/GTV2.nrrd\n",
      "Located CT IMAGE file : ./NrrdFolder/ct_image.nrrd\n",
      "Saved CT_IMAGE as resource in XNAT under experiment.\n",
      "hn3-radiomics;P0415C0006I5120774;P0415C0006I5120774;D_20220104_2357_ct_image;./NrrdFolder/ct_image.nrrd\n",
      "Done for RTStruct 1.3.6.1.4.1.32722.415.6.329001556734347464826031745924178883180 of subject P0415C0006I5120774 .... moving on ....\n"
     ]
    },
    {
     "name": "stderr",
     "output_type": "stream",
     "text": [
      " 75.3 MiB |               #                                       |   1.3 MiB/s\n"
     ]
    },
    {
     "name": "stdout",
     "output_type": "stream",
     "text": [
      "Processing: P0415C0006I5134193\n",
      "Starting with RTStruct 1.3.6.1.4.1.32722.415.6.119164589548440929783149983334107580253\n",
      "Located GTV file : ./NrrdFolder/GTV-1.nrrd\n",
      "Saved MASK as resource in XNAT under experiment.\n",
      "hn3-radiomics;P0415C0006I5134193;P0415C0006I5134193;D_20220104_2357_GTV-1;./NrrdFolder/GTV-1.nrrd\n",
      "Located GTV file : ./NrrdFolder/GTV-2.nrrd\n",
      "Saved MASK as resource in XNAT under experiment.\n",
      "hn3-radiomics;P0415C0006I5134193;P0415C0006I5134193;D_20220104_2357_GTV-2;./NrrdFolder/GTV-2.nrrd\n",
      "Located GTV file : ./NrrdFolder/GTVPTV.nrrd\n",
      "Saved MASK as resource in XNAT under experiment.\n",
      "hn3-radiomics;P0415C0006I5134193;P0415C0006I5134193;D_20220104_2357_GTVPTV;./NrrdFolder/GTVPTV.nrrd\n",
      "Located CT IMAGE file : ./NrrdFolder/ct_image.nrrd\n",
      "Saved CT_IMAGE as resource in XNAT under experiment.\n",
      "hn3-radiomics;P0415C0006I5134193;P0415C0006I5134193;D_20220104_2357_ct_image;./NrrdFolder/ct_image.nrrd\n",
      "Done for RTStruct 1.3.6.1.4.1.32722.415.6.119164589548440929783149983334107580253 of subject P0415C0006I5134193 .... moving on ....\n"
     ]
    },
    {
     "name": "stderr",
     "output_type": "stream",
     "text": [
      " 85.6 MiB |                   #                                   |   1.3 MiB/s\n"
     ]
    },
    {
     "name": "stdout",
     "output_type": "stream",
     "text": [
      "Processing: P0415C0006I5217471\n",
      "Starting with RTStruct 1.3.6.1.4.1.32722.415.6.54075245936183112577292620976585069697\n",
      "Located GTV file : ./NrrdFolder/GTV_1.nrrd\n",
      "Saved MASK as resource in XNAT under experiment.\n",
      "hn3-radiomics;P0415C0006I5217471;P0415C0006I5217471;D_20220104_2357_GTV_1;./NrrdFolder/GTV_1.nrrd\n",
      "Located GTV file : ./NrrdFolder/GTV_2.nrrd\n",
      "Saved MASK as resource in XNAT under experiment.\n",
      "hn3-radiomics;P0415C0006I5217471;P0415C0006I5217471;D_20220104_2357_GTV_2;./NrrdFolder/GTV_2.nrrd\n",
      "Located CT IMAGE file : ./NrrdFolder/ct_image.nrrd\n",
      "Saved CT_IMAGE as resource in XNAT under experiment.\n",
      "hn3-radiomics;P0415C0006I5217471;P0415C0006I5217471;D_20220104_2357_ct_image;./NrrdFolder/ct_image.nrrd\n",
      "Done for RTStruct 1.3.6.1.4.1.32722.415.6.54075245936183112577292620976585069697 of subject P0415C0006I5217471 .... moving on ....\n"
     ]
    },
    {
     "name": "stderr",
     "output_type": "stream",
     "text": [
      " 84.1 MiB |    #                                                  |   1.5 MiB/s\n"
     ]
    },
    {
     "name": "stdout",
     "output_type": "stream",
     "text": [
      "Processing: P0415C0006I5351827\n",
      "Starting with RTStruct 1.3.6.1.4.1.32722.415.6.147729539633017194865715469888511083934\n",
      "Located CT IMAGE file : ./NrrdFolder/ct_image.nrrd\n",
      "Saved CT_IMAGE as resource in XNAT under experiment.\n",
      "hn3-radiomics;P0415C0006I5351827;P0415C0006I5351827;D_20220104_2357_ct_image;./NrrdFolder/ct_image.nrrd\n",
      "Done for RTStruct 1.3.6.1.4.1.32722.415.6.147729539633017194865715469888511083934 of subject P0415C0006I5351827 .... moving on ....\n"
     ]
    },
    {
     "name": "stderr",
     "output_type": "stream",
     "text": [
      " 78.0 MiB |                      #                                |   1.4 MiB/s\n"
     ]
    },
    {
     "name": "stdout",
     "output_type": "stream",
     "text": [
      "Processing: P0415C0006I5424843\n",
      "Starting with RTStruct 1.3.6.1.4.1.32722.415.6.315337662877116229147121719192293519708\n",
      "Located GTV file : ./NrrdFolder/GTV-1.nrrd\n",
      "Saved MASK as resource in XNAT under experiment.\n",
      "hn3-radiomics;P0415C0006I5424843;P0415C0006I5424843;D_20220104_2357_GTV-1;./NrrdFolder/GTV-1.nrrd\n",
      "Located GTV file : ./NrrdFolder/GTV-2.nrrd\n",
      "Saved MASK as resource in XNAT under experiment.\n",
      "hn3-radiomics;P0415C0006I5424843;P0415C0006I5424843;D_20220104_2357_GTV-2;./NrrdFolder/GTV-2.nrrd\n",
      "Located GTV file : ./NrrdFolder/GTV3.nrrd\n",
      "Saved MASK as resource in XNAT under experiment.\n",
      "hn3-radiomics;P0415C0006I5424843;P0415C0006I5424843;D_20220104_2357_GTV3;./NrrdFolder/GTV3.nrrd\n",
      "Located CT IMAGE file : ./NrrdFolder/ct_image.nrrd\n",
      "Saved CT_IMAGE as resource in XNAT under experiment.\n",
      "hn3-radiomics;P0415C0006I5424843;P0415C0006I5424843;D_20220104_2357_ct_image;./NrrdFolder/ct_image.nrrd\n",
      "Done for RTStruct 1.3.6.1.4.1.32722.415.6.315337662877116229147121719192293519708 of subject P0415C0006I5424843 .... moving on ....\n"
     ]
    },
    {
     "name": "stderr",
     "output_type": "stream",
     "text": [
      " 72.4 MiB |                                              #        |   1.4 MiB/s\n"
     ]
    },
    {
     "name": "stdout",
     "output_type": "stream",
     "text": [
      "Processing: P0415C0006I5443091\n",
      "Starting with RTStruct 1.3.6.1.4.1.32722.415.6.247419713105707681120147828989313586870\n",
      "Located GTV file : ./NrrdFolder/GTVn_L.nrrd\n",
      "Saved MASK as resource in XNAT under experiment.\n",
      "hn3-radiomics;P0415C0006I5443091;P0415C0006I5443091;D_20220104_2357_GTVn_L;./NrrdFolder/GTVn_L.nrrd\n",
      "Located GTV file : ./NrrdFolder/GTVp1.nrrd\n",
      "Saved MASK as resource in XNAT under experiment.\n",
      "hn3-radiomics;P0415C0006I5443091;P0415C0006I5443091;D_20220104_2357_GTVp1;./NrrdFolder/GTVp1.nrrd\n",
      "Located CT IMAGE file : ./NrrdFolder/ct_image.nrrd\n",
      "Saved CT_IMAGE as resource in XNAT under experiment.\n",
      "hn3-radiomics;P0415C0006I5443091;P0415C0006I5443091;D_20220104_2357_ct_image;./NrrdFolder/ct_image.nrrd\n",
      "Done for RTStruct 1.3.6.1.4.1.32722.415.6.247419713105707681120147828989313586870 of subject P0415C0006I5443091 .... moving on ....\n"
     ]
    },
    {
     "name": "stderr",
     "output_type": "stream",
     "text": [
      "121.0 MiB |            #                                          |   1.6 MiB/s\n"
     ]
    },
    {
     "name": "stdout",
     "output_type": "stream",
     "text": [
      "Processing: P0415C0006I5461698\n",
      "Starting with RTStruct 1.3.6.1.4.1.32722.415.6.162692713547183860827015250377189815901\n",
      "Located GTV file : ./NrrdFolder/GTV-1.nrrd\n",
      "Saved MASK as resource in XNAT under experiment.\n",
      "hn3-radiomics;P0415C0006I5461698;P0415C0006I5461698;D_20220104_2357_GTV-1;./NrrdFolder/GTV-1.nrrd\n",
      "Located GTV file : ./NrrdFolder/GTV-2.nrrd\n",
      "Saved MASK as resource in XNAT under experiment.\n",
      "hn3-radiomics;P0415C0006I5461698;P0415C0006I5461698;D_20220104_2357_GTV-2;./NrrdFolder/GTV-2.nrrd\n",
      "Located GTV file : ./NrrdFolder/GTV-3.nrrd\n",
      "Saved MASK as resource in XNAT under experiment.\n",
      "hn3-radiomics;P0415C0006I5461698;P0415C0006I5461698;D_20220104_2357_GTV-3;./NrrdFolder/GTV-3.nrrd\n",
      "Located CT IMAGE file : ./NrrdFolder/ct_image.nrrd\n",
      "Saved CT_IMAGE as resource in XNAT under experiment.\n",
      "hn3-radiomics;P0415C0006I5461698;P0415C0006I5461698;D_20220104_2357_ct_image;./NrrdFolder/ct_image.nrrd\n",
      "Done for RTStruct 1.3.6.1.4.1.32722.415.6.162692713547183860827015250377189815901 of subject P0415C0006I5461698 .... moving on ....\n"
     ]
    },
    {
     "name": "stderr",
     "output_type": "stream",
     "text": [
      " 72.5 MiB |                                                #      |   1.3 MiB/s\n"
     ]
    },
    {
     "name": "stdout",
     "output_type": "stream",
     "text": [
      "Processing: P0415C0006I5495649\n",
      "Starting with RTStruct 1.3.6.1.4.1.32722.415.6.106559326439697201548034339723709924754\n",
      "Located GTV file : ./NrrdFolder/GTVp1.nrrd\n",
      "Saved MASK as resource in XNAT under experiment.\n",
      "hn3-radiomics;P0415C0006I5495649;P0415C0006I5495649;V_20220104_2357_GTVp1;./NrrdFolder/GTVp1.nrrd\n",
      "Located CT IMAGE file : ./NrrdFolder/ct_image.nrrd\n",
      "Saved CT_IMAGE as resource in XNAT under experiment.\n",
      "hn3-radiomics;P0415C0006I5495649;P0415C0006I5495649;V_20220104_2357_ct_image;./NrrdFolder/ct_image.nrrd\n",
      "Done for RTStruct 1.3.6.1.4.1.32722.415.6.106559326439697201548034339723709924754 of subject P0415C0006I5495649 .... moving on ....\n"
     ]
    },
    {
     "name": "stderr",
     "output_type": "stream",
     "text": [
      " 84.3 MiB |   #                                                   |   1.4 MiB/s\n"
     ]
    },
    {
     "name": "stdout",
     "output_type": "stream",
     "text": [
      "Processing: P0415C0006I5678481\n",
      "Starting with RTStruct 1.3.6.1.4.1.32722.415.6.162292143827474049277334036174960089167\n",
      "Located GTV file : ./NrrdFolder/GTV-1.nrrd\n",
      "Saved MASK as resource in XNAT under experiment.\n",
      "hn3-radiomics;P0415C0006I5678481;P0415C0006I5678481;D_20220104_2357_GTV-1;./NrrdFolder/GTV-1.nrrd\n",
      "Located CT IMAGE file : ./NrrdFolder/ct_image.nrrd\n",
      "Saved CT_IMAGE as resource in XNAT under experiment.\n",
      "hn3-radiomics;P0415C0006I5678481;P0415C0006I5678481;D_20220104_2357_ct_image;./NrrdFolder/ct_image.nrrd\n",
      "Done for RTStruct 1.3.6.1.4.1.32722.415.6.162292143827474049277334036174960089167 of subject P0415C0006I5678481 .... moving on ....\n"
     ]
    },
    {
     "name": "stderr",
     "output_type": "stream",
     "text": [
      " 82.7 MiB |                #                                      |   1.5 MiB/s\n"
     ]
    },
    {
     "name": "stdout",
     "output_type": "stream",
     "text": [
      "Processing: P0415C0006I5691192\n",
      "Starting with RTStruct 1.3.6.1.4.1.32722.415.6.182640230735463515302164605513553298121\n",
      "Located GTV file : ./NrrdFolder/GTV-1.nrrd\n",
      "Saved MASK as resource in XNAT under experiment.\n",
      "hn3-radiomics;P0415C0006I5691192;P0415C0006I5691192;D_20220104_2357_GTV-1;./NrrdFolder/GTV-1.nrrd\n",
      "Located GTV file : ./NrrdFolder/GTV-2preop.nrrd\n",
      "Saved MASK as resource in XNAT under experiment.\n",
      "hn3-radiomics;P0415C0006I5691192;P0415C0006I5691192;D_20220104_2357_GTV-2preop;./NrrdFolder/GTV-2preop.nrrd\n",
      "Located GTV file : ./NrrdFolder/GTVPTV.nrrd\n",
      "Saved MASK as resource in XNAT under experiment.\n",
      "hn3-radiomics;P0415C0006I5691192;P0415C0006I5691192;D_20220104_2357_GTVPTV;./NrrdFolder/GTVPTV.nrrd\n",
      "Located CT IMAGE file : ./NrrdFolder/ct_image.nrrd\n",
      "Saved CT_IMAGE as resource in XNAT under experiment.\n",
      "hn3-radiomics;P0415C0006I5691192;P0415C0006I5691192;D_20220104_2357_ct_image;./NrrdFolder/ct_image.nrrd\n",
      "Done for RTStruct 1.3.6.1.4.1.32722.415.6.182640230735463515302164605513553298121 of subject P0415C0006I5691192 .... moving on ....\n"
     ]
    },
    {
     "name": "stderr",
     "output_type": "stream",
     "text": [
      " 79.0 MiB |                        #                              |   1.5 MiB/s\n"
     ]
    },
    {
     "name": "stdout",
     "output_type": "stream",
     "text": [
      "Processing: P0415C0006I5715555\n",
      "Starting with RTStruct 1.3.6.1.4.1.32722.415.6.156085520983272229076776991236689775100\n",
      "Located GTV file : ./NrrdFolder/GTV-1.nrrd\n",
      "Saved MASK as resource in XNAT under experiment.\n",
      "hn3-radiomics;P0415C0006I5715555;P0415C0006I5715555;D_20220104_2357_GTV-1;./NrrdFolder/GTV-1.nrrd\n",
      "Located CT IMAGE file : ./NrrdFolder/ct_image.nrrd\n",
      "Saved CT_IMAGE as resource in XNAT under experiment.\n",
      "hn3-radiomics;P0415C0006I5715555;P0415C0006I5715555;D_20220104_2357_ct_image;./NrrdFolder/ct_image.nrrd\n",
      "Done for RTStruct 1.3.6.1.4.1.32722.415.6.156085520983272229076776991236689775100 of subject P0415C0006I5715555 .... moving on ....\n"
     ]
    },
    {
     "name": "stderr",
     "output_type": "stream",
     "text": [
      " 86.7 MiB |     #                                                 |   1.3 MiB/s\n"
     ]
    },
    {
     "name": "stdout",
     "output_type": "stream",
     "text": [
      "Processing: P0415C0006I5745399\n",
      "Starting with RTStruct 1.3.6.1.4.1.32722.415.6.157080508843340407172491901661862893476\n",
      "Located GTV file : ./NrrdFolder/GTVp1.nrrd\n",
      "Saved MASK as resource in XNAT under experiment.\n",
      "hn3-radiomics;P0415C0006I5745399;P0415C0006I5745399;D_20220104_2357_GTVp1;./NrrdFolder/GTVp1.nrrd\n",
      "Located CT IMAGE file : ./NrrdFolder/ct_image.nrrd\n",
      "Saved CT_IMAGE as resource in XNAT under experiment.\n",
      "hn3-radiomics;P0415C0006I5745399;P0415C0006I5745399;D_20220104_2357_ct_image;./NrrdFolder/ct_image.nrrd\n",
      "Done for RTStruct 1.3.6.1.4.1.32722.415.6.157080508843340407172491901661862893476 of subject P0415C0006I5745399 .... moving on ....\n"
     ]
    },
    {
     "name": "stderr",
     "output_type": "stream",
     "text": [
      " 83.4 MiB |                                                     # |   1.6 MiB/s\n"
     ]
    },
    {
     "name": "stdout",
     "output_type": "stream",
     "text": [
      "Processing: P0415C0006I5784045\n",
      "Starting with RTStruct 1.3.6.1.4.1.32722.415.6.104960458418811105089833734457638778653\n",
      "Located GTV file : ./NrrdFolder/GTV-1.nrrd\n",
      "Saved MASK as resource in XNAT under experiment.\n",
      "hn3-radiomics;P0415C0006I5784045;P0415C0006I5784045;D_20220104_2357_GTV-1;./NrrdFolder/GTV-1.nrrd\n",
      "Located CT IMAGE file : ./NrrdFolder/ct_image.nrrd\n",
      "Saved CT_IMAGE as resource in XNAT under experiment.\n",
      "hn3-radiomics;P0415C0006I5784045;P0415C0006I5784045;D_20220104_2357_ct_image;./NrrdFolder/ct_image.nrrd\n",
      "Done for RTStruct 1.3.6.1.4.1.32722.415.6.104960458418811105089833734457638778653 of subject P0415C0006I5784045 .... moving on ....\n"
     ]
    },
    {
     "name": "stderr",
     "output_type": "stream",
     "text": [
      " 73.9 MiB |                                 #                     |   1.7 MiB/s\n"
     ]
    },
    {
     "name": "stdout",
     "output_type": "stream",
     "text": [
      "Processing: P0415C0006I5901006\n",
      "Starting with RTStruct 1.3.6.1.4.1.32722.415.6.10555676351384460594256836042366093289\n",
      "Located GTV file : ./NrrdFolder/GTV-1.nrrd\n",
      "Saved MASK as resource in XNAT under experiment.\n",
      "hn3-radiomics;P0415C0006I5901006;P0415C0006I5901006;D_20220104_2357_GTV-1;./NrrdFolder/GTV-1.nrrd\n",
      "Located GTV file : ./NrrdFolder/GTV-2.nrrd\n",
      "Saved MASK as resource in XNAT under experiment.\n",
      "hn3-radiomics;P0415C0006I5901006;P0415C0006I5901006;D_20220104_2357_GTV-2;./NrrdFolder/GTV-2.nrrd\n",
      "Located GTV file : ./NrrdFolder/GTV-3.nrrd\n",
      "Saved MASK as resource in XNAT under experiment.\n",
      "hn3-radiomics;P0415C0006I5901006;P0415C0006I5901006;D_20220104_2357_GTV-3;./NrrdFolder/GTV-3.nrrd\n",
      "Located GTV file : ./NrrdFolder/GTVPTV.nrrd\n",
      "Saved MASK as resource in XNAT under experiment.\n",
      "hn3-radiomics;P0415C0006I5901006;P0415C0006I5901006;D_20220104_2357_GTVPTV;./NrrdFolder/GTVPTV.nrrd\n",
      "Located CT IMAGE file : ./NrrdFolder/ct_image.nrrd\n",
      "Saved CT_IMAGE as resource in XNAT under experiment.\n",
      "hn3-radiomics;P0415C0006I5901006;P0415C0006I5901006;D_20220104_2357_ct_image;./NrrdFolder/ct_image.nrrd\n",
      "Done for RTStruct 1.3.6.1.4.1.32722.415.6.10555676351384460594256836042366093289 of subject P0415C0006I5901006 .... moving on ....\n"
     ]
    },
    {
     "name": "stderr",
     "output_type": "stream",
     "text": [
      " 76.4 MiB |#                                                      |   1.4 MiB/s\n"
     ]
    },
    {
     "name": "stdout",
     "output_type": "stream",
     "text": [
      "Processing: P0415C0006I8395745\n",
      "Starting with RTStruct 1.3.6.1.4.1.32722.415.6.103688689669440049760959164204007598638\n",
      "Located GTV file : ./NrrdFolder/GTV-1.nrrd\n",
      "Saved MASK as resource in XNAT under experiment.\n",
      "hn3-radiomics;P0415C0006I8395745;P0415C0006I8395745;D_20220104_2357_GTV-1;./NrrdFolder/GTV-1.nrrd\n",
      "Located CT IMAGE file : ./NrrdFolder/ct_image.nrrd\n",
      "Saved CT_IMAGE as resource in XNAT under experiment.\n",
      "hn3-radiomics;P0415C0006I8395745;P0415C0006I8395745;D_20220104_2357_ct_image;./NrrdFolder/ct_image.nrrd\n",
      "Done for RTStruct 1.3.6.1.4.1.32722.415.6.103688689669440049760959164204007598638 of subject P0415C0006I8395745 .... moving on ....\n"
     ]
    },
    {
     "name": "stderr",
     "output_type": "stream",
     "text": [
      " 76.0 MiB |          #                                            |   1.3 MiB/s\n"
     ]
    },
    {
     "name": "stdout",
     "output_type": "stream",
     "text": [
      "Processing: P0415C0006I6127161\n",
      "Starting with RTStruct 1.3.6.1.4.1.32722.415.6.296546777133858971977182536492828306761\n",
      "Located GTV file : ./NrrdFolder/GTV-1.nrrd\n",
      "Saved MASK as resource in XNAT under experiment.\n",
      "hn3-radiomics;P0415C0006I6127161;P0415C0006I6127161;D_20220104_2357_GTV-1;./NrrdFolder/GTV-1.nrrd\n",
      "Located CT IMAGE file : ./NrrdFolder/ct_image.nrrd\n",
      "Saved CT_IMAGE as resource in XNAT under experiment.\n",
      "hn3-radiomics;P0415C0006I6127161;P0415C0006I6127161;D_20220104_2357_ct_image;./NrrdFolder/ct_image.nrrd\n",
      "Done for RTStruct 1.3.6.1.4.1.32722.415.6.296546777133858971977182536492828306761 of subject P0415C0006I6127161 .... moving on ....\n"
     ]
    },
    {
     "name": "stderr",
     "output_type": "stream",
     "text": [
      " 80.5 MiB |                            #                          |   1.5 MiB/s\n"
     ]
    },
    {
     "name": "stdout",
     "output_type": "stream",
     "text": [
      "Processing: P0415C0006I8502689\n",
      "Starting with RTStruct 1.3.6.1.4.1.32722.415.6.221892537926683577213464602400329433383\n",
      "Located GTV file : ./NrrdFolder/GTVn_L.nrrd\n",
      "Saved MASK as resource in XNAT under experiment.\n",
      "hn3-radiomics;P0415C0006I8502689;P0415C0006I8502689;D_20220104_2357_GTVn_L;./NrrdFolder/GTVn_L.nrrd\n",
      "Located GTV file : ./NrrdFolder/GTVp1.nrrd\n",
      "Saved MASK as resource in XNAT under experiment.\n",
      "hn3-radiomics;P0415C0006I8502689;P0415C0006I8502689;D_20220104_2357_GTVp1;./NrrdFolder/GTVp1.nrrd\n",
      "Located CT IMAGE file : ./NrrdFolder/ct_image.nrrd\n",
      "Saved CT_IMAGE as resource in XNAT under experiment.\n",
      "hn3-radiomics;P0415C0006I8502689;P0415C0006I8502689;D_20220104_2357_ct_image;./NrrdFolder/ct_image.nrrd\n",
      "Done for RTStruct 1.3.6.1.4.1.32722.415.6.221892537926683577213464602400329433383 of subject P0415C0006I8502689 .... moving on ....\n"
     ]
    },
    {
     "name": "stderr",
     "output_type": "stream",
     "text": [
      " 78.7 MiB |          #                                            |   1.6 MiB/s\n"
     ]
    },
    {
     "name": "stdout",
     "output_type": "stream",
     "text": [
      "Processing: P0415C0006I6013428\n",
      "Starting with RTStruct 1.3.6.1.4.1.32722.415.6.331487767062433717802525391242673004728\n",
      "Located GTV file : ./NrrdFolder/GTV-1.nrrd\n",
      "Saved MASK as resource in XNAT under experiment.\n",
      "hn3-radiomics;P0415C0006I6013428;P0415C0006I6013428;D_20220104_2357_GTV-1;./NrrdFolder/GTV-1.nrrd\n",
      "Located CT IMAGE file : ./NrrdFolder/ct_image.nrrd\n",
      "Saved CT_IMAGE as resource in XNAT under experiment.\n",
      "hn3-radiomics;P0415C0006I6013428;P0415C0006I6013428;D_20220104_2357_ct_image;./NrrdFolder/ct_image.nrrd\n",
      "Done for RTStruct 1.3.6.1.4.1.32722.415.6.331487767062433717802525391242673004728 of subject P0415C0006I6013428 .... moving on ....\n"
     ]
    },
    {
     "name": "stderr",
     "output_type": "stream",
     "text": [
      " 79.1 MiB |                        #                              |   1.2 MiB/s\n"
     ]
    },
    {
     "name": "stdout",
     "output_type": "stream",
     "text": [
      "Processing: P0415C0006I6904620\n",
      "Starting with RTStruct 1.3.6.1.4.1.32722.415.6.170288725653411188901978462630497128083\n",
      "Located GTV file : ./NrrdFolder/GTV-1.nrrd\n",
      "Saved MASK as resource in XNAT under experiment.\n",
      "hn3-radiomics;P0415C0006I6904620;P0415C0006I6904620;D_20220104_2357_GTV-1;./NrrdFolder/GTV-1.nrrd\n",
      "Located GTV file : ./NrrdFolder/GTV-2.nrrd\n",
      "Saved MASK as resource in XNAT under experiment.\n",
      "hn3-radiomics;P0415C0006I6904620;P0415C0006I6904620;D_20220104_2357_GTV-2;./NrrdFolder/GTV-2.nrrd\n",
      "Located GTV file : ./NrrdFolder/GTV-3.nrrd\n",
      "Saved MASK as resource in XNAT under experiment.\n",
      "hn3-radiomics;P0415C0006I6904620;P0415C0006I6904620;D_20220104_2357_GTV-3;./NrrdFolder/GTV-3.nrrd\n",
      "Located CT IMAGE file : ./NrrdFolder/ct_image.nrrd\n",
      "Saved CT_IMAGE as resource in XNAT under experiment.\n",
      "hn3-radiomics;P0415C0006I6904620;P0415C0006I6904620;D_20220104_2357_ct_image;./NrrdFolder/ct_image.nrrd\n",
      "Done for RTStruct 1.3.6.1.4.1.32722.415.6.170288725653411188901978462630497128083 of subject P0415C0006I6904620 .... moving on ....\n"
     ]
    },
    {
     "name": "stderr",
     "output_type": "stream",
     "text": [
      " 82.5 MiB |                                                     # |   1.5 MiB/s\n"
     ]
    },
    {
     "name": "stdout",
     "output_type": "stream",
     "text": [
      "Processing: P0415C0006I6945030\n",
      "Starting with RTStruct 1.3.6.1.4.1.32722.415.6.303711986544244041497845415948572425725\n",
      "Located GTV file : ./NrrdFolder/GTV-1.nrrd\n",
      "Saved MASK as resource in XNAT under experiment.\n",
      "hn3-radiomics;P0415C0006I6945030;P0415C0006I6945030;D_20220104_2357_GTV-1;./NrrdFolder/GTV-1.nrrd\n",
      "Located CT IMAGE file : ./NrrdFolder/ct_image.nrrd\n",
      "Saved CT_IMAGE as resource in XNAT under experiment.\n",
      "hn3-radiomics;P0415C0006I6945030;P0415C0006I6945030;D_20220104_2357_ct_image;./NrrdFolder/ct_image.nrrd\n",
      "Done for RTStruct 1.3.6.1.4.1.32722.415.6.303711986544244041497845415948572425725 of subject P0415C0006I6945030 .... moving on ....\n"
     ]
    },
    {
     "name": "stderr",
     "output_type": "stream",
     "text": [
      " 90.5 MiB |                           #                           |   1.2 MiB/s\n"
     ]
    },
    {
     "name": "stdout",
     "output_type": "stream",
     "text": [
      "Processing: P0415C0006I7977295\n",
      "Starting with RTStruct 1.3.6.1.4.1.32722.415.6.276484209117788535930429710096335486605\n",
      "Located GTV file : ./NrrdFolder/GTV-1.nrrd\n",
      "Saved MASK as resource in XNAT under experiment.\n",
      "hn3-radiomics;P0415C0006I7977295;P0415C0006I7977295;D_20220104_2357_GTV-1;./NrrdFolder/GTV-1.nrrd\n",
      "Located GTV file : ./NrrdFolder/GTV-2.nrrd\n",
      "Saved MASK as resource in XNAT under experiment.\n",
      "hn3-radiomics;P0415C0006I7977295;P0415C0006I7977295;D_20220104_2357_GTV-2;./NrrdFolder/GTV-2.nrrd\n",
      "Located GTV file : ./NrrdFolder/GTV-3.nrrd\n",
      "Saved MASK as resource in XNAT under experiment.\n",
      "hn3-radiomics;P0415C0006I7977295;P0415C0006I7977295;D_20220104_2357_GTV-3;./NrrdFolder/GTV-3.nrrd\n",
      "Located CT IMAGE file : ./NrrdFolder/ct_image.nrrd\n",
      "Saved CT_IMAGE as resource in XNAT under experiment.\n",
      "hn3-radiomics;P0415C0006I7977295;P0415C0006I7977295;D_20220104_2357_ct_image;./NrrdFolder/ct_image.nrrd\n",
      "Done for RTStruct 1.3.6.1.4.1.32722.415.6.276484209117788535930429710096335486605 of subject P0415C0006I7977295 .... moving on ....\n"
     ]
    },
    {
     "name": "stderr",
     "output_type": "stream",
     "text": [
      " 78.7 MiB |             #                                         |   1.6 MiB/s\n"
     ]
    },
    {
     "name": "stdout",
     "output_type": "stream",
     "text": [
      "Processing: P0415C0006I6452284\n",
      "Starting with RTStruct 1.3.6.1.4.1.32722.415.6.294753820449334955498409141751755439145\n",
      "Located GTV file : ./NrrdFolder/GTV-1.nrrd\n",
      "Saved MASK as resource in XNAT under experiment.\n",
      "hn3-radiomics;P0415C0006I6452284;P0415C0006I6452284;D_20220104_2357_GTV-1;./NrrdFolder/GTV-1.nrrd\n",
      "Located GTV file : ./NrrdFolder/GTV-2.nrrd\n",
      "Saved MASK as resource in XNAT under experiment.\n",
      "hn3-radiomics;P0415C0006I6452284;P0415C0006I6452284;D_20220104_2357_GTV-2;./NrrdFolder/GTV-2.nrrd\n",
      "Located CT IMAGE file : ./NrrdFolder/ct_image.nrrd\n",
      "Saved CT_IMAGE as resource in XNAT under experiment.\n",
      "hn3-radiomics;P0415C0006I6452284;P0415C0006I6452284;D_20220104_2357_ct_image;./NrrdFolder/ct_image.nrrd\n",
      "Done for RTStruct 1.3.6.1.4.1.32722.415.6.294753820449334955498409141751755439145 of subject P0415C0006I6452284 .... moving on ....\n"
     ]
    },
    {
     "name": "stderr",
     "output_type": "stream",
     "text": [
      " 79.0 MiB |                    #                                  |   1.4 MiB/s\n"
     ]
    },
    {
     "name": "stdout",
     "output_type": "stream",
     "text": [
      "Processing: P0415C0006I7758700\n",
      "Starting with RTStruct 1.3.6.1.4.1.32722.415.6.185957102645528304843511863773604340224\n",
      "Located GTV file : ./NrrdFolder/GTV-1.nrrd\n",
      "Saved MASK as resource in XNAT under experiment.\n",
      "hn3-radiomics;P0415C0006I7758700;P0415C0006I7758700;D_20220104_2357_GTV-1;./NrrdFolder/GTV-1.nrrd\n",
      "Located CT IMAGE file : ./NrrdFolder/ct_image.nrrd\n",
      "Saved CT_IMAGE as resource in XNAT under experiment.\n",
      "hn3-radiomics;P0415C0006I7758700;P0415C0006I7758700;D_20220104_2357_ct_image;./NrrdFolder/ct_image.nrrd\n",
      "Done for RTStruct 1.3.6.1.4.1.32722.415.6.185957102645528304843511863773604340224 of subject P0415C0006I7758700 .... moving on ....\n"
     ]
    },
    {
     "name": "stderr",
     "output_type": "stream",
     "text": [
      " 80.6 MiB |                                                      #|   1.4 MiB/s\n"
     ]
    },
    {
     "name": "stdout",
     "output_type": "stream",
     "text": [
      "Processing: P0415C0006I5770287\n",
      "Starting with RTStruct 1.3.6.1.4.1.32722.415.6.211239924695787720574455103834287380795\n",
      "Located GTV file : ./NrrdFolder/GTV-1.nrrd\n",
      "Saved MASK as resource in XNAT under experiment.\n",
      "hn3-radiomics;P0415C0006I5770287;P0415C0006I5770287;D_20220104_2357_GTV-1;./NrrdFolder/GTV-1.nrrd\n",
      "Located GTV file : ./NrrdFolder/GTV-2.nrrd\n",
      "Saved MASK as resource in XNAT under experiment.\n",
      "hn3-radiomics;P0415C0006I5770287;P0415C0006I5770287;D_20220104_2357_GTV-2;./NrrdFolder/GTV-2.nrrd\n",
      "Located CT IMAGE file : ./NrrdFolder/ct_image.nrrd\n",
      "Saved CT_IMAGE as resource in XNAT under experiment.\n",
      "hn3-radiomics;P0415C0006I5770287;P0415C0006I5770287;D_20220104_2357_ct_image;./NrrdFolder/ct_image.nrrd\n",
      "Done for RTStruct 1.3.6.1.4.1.32722.415.6.211239924695787720574455103834287380795 of subject P0415C0006I5770287 .... moving on ....\n"
     ]
    },
    {
     "name": "stderr",
     "output_type": "stream",
     "text": [
      " 75.5 MiB |                 #                                     |   1.5 MiB/s\n"
     ]
    },
    {
     "name": "stdout",
     "output_type": "stream",
     "text": [
      "Processing: P0415C0006I5803624\n",
      "Starting with RTStruct 1.3.6.1.4.1.32722.415.6.271534516552987003393706849629042995306\n",
      "Located GTV file : ./NrrdFolder/GTV-1.nrrd\n",
      "Saved MASK as resource in XNAT under experiment.\n",
      "hn3-radiomics;P0415C0006I5803624;P0415C0006I5803624;D_20220104_2357_GTV-1;./NrrdFolder/GTV-1.nrrd\n",
      "Located GTV file : ./NrrdFolder/GTV-2.nrrd\n",
      "Saved MASK as resource in XNAT under experiment.\n",
      "hn3-radiomics;P0415C0006I5803624;P0415C0006I5803624;D_20220104_2357_GTV-2;./NrrdFolder/GTV-2.nrrd\n",
      "Located CT IMAGE file : ./NrrdFolder/ct_image.nrrd\n",
      "Saved CT_IMAGE as resource in XNAT under experiment.\n",
      "hn3-radiomics;P0415C0006I5803624;P0415C0006I5803624;D_20220104_2357_ct_image;./NrrdFolder/ct_image.nrrd\n",
      "Done for RTStruct 1.3.6.1.4.1.32722.415.6.271534516552987003393706849629042995306 of subject P0415C0006I5803624 .... moving on ....\n"
     ]
    },
    {
     "name": "stderr",
     "output_type": "stream",
     "text": [
      " 85.9 MiB |  #                                                    |   1.3 MiB/s\n"
     ]
    },
    {
     "name": "stdout",
     "output_type": "stream",
     "text": [
      "Processing: P0415C0006I5820580\n",
      "Starting with RTStruct 1.3.6.1.4.1.32722.415.6.23317161443444888636073683193627987279\n",
      "Located GTV file : ./NrrdFolder/GTV-1.nrrd\n",
      "Saved MASK as resource in XNAT under experiment.\n",
      "hn3-radiomics;P0415C0006I5820580;P0415C0006I5820580;D_20220104_2357_GTV-1;./NrrdFolder/GTV-1.nrrd\n",
      "Located GTV file : ./NrrdFolder/GTV-2.nrrd\n",
      "Saved MASK as resource in XNAT under experiment.\n",
      "hn3-radiomics;P0415C0006I5820580;P0415C0006I5820580;D_20220104_2357_GTV-2;./NrrdFolder/GTV-2.nrrd\n",
      "Located CT IMAGE file : ./NrrdFolder/ct_image.nrrd\n",
      "Saved CT_IMAGE as resource in XNAT under experiment.\n",
      "hn3-radiomics;P0415C0006I5820580;P0415C0006I5820580;D_20220104_2357_ct_image;./NrrdFolder/ct_image.nrrd\n",
      "Done for RTStruct 1.3.6.1.4.1.32722.415.6.23317161443444888636073683193627987279 of subject P0415C0006I5820580 .... moving on ....\n"
     ]
    },
    {
     "name": "stderr",
     "output_type": "stream",
     "text": [
      " 90.8 MiB |                                          #            |   1.2 MiB/s\n"
     ]
    },
    {
     "name": "stdout",
     "output_type": "stream",
     "text": [
      "Processing: P0415C0006I8388837\n",
      "Starting with RTStruct 1.3.6.1.4.1.32722.415.6.153884723372353652300984708491491626918\n",
      "Located GTV file : ./NrrdFolder/GTVn_L1.nrrd\n",
      "Saved MASK as resource in XNAT under experiment.\n",
      "hn3-radiomics;P0415C0006I8388837;P0415C0006I8388837;D_20220104_2357_GTVn_L1;./NrrdFolder/GTVn_L1.nrrd\n",
      "Located GTV file : ./NrrdFolder/GTVn_R1.nrrd\n",
      "Saved MASK as resource in XNAT under experiment.\n",
      "hn3-radiomics;P0415C0006I8388837;P0415C0006I8388837;D_20220104_2357_GTVn_R1;./NrrdFolder/GTVn_R1.nrrd\n",
      "Located GTV file : ./NrrdFolder/GTVp1.nrrd\n",
      "Saved MASK as resource in XNAT under experiment.\n",
      "hn3-radiomics;P0415C0006I8388837;P0415C0006I8388837;D_20220104_2357_GTVp1;./NrrdFolder/GTVp1.nrrd\n",
      "Located CT IMAGE file : ./NrrdFolder/ct_image.nrrd\n",
      "Saved CT_IMAGE as resource in XNAT under experiment.\n",
      "hn3-radiomics;P0415C0006I8388837;P0415C0006I8388837;D_20220104_2357_ct_image;./NrrdFolder/ct_image.nrrd\n",
      "Done for RTStruct 1.3.6.1.4.1.32722.415.6.153884723372353652300984708491491626918 of subject P0415C0006I8388837 .... moving on ....\n"
     ]
    },
    {
     "name": "stderr",
     "output_type": "stream",
     "text": [
      " 85.7 MiB |                          #                            |   1.4 MiB/s\n"
     ]
    },
    {
     "name": "stdout",
     "output_type": "stream",
     "text": [
      "Processing: P0415C0006I7901592\n",
      "Starting with RTStruct 1.3.6.1.4.1.32722.415.6.101556014142764989758637797561553543195\n",
      "Located GTV file : ./NrrdFolder/GTV-1.nrrd\n",
      "Saved MASK as resource in XNAT under experiment.\n",
      "hn3-radiomics;P0415C0006I7901592;P0415C0006I7901592;D_20220104_2357_GTV-1;./NrrdFolder/GTV-1.nrrd\n",
      "Located GTV file : ./NrrdFolder/GTV-2.nrrd\n",
      "Saved MASK as resource in XNAT under experiment.\n",
      "hn3-radiomics;P0415C0006I7901592;P0415C0006I7901592;D_20220104_2357_GTV-2;./NrrdFolder/GTV-2.nrrd\n",
      "Located CT IMAGE file : ./NrrdFolder/ct_image.nrrd\n",
      "Saved CT_IMAGE as resource in XNAT under experiment.\n",
      "hn3-radiomics;P0415C0006I7901592;P0415C0006I7901592;D_20220104_2357_ct_image;./NrrdFolder/ct_image.nrrd\n",
      "Done for RTStruct 1.3.6.1.4.1.32722.415.6.101556014142764989758637797561553543195 of subject P0415C0006I7901592 .... moving on ....\n"
     ]
    },
    {
     "name": "stderr",
     "output_type": "stream",
     "text": [
      " 99.2 MiB |                 #                                     |   1.7 MiB/s\n"
     ]
    },
    {
     "name": "stdout",
     "output_type": "stream",
     "text": [
      "Processing: P0415C0006I8510520\n",
      "Starting with RTStruct 1.3.6.1.4.1.32722.415.6.33152344995402595681111680419294689524\n",
      "Located GTV file : ./NrrdFolder/GTV-1.nrrd\n",
      "Saved MASK as resource in XNAT under experiment.\n",
      "hn3-radiomics;P0415C0006I8510520;P0415C0006I8510520;D_20220104_2357_GTV-1;./NrrdFolder/GTV-1.nrrd\n",
      "Located GTV file : ./NrrdFolder/GTV-2.nrrd\n",
      "Saved MASK as resource in XNAT under experiment.\n",
      "hn3-radiomics;P0415C0006I8510520;P0415C0006I8510520;D_20220104_2357_GTV-2;./NrrdFolder/GTV-2.nrrd\n",
      "Located GTV file : ./NrrdFolder/GTV-3.nrrd\n",
      "Saved MASK as resource in XNAT under experiment.\n",
      "hn3-radiomics;P0415C0006I8510520;P0415C0006I8510520;D_20220104_2357_GTV-3;./NrrdFolder/GTV-3.nrrd\n",
      "Located CT IMAGE file : ./NrrdFolder/ct_image.nrrd\n",
      "Saved CT_IMAGE as resource in XNAT under experiment.\n",
      "hn3-radiomics;P0415C0006I8510520;P0415C0006I8510520;D_20220104_2357_ct_image;./NrrdFolder/ct_image.nrrd\n",
      "Done for RTStruct 1.3.6.1.4.1.32722.415.6.33152344995402595681111680419294689524 of subject P0415C0006I8510520 .... moving on ....\n"
     ]
    },
    {
     "name": "stderr",
     "output_type": "stream",
     "text": [
      " 78.2 MiB |                       #                               |   1.3 MiB/s\n"
     ]
    },
    {
     "name": "stdout",
     "output_type": "stream",
     "text": [
      "Processing: P0415C0006I8749420\n",
      "Starting with RTStruct 1.3.6.1.4.1.32722.415.6.301009580379571117647804061716474814897\n",
      "Located GTV file : ./NrrdFolder/GTV-1.nrrd\n",
      "Saved MASK as resource in XNAT under experiment.\n",
      "hn3-radiomics;P0415C0006I8749420;P0415C0006I8749420;D_20220104_2357_GTV-1;./NrrdFolder/GTV-1.nrrd\n",
      "Located GTV file : ./NrrdFolder/GTV-2.nrrd\n",
      "Saved MASK as resource in XNAT under experiment.\n",
      "hn3-radiomics;P0415C0006I8749420;P0415C0006I8749420;D_20220104_2357_GTV-2;./NrrdFolder/GTV-2.nrrd\n",
      "Located CT IMAGE file : ./NrrdFolder/ct_image.nrrd\n",
      "Saved CT_IMAGE as resource in XNAT under experiment.\n",
      "hn3-radiomics;P0415C0006I8749420;P0415C0006I8749420;D_20220104_2357_ct_image;./NrrdFolder/ct_image.nrrd\n",
      "Done for RTStruct 1.3.6.1.4.1.32722.415.6.301009580379571117647804061716474814897 of subject P0415C0006I8749420 .... moving on ....\n"
     ]
    },
    {
     "name": "stderr",
     "output_type": "stream",
     "text": [
      " 77.9 MiB |     #                                                 |   1.7 MiB/s\n"
     ]
    },
    {
     "name": "stdout",
     "output_type": "stream",
     "text": [
      "Processing: P0415C0006I8165609\n",
      "Starting with RTStruct 1.3.6.1.4.1.32722.415.6.49904446777515719916851928565544158672\n",
      "Located GTV file : ./NrrdFolder/GTV-1.nrrd\n",
      "Saved MASK as resource in XNAT under experiment.\n",
      "hn3-radiomics;P0415C0006I8165609;P0415C0006I8165609;D_20220104_2357_GTV-1;./NrrdFolder/GTV-1.nrrd\n",
      "Located GTV file : ./NrrdFolder/GTV-2.nrrd\n",
      "Saved MASK as resource in XNAT under experiment.\n",
      "hn3-radiomics;P0415C0006I8165609;P0415C0006I8165609;D_20220104_2357_GTV-2;./NrrdFolder/GTV-2.nrrd\n",
      "Located GTV file : ./NrrdFolder/GTV-3.nrrd\n",
      "Saved MASK as resource in XNAT under experiment.\n",
      "hn3-radiomics;P0415C0006I8165609;P0415C0006I8165609;D_20220104_2357_GTV-3;./NrrdFolder/GTV-3.nrrd\n",
      "Located GTV file : ./NrrdFolder/GTV-4.nrrd\n",
      "Saved MASK as resource in XNAT under experiment.\n",
      "hn3-radiomics;P0415C0006I8165609;P0415C0006I8165609;D_20220104_2357_GTV-4;./NrrdFolder/GTV-4.nrrd\n",
      "Located CT IMAGE file : ./NrrdFolder/ct_image.nrrd\n",
      "Saved CT_IMAGE as resource in XNAT under experiment.\n",
      "hn3-radiomics;P0415C0006I8165609;P0415C0006I8165609;D_20220104_2357_ct_image;./NrrdFolder/ct_image.nrrd\n",
      "Done for RTStruct 1.3.6.1.4.1.32722.415.6.49904446777515719916851928565544158672 of subject P0415C0006I8165609 .... moving on ....\n"
     ]
    },
    {
     "name": "stderr",
     "output_type": "stream",
     "text": [
      " 86.6 MiB |                                         #             |   1.3 MiB/s\n"
     ]
    },
    {
     "name": "stdout",
     "output_type": "stream",
     "text": [
      "Processing: P0415C0006I6501380\n",
      "Starting with RTStruct 1.3.6.1.4.1.32722.415.6.132856464165609612397153060648068109057\n",
      "Located GTV file : ./NrrdFolder/GTV-1.nrrd\n",
      "Saved MASK as resource in XNAT under experiment.\n",
      "hn3-radiomics;P0415C0006I6501380;P0415C0006I6501380;D_20220104_2357_GTV-1;./NrrdFolder/GTV-1.nrrd\n",
      "Located GTV file : ./NrrdFolder/GTV-2 pre-op.nrrd\n",
      "Saved MASK as resource in XNAT under experiment.\n",
      "hn3-radiomics;P0415C0006I6501380;P0415C0006I6501380;D_20220104_2357_GTV-2 pre-op;./NrrdFolder/GTV-2 pre-op.nrrd\n",
      "Located GTV file : ./NrrdFolder/GTV-2.nrrd\n",
      "Saved MASK as resource in XNAT under experiment.\n",
      "hn3-radiomics;P0415C0006I6501380;P0415C0006I6501380;D_20220104_2357_GTV-2;./NrrdFolder/GTV-2.nrrd\n",
      "Located CT IMAGE file : ./NrrdFolder/ct_image.nrrd\n",
      "Saved CT_IMAGE as resource in XNAT under experiment.\n",
      "hn3-radiomics;P0415C0006I6501380;P0415C0006I6501380;D_20220104_2357_ct_image;./NrrdFolder/ct_image.nrrd\n",
      "Done for RTStruct 1.3.6.1.4.1.32722.415.6.132856464165609612397153060648068109057 of subject P0415C0006I6501380 .... moving on ....\n"
     ]
    },
    {
     "name": "stderr",
     "output_type": "stream",
     "text": [
      " 88.7 MiB |                                                   #   |   1.4 MiB/s\n"
     ]
    },
    {
     "name": "stdout",
     "output_type": "stream",
     "text": [
      "Processing: P0415C0006I5942783\n",
      "Starting with RTStruct 1.3.6.1.4.1.32722.415.6.20013965631472010733369422846573026547\n",
      "Located GTV file : ./NrrdFolder/GTVn_R.nrrd\n",
      "Saved MASK as resource in XNAT under experiment.\n",
      "hn3-radiomics;P0415C0006I5942783;P0415C0006I5942783;D_20220104_2357_GTVn_R;./NrrdFolder/GTVn_R.nrrd\n",
      "Located GTV file : ./NrrdFolder/GTVp1.nrrd\n",
      "Saved MASK as resource in XNAT under experiment.\n",
      "hn3-radiomics;P0415C0006I5942783;P0415C0006I5942783;D_20220104_2357_GTVp1;./NrrdFolder/GTVp1.nrrd\n",
      "Located CT IMAGE file : ./NrrdFolder/ct_image.nrrd\n",
      "Saved CT_IMAGE as resource in XNAT under experiment.\n",
      "hn3-radiomics;P0415C0006I5942783;P0415C0006I5942783;D_20220104_2357_ct_image;./NrrdFolder/ct_image.nrrd\n",
      "Done for RTStruct 1.3.6.1.4.1.32722.415.6.20013965631472010733369422846573026547 of subject P0415C0006I5942783 .... moving on ....\n"
     ]
    },
    {
     "name": "stderr",
     "output_type": "stream",
     "text": [
      " 85.1 MiB |     #                                                 |   1.3 MiB/s\n"
     ]
    },
    {
     "name": "stdout",
     "output_type": "stream",
     "text": [
      "Processing: P0415C0006I5933459\n",
      "Starting with RTStruct 1.3.6.1.4.1.32722.415.6.139908507718089239183333908971781987105\n",
      "Located GTV file : ./NrrdFolder/GTV_1.nrrd\n",
      "Saved MASK as resource in XNAT under experiment.\n",
      "hn3-radiomics;P0415C0006I5933459;P0415C0006I5933459;V_20220104_2357_GTV_1;./NrrdFolder/GTV_1.nrrd\n",
      "Located CT IMAGE file : ./NrrdFolder/ct_image.nrrd\n",
      "Saved CT_IMAGE as resource in XNAT under experiment.\n",
      "hn3-radiomics;P0415C0006I5933459;P0415C0006I5933459;V_20220104_2357_ct_image;./NrrdFolder/ct_image.nrrd\n",
      "Done for RTStruct 1.3.6.1.4.1.32722.415.6.139908507718089239183333908971781987105 of subject P0415C0006I5933459 .... moving on ....\n"
     ]
    },
    {
     "name": "stderr",
     "output_type": "stream",
     "text": [
      " 90.4 MiB |                                                #      |   1.5 MiB/s\n"
     ]
    },
    {
     "name": "stdout",
     "output_type": "stream",
     "text": [
      "Processing: P0415C0006I7801852\n",
      "Starting with RTStruct 1.3.6.1.4.1.32722.415.6.46873697599946306709876920824417648848\n",
      "Located GTV file : ./NrrdFolder/GTVn_R.nrrd\n",
      "Saved MASK as resource in XNAT under experiment.\n",
      "hn3-radiomics;P0415C0006I7801852;P0415C0006I7801852;V_20220104_2357_GTVn_R;./NrrdFolder/GTVn_R.nrrd\n",
      "Located GTV file : ./NrrdFolder/GTVp1.nrrd\n",
      "Saved MASK as resource in XNAT under experiment.\n",
      "hn3-radiomics;P0415C0006I7801852;P0415C0006I7801852;V_20220104_2357_GTVp1;./NrrdFolder/GTVp1.nrrd\n",
      "Located CT IMAGE file : ./NrrdFolder/ct_image.nrrd\n",
      "Saved CT_IMAGE as resource in XNAT under experiment.\n",
      "hn3-radiomics;P0415C0006I7801852;P0415C0006I7801852;V_20220104_2357_ct_image;./NrrdFolder/ct_image.nrrd\n",
      "Done for RTStruct 1.3.6.1.4.1.32722.415.6.46873697599946306709876920824417648848 of subject P0415C0006I7801852 .... moving on ....\n"
     ]
    },
    {
     "name": "stderr",
     "output_type": "stream",
     "text": [
      " 78.2 MiB |       #                                               |   1.5 MiB/s\n"
     ]
    },
    {
     "name": "stdout",
     "output_type": "stream",
     "text": [
      "Processing: P0415C0006I6005319\n",
      "Starting with RTStruct 1.3.6.1.4.1.32722.415.6.182015793789282095237026311770667192874\n",
      "Located GTV file : ./NrrdFolder/GTV-1.nrrd\n",
      "Saved MASK as resource in XNAT under experiment.\n",
      "hn3-radiomics;P0415C0006I6005319;P0415C0006I6005319;D_20220104_2357_GTV-1;./NrrdFolder/GTV-1.nrrd\n",
      "Located CT IMAGE file : ./NrrdFolder/ct_image.nrrd\n",
      "Saved CT_IMAGE as resource in XNAT under experiment.\n",
      "hn3-radiomics;P0415C0006I6005319;P0415C0006I6005319;D_20220104_2357_ct_image;./NrrdFolder/ct_image.nrrd\n",
      "Done for RTStruct 1.3.6.1.4.1.32722.415.6.182015793789282095237026311770667192874 of subject P0415C0006I6005319 .... moving on ....\n"
     ]
    },
    {
     "name": "stderr",
     "output_type": "stream",
     "text": [
      " 87.9 MiB |                                         #             |   1.5 MiB/s\n"
     ]
    },
    {
     "name": "stdout",
     "output_type": "stream",
     "text": [
      "Processing: P0415C0006I6696171\n",
      "Starting with RTStruct 1.3.6.1.4.1.32722.415.6.71893936819232530098153864098737356557\n",
      "Located GTV file : ./NrrdFolder/GTV-1.nrrd\n",
      "Saved MASK as resource in XNAT under experiment.\n",
      "hn3-radiomics;P0415C0006I6696171;P0415C0006I6696171;D_20220104_2357_GTV-1;./NrrdFolder/GTV-1.nrrd\n",
      "Located GTV file : ./NrrdFolder/GTV-2.nrrd\n",
      "Saved MASK as resource in XNAT under experiment.\n",
      "hn3-radiomics;P0415C0006I6696171;P0415C0006I6696171;D_20220104_2357_GTV-2;./NrrdFolder/GTV-2.nrrd\n",
      "Located CT IMAGE file : ./NrrdFolder/ct_image.nrrd\n",
      "Saved CT_IMAGE as resource in XNAT under experiment.\n",
      "hn3-radiomics;P0415C0006I6696171;P0415C0006I6696171;D_20220104_2357_ct_image;./NrrdFolder/ct_image.nrrd\n",
      "Done for RTStruct 1.3.6.1.4.1.32722.415.6.71893936819232530098153864098737356557 of subject P0415C0006I6696171 .... moving on ....\n"
     ]
    },
    {
     "name": "stderr",
     "output_type": "stream",
     "text": [
      " 77.6 MiB |          #                                            |   1.5 MiB/s\n"
     ]
    },
    {
     "name": "stdout",
     "output_type": "stream",
     "text": [
      "Processing: P0415C0006I7265422\n",
      "Starting with RTStruct 1.3.6.1.4.1.32722.415.6.334896174288776111724489527067438765076\n",
      "Located GTV file : ./NrrdFolder/GTV-1.nrrd\n",
      "Saved MASK as resource in XNAT under experiment.\n",
      "hn3-radiomics;P0415C0006I7265422;P0415C0006I7265422;D_20220104_2357_GTV-1;./NrrdFolder/GTV-1.nrrd\n",
      "Located GTV file : ./NrrdFolder/GTV-2.nrrd\n",
      "Saved MASK as resource in XNAT under experiment.\n",
      "hn3-radiomics;P0415C0006I7265422;P0415C0006I7265422;D_20220104_2357_GTV-2;./NrrdFolder/GTV-2.nrrd\n",
      "Located GTV file : ./NrrdFolder/GTV-3.nrrd\n",
      "Saved MASK as resource in XNAT under experiment.\n",
      "hn3-radiomics;P0415C0006I7265422;P0415C0006I7265422;D_20220104_2357_GTV-3;./NrrdFolder/GTV-3.nrrd\n",
      "Located CT IMAGE file : ./NrrdFolder/ct_image.nrrd\n",
      "Saved CT_IMAGE as resource in XNAT under experiment.\n",
      "hn3-radiomics;P0415C0006I7265422;P0415C0006I7265422;D_20220104_2357_ct_image;./NrrdFolder/ct_image.nrrd\n",
      "Done for RTStruct 1.3.6.1.4.1.32722.415.6.334896174288776111724489527067438765076 of subject P0415C0006I7265422 .... moving on ....\n"
     ]
    },
    {
     "name": "stderr",
     "output_type": "stream",
     "text": [
      " 63.5 MiB |                                             #         | 834.2 KiB/s\n"
     ]
    },
    {
     "name": "stdout",
     "output_type": "stream",
     "text": [
      "Processing: P0415C0006I7061196\n",
      "Starting with RTStruct 1.3.6.1.4.1.32722.415.6.278009405238317819264069055474762524477\n",
      "Located GTV file : ./NrrdFolder/GTVn_L.nrrd\n",
      "Saved MASK as resource in XNAT under experiment.\n",
      "hn3-radiomics;P0415C0006I7061196;P0415C0006I7061196;V_20220104_2357_GTVn_L;./NrrdFolder/GTVn_L.nrrd\n",
      "Located GTV file : ./NrrdFolder/GTVp1.nrrd\n",
      "Saved MASK as resource in XNAT under experiment.\n",
      "hn3-radiomics;P0415C0006I7061196;P0415C0006I7061196;V_20220104_2357_GTVp1;./NrrdFolder/GTVp1.nrrd\n",
      "Located CT IMAGE file : ./NrrdFolder/ct_image.nrrd\n",
      "Saved CT_IMAGE as resource in XNAT under experiment.\n",
      "hn3-radiomics;P0415C0006I7061196;P0415C0006I7061196;V_20220104_2357_ct_image;./NrrdFolder/ct_image.nrrd\n",
      "Done for RTStruct 1.3.6.1.4.1.32722.415.6.278009405238317819264069055474762524477 of subject P0415C0006I7061196 .... moving on ....\n"
     ]
    },
    {
     "name": "stderr",
     "output_type": "stream",
     "text": [
      " 84.4 MiB |    #                                                  |   1.4 MiB/s\n"
     ]
    },
    {
     "name": "stdout",
     "output_type": "stream",
     "text": [
      "Processing: P0415C0006I7686910\n",
      "Starting with RTStruct 1.3.6.1.4.1.32722.415.6.23177149355565887820585071619815077904\n",
      "Located GTV file : ./NrrdFolder/GTVn_R.nrrd\n",
      "Saved MASK as resource in XNAT under experiment.\n",
      "hn3-radiomics;P0415C0006I7686910;P0415C0006I7686910;D_20220104_2357_GTVn_R;./NrrdFolder/GTVn_R.nrrd\n",
      "Located GTV file : ./NrrdFolder/GTVp1.nrrd\n",
      "Saved MASK as resource in XNAT under experiment.\n",
      "hn3-radiomics;P0415C0006I7686910;P0415C0006I7686910;D_20220104_2357_GTVp1;./NrrdFolder/GTVp1.nrrd\n",
      "Located CT IMAGE file : ./NrrdFolder/ct_image.nrrd\n",
      "Saved CT_IMAGE as resource in XNAT under experiment.\n",
      "hn3-radiomics;P0415C0006I7686910;P0415C0006I7686910;D_20220104_2357_ct_image;./NrrdFolder/ct_image.nrrd\n",
      "Done for RTStruct 1.3.6.1.4.1.32722.415.6.23177149355565887820585071619815077904 of subject P0415C0006I7686910 .... moving on ....\n"
     ]
    },
    {
     "name": "stderr",
     "output_type": "stream",
     "text": [
      " 86.7 MiB |                            #                          |   1.6 MiB/s\n"
     ]
    },
    {
     "name": "stdout",
     "output_type": "stream",
     "text": [
      "Processing: P0415C0006I8188369\n",
      "Starting with RTStruct 1.3.6.1.4.1.32722.415.6.44295743959781188816614983802738542921\n",
      "Located GTV file : ./NrrdFolder/GTV_1.nrrd\n",
      "Saved MASK as resource in XNAT under experiment.\n",
      "hn3-radiomics;P0415C0006I8188369;P0415C0006I8188369;V_20220104_2357_GTV_1;./NrrdFolder/GTV_1.nrrd\n",
      "Located GTV file : ./NrrdFolder/GTV_2.nrrd\n",
      "Saved MASK as resource in XNAT under experiment.\n",
      "hn3-radiomics;P0415C0006I8188369;P0415C0006I8188369;V_20220104_2357_GTV_2;./NrrdFolder/GTV_2.nrrd\n",
      "Located CT IMAGE file : ./NrrdFolder/ct_image.nrrd\n",
      "Saved CT_IMAGE as resource in XNAT under experiment.\n",
      "hn3-radiomics;P0415C0006I8188369;P0415C0006I8188369;V_20220104_2357_ct_image;./NrrdFolder/ct_image.nrrd\n",
      "Done for RTStruct 1.3.6.1.4.1.32722.415.6.44295743959781188816614983802738542921 of subject P0415C0006I8188369 .... moving on ....\n"
     ]
    },
    {
     "name": "stderr",
     "output_type": "stream",
     "text": [
      " 77.6 MiB |                          #                            |   1.6 MiB/s\n"
     ]
    },
    {
     "name": "stdout",
     "output_type": "stream",
     "text": [
      "Processing: P0415C0006I8251326\n",
      "Starting with RTStruct 1.3.6.1.4.1.32722.415.6.336604628117569535822508906892675970670\n",
      "Located GTV file : ./NrrdFolder/GTV-1.nrrd\n",
      "Saved MASK as resource in XNAT under experiment.\n",
      "hn3-radiomics;P0415C0006I8251326;P0415C0006I8251326;D_20220104_2357_GTV-1;./NrrdFolder/GTV-1.nrrd\n",
      "Located GTV file : ./NrrdFolder/GTV-2.nrrd\n",
      "Saved MASK as resource in XNAT under experiment.\n",
      "hn3-radiomics;P0415C0006I8251326;P0415C0006I8251326;D_20220104_2357_GTV-2;./NrrdFolder/GTV-2.nrrd\n",
      "Located CT IMAGE file : ./NrrdFolder/ct_image.nrrd\n",
      "Saved CT_IMAGE as resource in XNAT under experiment.\n",
      "hn3-radiomics;P0415C0006I8251326;P0415C0006I8251326;D_20220104_2357_ct_image;./NrrdFolder/ct_image.nrrd\n",
      "Done for RTStruct 1.3.6.1.4.1.32722.415.6.336604628117569535822508906892675970670 of subject P0415C0006I8251326 .... moving on ....\n"
     ]
    },
    {
     "name": "stderr",
     "output_type": "stream",
     "text": [
      " 76.4 MiB |              #                                        |   1.3 MiB/s\n"
     ]
    },
    {
     "name": "stdout",
     "output_type": "stream",
     "text": [
      "Processing: P0415C0006I6134620\n",
      "Starting with RTStruct 1.3.6.1.4.1.32722.415.6.21866241101357816216828886142692430688\n",
      "Located GTV file : ./NrrdFolder/GTV-1.nrrd\n",
      "Saved MASK as resource in XNAT under experiment.\n",
      "hn3-radiomics;P0415C0006I6134620;P0415C0006I6134620;D_20220104_2357_GTV-1;./NrrdFolder/GTV-1.nrrd\n",
      "Located GTV file : ./NrrdFolder/GTV-2.nrrd\n",
      "Saved MASK as resource in XNAT under experiment.\n",
      "hn3-radiomics;P0415C0006I6134620;P0415C0006I6134620;D_20220104_2357_GTV-2;./NrrdFolder/GTV-2.nrrd\n",
      "Located GTV file : ./NrrdFolder/GTV-3.nrrd\n",
      "Saved MASK as resource in XNAT under experiment.\n",
      "hn3-radiomics;P0415C0006I6134620;P0415C0006I6134620;D_20220104_2357_GTV-3;./NrrdFolder/GTV-3.nrrd\n",
      "Located CT IMAGE file : ./NrrdFolder/ct_image.nrrd\n",
      "Saved CT_IMAGE as resource in XNAT under experiment.\n",
      "hn3-radiomics;P0415C0006I6134620;P0415C0006I6134620;D_20220104_2357_ct_image;./NrrdFolder/ct_image.nrrd\n",
      "Done for RTStruct 1.3.6.1.4.1.32722.415.6.21866241101357816216828886142692430688 of subject P0415C0006I6134620 .... moving on ....\n"
     ]
    },
    {
     "name": "stderr",
     "output_type": "stream",
     "text": [
      " 78.2 MiB |   #                                                   |   1.2 MiB/s\n"
     ]
    },
    {
     "name": "stdout",
     "output_type": "stream",
     "text": [
      "Processing: P0415C0006I8376226\n",
      "Starting with RTStruct 1.3.6.1.4.1.32722.415.6.269170903007672295171047475964533971686\n",
      "Located GTV file : ./NrrdFolder/GTV-1.nrrd\n",
      "Saved MASK as resource in XNAT under experiment.\n",
      "hn3-radiomics;P0415C0006I8376226;P0415C0006I8376226;D_20220104_2357_GTV-1;./NrrdFolder/GTV-1.nrrd\n",
      "Located GTV file : ./NrrdFolder/GTV-2.nrrd\n",
      "Saved MASK as resource in XNAT under experiment.\n",
      "hn3-radiomics;P0415C0006I8376226;P0415C0006I8376226;D_20220104_2357_GTV-2;./NrrdFolder/GTV-2.nrrd\n",
      "Located GTV file : ./NrrdFolder/GTV-3.nrrd\n",
      "Saved MASK as resource in XNAT under experiment.\n",
      "hn3-radiomics;P0415C0006I8376226;P0415C0006I8376226;D_20220104_2357_GTV-3;./NrrdFolder/GTV-3.nrrd\n",
      "Located CT IMAGE file : ./NrrdFolder/ct_image.nrrd\n",
      "Saved CT_IMAGE as resource in XNAT under experiment.\n",
      "hn3-radiomics;P0415C0006I8376226;P0415C0006I8376226;D_20220104_2357_ct_image;./NrrdFolder/ct_image.nrrd\n",
      "Done for RTStruct 1.3.6.1.4.1.32722.415.6.269170903007672295171047475964533971686 of subject P0415C0006I8376226 .... moving on ....\n"
     ]
    },
    {
     "name": "stderr",
     "output_type": "stream",
     "text": [
      " 78.3 MiB |                               #                       |   1.6 MiB/s\n"
     ]
    },
    {
     "name": "stdout",
     "output_type": "stream",
     "text": [
      "Processing: P0415C0006I7920275\n",
      "Starting with RTStruct 1.3.6.1.4.1.32722.415.6.1818924539490468632840540796829217474\n",
      "Located GTV file : ./NrrdFolder/GTV-1.nrrd\n",
      "Saved MASK as resource in XNAT under experiment.\n",
      "hn3-radiomics;P0415C0006I7920275;P0415C0006I7920275;D_20220104_2357_GTV-1;./NrrdFolder/GTV-1.nrrd\n",
      "Located CT IMAGE file : ./NrrdFolder/ct_image.nrrd\n",
      "Saved CT_IMAGE as resource in XNAT under experiment.\n",
      "hn3-radiomics;P0415C0006I7920275;P0415C0006I7920275;D_20220104_2357_ct_image;./NrrdFolder/ct_image.nrrd\n",
      "Done for RTStruct 1.3.6.1.4.1.32722.415.6.1818924539490468632840540796829217474 of subject P0415C0006I7920275 .... moving on ....\n"
     ]
    },
    {
     "name": "stderr",
     "output_type": "stream",
     "text": [
      " 87.5 MiB | #                                                     |   1.4 MiB/s\n"
     ]
    },
    {
     "name": "stdout",
     "output_type": "stream",
     "text": [
      "Processing: P0415C0006I6402177\n",
      "Starting with RTStruct 1.3.6.1.4.1.32722.415.6.247711143708544657097337722817748559299\n",
      "Located GTV file : ./NrrdFolder/GTVn_L.nrrd\n",
      "Saved MASK as resource in XNAT under experiment.\n",
      "hn3-radiomics;P0415C0006I6402177;P0415C0006I6402177;D_20220104_2357_GTVn_L;./NrrdFolder/GTVn_L.nrrd\n",
      "Located GTV file : ./NrrdFolder/GTVp1.nrrd\n",
      "Saved MASK as resource in XNAT under experiment.\n",
      "hn3-radiomics;P0415C0006I6402177;P0415C0006I6402177;D_20220104_2357_GTVp1;./NrrdFolder/GTVp1.nrrd\n",
      "Located CT IMAGE file : ./NrrdFolder/ct_image.nrrd\n",
      "Saved CT_IMAGE as resource in XNAT under experiment.\n",
      "hn3-radiomics;P0415C0006I6402177;P0415C0006I6402177;D_20220104_2357_ct_image;./NrrdFolder/ct_image.nrrd\n",
      "Done for RTStruct 1.3.6.1.4.1.32722.415.6.247711143708544657097337722817748559299 of subject P0415C0006I6402177 .... moving on ....\n"
     ]
    },
    {
     "name": "stderr",
     "output_type": "stream",
     "text": [
      " 85.4 MiB |          #                                            |   1.4 MiB/s\n"
     ]
    },
    {
     "name": "stdout",
     "output_type": "stream",
     "text": [
      "Processing: P0415C0006I6590223\n",
      "Starting with RTStruct 1.3.6.1.4.1.32722.415.6.174027816859560912918934013928296159216\n",
      "Located GTV file : ./NrrdFolder/GTVp1.nrrd\n",
      "Saved MASK as resource in XNAT under experiment.\n",
      "hn3-radiomics;P0415C0006I6590223;P0415C0006I6590223;V_20220104_2357_GTVp1;./NrrdFolder/GTVp1.nrrd\n",
      "Located CT IMAGE file : ./NrrdFolder/ct_image.nrrd\n",
      "Saved CT_IMAGE as resource in XNAT under experiment.\n",
      "hn3-radiomics;P0415C0006I6590223;P0415C0006I6590223;V_20220104_2357_ct_image;./NrrdFolder/ct_image.nrrd\n",
      "Done for RTStruct 1.3.6.1.4.1.32722.415.6.174027816859560912918934013928296159216 of subject P0415C0006I6590223 .... moving on ....\n"
     ]
    },
    {
     "name": "stderr",
     "output_type": "stream",
     "text": [
      " 80.9 MiB |                                             #         |   1.2 MiB/s\n"
     ]
    },
    {
     "name": "stdout",
     "output_type": "stream",
     "text": [
      "Processing: P0415C0006I6801385\n",
      "Starting with RTStruct 1.3.6.1.4.1.32722.415.6.128680414572081961744045019157290241453\n",
      "Located GTV file : ./NrrdFolder/GTV-1.nrrd\n",
      "Saved MASK as resource in XNAT under experiment.\n",
      "hn3-radiomics;P0415C0006I6801385;P0415C0006I6801385;D_20220104_2357_GTV-1;./NrrdFolder/GTV-1.nrrd\n",
      "Located GTV file : ./NrrdFolder/GTV-2.nrrd\n",
      "Saved MASK as resource in XNAT under experiment.\n",
      "hn3-radiomics;P0415C0006I6801385;P0415C0006I6801385;D_20220104_2357_GTV-2;./NrrdFolder/GTV-2.nrrd\n",
      "Located GTV file : ./NrrdFolder/GTV-3.nrrd\n",
      "Saved MASK as resource in XNAT under experiment.\n",
      "hn3-radiomics;P0415C0006I6801385;P0415C0006I6801385;D_20220104_2357_GTV-3;./NrrdFolder/GTV-3.nrrd\n",
      "Located CT IMAGE file : ./NrrdFolder/ct_image.nrrd\n",
      "Saved CT_IMAGE as resource in XNAT under experiment.\n",
      "hn3-radiomics;P0415C0006I6801385;P0415C0006I6801385;D_20220104_2357_ct_image;./NrrdFolder/ct_image.nrrd\n",
      "Done for RTStruct 1.3.6.1.4.1.32722.415.6.128680414572081961744045019157290241453 of subject P0415C0006I6801385 .... moving on ....\n"
     ]
    },
    {
     "name": "stderr",
     "output_type": "stream",
     "text": [
      " 99.8 MiB |                          #                            |   1.4 MiB/s\n"
     ]
    },
    {
     "name": "stdout",
     "output_type": "stream",
     "text": [
      "Processing: P0415C0006I6729812\n",
      "Starting with RTStruct 1.3.6.1.4.1.32722.415.6.34304850014708073226370004431394972207\n",
      "Located GTV file : ./NrrdFolder/GTV-1.nrrd\n",
      "Saved MASK as resource in XNAT under experiment.\n",
      "hn3-radiomics;P0415C0006I6729812;P0415C0006I6729812;D_20220104_2357_GTV-1;./NrrdFolder/GTV-1.nrrd\n",
      "Located GTV file : ./NrrdFolder/GTV-2.nrrd\n",
      "Saved MASK as resource in XNAT under experiment.\n",
      "hn3-radiomics;P0415C0006I6729812;P0415C0006I6729812;D_20220104_2357_GTV-2;./NrrdFolder/GTV-2.nrrd\n",
      "Located GTV file : ./NrrdFolder/GTV-4.nrrd\n",
      "Saved MASK as resource in XNAT under experiment.\n",
      "hn3-radiomics;P0415C0006I6729812;P0415C0006I6729812;D_20220104_2357_GTV-4;./NrrdFolder/GTV-4.nrrd\n",
      "Located CT IMAGE file : ./NrrdFolder/ct_image.nrrd\n",
      "Saved CT_IMAGE as resource in XNAT under experiment.\n",
      "hn3-radiomics;P0415C0006I6729812;P0415C0006I6729812;D_20220104_2357_ct_image;./NrrdFolder/ct_image.nrrd\n",
      "Done for RTStruct 1.3.6.1.4.1.32722.415.6.34304850014708073226370004431394972207 of subject P0415C0006I6729812 .... moving on ....\n"
     ]
    },
    {
     "name": "stderr",
     "output_type": "stream",
     "text": [
      "114.9 MiB |                                                 #     |   1.5 MiB/s\n"
     ]
    },
    {
     "name": "stdout",
     "output_type": "stream",
     "text": [
      "Processing: P0415C0006I6902945\n",
      "Starting with RTStruct 1.3.6.1.4.1.32722.415.6.211555372178497366658086356264160125249\n",
      "Located GTV file : ./NrrdFolder/GTV-1.nrrd\n",
      "Saved MASK as resource in XNAT under experiment.\n",
      "hn3-radiomics;P0415C0006I6902945;P0415C0006I6902945;D_20220104_2357_GTV-1;./NrrdFolder/GTV-1.nrrd\n",
      "Located CT IMAGE file : ./NrrdFolder/ct_image.nrrd\n",
      "Saved CT_IMAGE as resource in XNAT under experiment.\n",
      "hn3-radiomics;P0415C0006I6902945;P0415C0006I6902945;D_20220104_2357_ct_image;./NrrdFolder/ct_image.nrrd\n",
      "Done for RTStruct 1.3.6.1.4.1.32722.415.6.211555372178497366658086356264160125249 of subject P0415C0006I6902945 .... moving on ....\n"
     ]
    },
    {
     "name": "stderr",
     "output_type": "stream",
     "text": [
      " 85.7 MiB |                        #                              |   1.2 MiB/s\n"
     ]
    },
    {
     "name": "stdout",
     "output_type": "stream",
     "text": [
      "Processing: P0415C0006I7741679\n",
      "Starting with RTStruct 1.3.6.1.4.1.32722.415.6.331165072182393445623869076106769918659\n",
      "Located GTV file : ./NrrdFolder/GTV_1.nrrd\n",
      "Saved MASK as resource in XNAT under experiment.\n",
      "hn3-radiomics;P0415C0006I7741679;P0415C0006I7741679;D_20220104_2357_GTV_1;./NrrdFolder/GTV_1.nrrd\n",
      "Located GTV file : ./NrrdFolder/GTV_2.nrrd\n",
      "Saved MASK as resource in XNAT under experiment.\n",
      "hn3-radiomics;P0415C0006I7741679;P0415C0006I7741679;D_20220104_2357_GTV_2;./NrrdFolder/GTV_2.nrrd\n",
      "Located CT IMAGE file : ./NrrdFolder/ct_image.nrrd\n",
      "Saved CT_IMAGE as resource in XNAT under experiment.\n",
      "hn3-radiomics;P0415C0006I7741679;P0415C0006I7741679;D_20220104_2357_ct_image;./NrrdFolder/ct_image.nrrd\n",
      "Done for RTStruct 1.3.6.1.4.1.32722.415.6.331165072182393445623869076106769918659 of subject P0415C0006I7741679 .... moving on ....\n"
     ]
    },
    {
     "name": "stderr",
     "output_type": "stream",
     "text": [
      " 77.7 MiB |  #                                                    |   1.4 MiB/s\n"
     ]
    },
    {
     "name": "stdout",
     "output_type": "stream",
     "text": [
      "Processing: P0415C0006I8139948\n",
      "Starting with RTStruct 1.3.6.1.4.1.32722.415.6.206962754647708103462814273844508501619\n",
      "Located GTV file : ./NrrdFolder/GTVn_R.nrrd\n",
      "Saved MASK as resource in XNAT under experiment.\n",
      "hn3-radiomics;P0415C0006I8139948;P0415C0006I8139948;D_20220104_2357_GTVn_R;./NrrdFolder/GTVn_R.nrrd\n",
      "Located GTV file : ./NrrdFolder/GTVp1.nrrd\n",
      "Saved MASK as resource in XNAT under experiment.\n",
      "hn3-radiomics;P0415C0006I8139948;P0415C0006I8139948;D_20220104_2357_GTVp1;./NrrdFolder/GTVp1.nrrd\n",
      "Located CT IMAGE file : ./NrrdFolder/ct_image.nrrd\n",
      "Saved CT_IMAGE as resource in XNAT under experiment.\n",
      "hn3-radiomics;P0415C0006I8139948;P0415C0006I8139948;D_20220104_2357_ct_image;./NrrdFolder/ct_image.nrrd\n",
      "Done for RTStruct 1.3.6.1.4.1.32722.415.6.206962754647708103462814273844508501619 of subject P0415C0006I8139948 .... moving on ....\n"
     ]
    },
    {
     "name": "stderr",
     "output_type": "stream",
     "text": [
      " 77.5 MiB |        #                                              |   1.6 MiB/s\n"
     ]
    },
    {
     "name": "stdout",
     "output_type": "stream",
     "text": [
      "Processing: P0415C0006I7467347\n",
      "Starting with RTStruct 1.3.6.1.4.1.32722.415.6.42904277268291720368153763764721758262\n",
      "Located GTV file : ./NrrdFolder/GTV-1.nrrd\n",
      "Saved MASK as resource in XNAT under experiment.\n",
      "hn3-radiomics;P0415C0006I7467347;P0415C0006I7467347;D_20220104_2357_GTV-1;./NrrdFolder/GTV-1.nrrd\n",
      "Located CT IMAGE file : ./NrrdFolder/ct_image.nrrd\n",
      "Saved CT_IMAGE as resource in XNAT under experiment.\n",
      "hn3-radiomics;P0415C0006I7467347;P0415C0006I7467347;D_20220104_2357_ct_image;./NrrdFolder/ct_image.nrrd\n",
      "Done for RTStruct 1.3.6.1.4.1.32722.415.6.42904277268291720368153763764721758262 of subject P0415C0006I7467347 .... moving on ....\n"
     ]
    },
    {
     "name": "stderr",
     "output_type": "stream",
     "text": [
      " 78.7 MiB |                     #                                 |   1.5 MiB/s\n"
     ]
    },
    {
     "name": "stdout",
     "output_type": "stream",
     "text": [
      "Processing: P0415C0006I7437948\n",
      "Starting with RTStruct 1.3.6.1.4.1.32722.415.6.181606577926623390377476633874096485482\n",
      "Located GTV file : ./NrrdFolder/GTV-1.nrrd\n",
      "Saved MASK as resource in XNAT under experiment.\n",
      "hn3-radiomics;P0415C0006I7437948;P0415C0006I7437948;D_20220104_2357_GTV-1;./NrrdFolder/GTV-1.nrrd\n",
      "Located GTV file : ./NrrdFolder/GTVPTV.nrrd\n",
      "Saved MASK as resource in XNAT under experiment.\n",
      "hn3-radiomics;P0415C0006I7437948;P0415C0006I7437948;D_20220104_2357_GTVPTV;./NrrdFolder/GTVPTV.nrrd\n",
      "Located CT IMAGE file : ./NrrdFolder/ct_image.nrrd\n",
      "Saved CT_IMAGE as resource in XNAT under experiment.\n",
      "hn3-radiomics;P0415C0006I7437948;P0415C0006I7437948;D_20220104_2357_ct_image;./NrrdFolder/ct_image.nrrd\n",
      "Done for RTStruct 1.3.6.1.4.1.32722.415.6.181606577926623390377476633874096485482 of subject P0415C0006I7437948 .... moving on ....\n"
     ]
    },
    {
     "name": "stderr",
     "output_type": "stream",
     "text": [
      " 78.8 MiB |                     #                                 |   1.5 MiB/s\n"
     ]
    },
    {
     "name": "stdout",
     "output_type": "stream",
     "text": [
      "Processing: P0415C0006I6637958\n",
      "Starting with RTStruct 1.3.6.1.4.1.32722.415.6.69516570998276370637320112491774510197\n",
      "Located GTV file : ./NrrdFolder/GTV-1.nrrd\n",
      "Saved MASK as resource in XNAT under experiment.\n",
      "hn3-radiomics;P0415C0006I6637958;P0415C0006I6637958;D_20220104_2357_GTV-1;./NrrdFolder/GTV-1.nrrd\n",
      "Located GTV file : ./NrrdFolder/GTV-2.nrrd\n",
      "Saved MASK as resource in XNAT under experiment.\n",
      "hn3-radiomics;P0415C0006I6637958;P0415C0006I6637958;D_20220104_2357_GTV-2;./NrrdFolder/GTV-2.nrrd\n",
      "Located CT IMAGE file : ./NrrdFolder/ct_image.nrrd\n",
      "Saved CT_IMAGE as resource in XNAT under experiment.\n",
      "hn3-radiomics;P0415C0006I6637958;P0415C0006I6637958;D_20220104_2357_ct_image;./NrrdFolder/ct_image.nrrd\n",
      "Done for RTStruct 1.3.6.1.4.1.32722.415.6.69516570998276370637320112491774510197 of subject P0415C0006I6637958 .... moving on ....\n"
     ]
    },
    {
     "name": "stderr",
     "output_type": "stream",
     "text": [
      " 75.4 MiB |                                  #                    |   1.5 MiB/s\n"
     ]
    },
    {
     "name": "stdout",
     "output_type": "stream",
     "text": [
      "Processing: P0415C0006I7233147\n",
      "Starting with RTStruct 1.3.6.1.4.1.32722.415.6.240680608854000857483689541495622318563\n",
      "Located GTV file : ./NrrdFolder/GTV-1.nrrd\n",
      "Saved MASK as resource in XNAT under experiment.\n",
      "hn3-radiomics;P0415C0006I7233147;P0415C0006I7233147;D_20220104_2357_GTV-1;./NrrdFolder/GTV-1.nrrd\n",
      "Located GTV file : ./NrrdFolder/GTV-2.nrrd\n",
      "Saved MASK as resource in XNAT under experiment.\n",
      "hn3-radiomics;P0415C0006I7233147;P0415C0006I7233147;D_20220104_2357_GTV-2;./NrrdFolder/GTV-2.nrrd\n",
      "Located CT IMAGE file : ./NrrdFolder/ct_image.nrrd\n",
      "Saved CT_IMAGE as resource in XNAT under experiment.\n",
      "hn3-radiomics;P0415C0006I7233147;P0415C0006I7233147;D_20220104_2357_ct_image;./NrrdFolder/ct_image.nrrd\n",
      "Done for RTStruct 1.3.6.1.4.1.32722.415.6.240680608854000857483689541495622318563 of subject P0415C0006I7233147 .... moving on ....\n"
     ]
    },
    {
     "name": "stderr",
     "output_type": "stream",
     "text": [
      " 90.6 MiB |                      #                                |   1.4 MiB/s\n"
     ]
    },
    {
     "name": "stdout",
     "output_type": "stream",
     "text": [
      "Processing: P0415C0006I7055526\n",
      "Starting with RTStruct 1.3.6.1.4.1.32722.415.6.271071428719834993406339952058108898471\n",
      "Located GTV file : ./NrrdFolder/GTVn_L.nrrd\n",
      "Saved MASK as resource in XNAT under experiment.\n",
      "hn3-radiomics;P0415C0006I7055526;P0415C0006I7055526;D_20220104_2357_GTVn_L;./NrrdFolder/GTVn_L.nrrd\n",
      "Located GTV file : ./NrrdFolder/GTVn_R.nrrd\n",
      "Saved MASK as resource in XNAT under experiment.\n",
      "hn3-radiomics;P0415C0006I7055526;P0415C0006I7055526;D_20220104_2357_GTVn_R;./NrrdFolder/GTVn_R.nrrd\n",
      "Located GTV file : ./NrrdFolder/GTVp1.nrrd\n",
      "Saved MASK as resource in XNAT under experiment.\n",
      "hn3-radiomics;P0415C0006I7055526;P0415C0006I7055526;D_20220104_2357_GTVp1;./NrrdFolder/GTVp1.nrrd\n",
      "Located CT IMAGE file : ./NrrdFolder/ct_image.nrrd\n",
      "Saved CT_IMAGE as resource in XNAT under experiment.\n",
      "hn3-radiomics;P0415C0006I7055526;P0415C0006I7055526;D_20220104_2357_ct_image;./NrrdFolder/ct_image.nrrd\n",
      "Done for RTStruct 1.3.6.1.4.1.32722.415.6.271071428719834993406339952058108898471 of subject P0415C0006I7055526 .... moving on ....\n"
     ]
    },
    {
     "name": "stderr",
     "output_type": "stream",
     "text": [
      " 76.3 MiB |                                                 #     |   1.5 MiB/s\n"
     ]
    },
    {
     "name": "stdout",
     "output_type": "stream",
     "text": [
      "Processing: P0415C0006I8176472\n",
      "Starting with RTStruct 1.3.6.1.4.1.32722.415.6.219678317165678985989891946892124407872\n",
      "Located GTV file : ./NrrdFolder/GTVp1.nrrd\n",
      "Saved MASK as resource in XNAT under experiment.\n",
      "hn3-radiomics;P0415C0006I8176472;P0415C0006I8176472;D_20220104_2357_GTVp1;./NrrdFolder/GTVp1.nrrd\n",
      "Located CT IMAGE file : ./NrrdFolder/ct_image.nrrd\n",
      "Saved CT_IMAGE as resource in XNAT under experiment.\n",
      "hn3-radiomics;P0415C0006I8176472;P0415C0006I8176472;D_20220104_2357_ct_image;./NrrdFolder/ct_image.nrrd\n",
      "Done for RTStruct 1.3.6.1.4.1.32722.415.6.219678317165678985989891946892124407872 of subject P0415C0006I8176472 .... moving on ....\n"
     ]
    },
    {
     "name": "stderr",
     "output_type": "stream",
     "text": [
      " 87.3 MiB |                                                  #    | 934.3 KiB/s\n"
     ]
    },
    {
     "name": "stdout",
     "output_type": "stream",
     "text": [
      "Processing: P0415C0006I8731433\n",
      "Starting with RTStruct 1.3.6.1.4.1.32722.415.6.283403820953602564076710876292412365430\n",
      "Located GTV file : ./NrrdFolder/GTV-2.nrrd\n",
      "Saved MASK as resource in XNAT under experiment.\n",
      "hn3-radiomics;P0415C0006I8731433;P0415C0006I8731433;D_20220104_2357_GTV-2;./NrrdFolder/GTV-2.nrrd\n",
      "Located GTV file : ./NrrdFolder/GTVPTV.nrrd\n",
      "Saved MASK as resource in XNAT under experiment.\n",
      "hn3-radiomics;P0415C0006I8731433;P0415C0006I8731433;D_20220104_2357_GTVPTV;./NrrdFolder/GTVPTV.nrrd\n",
      "Located CT IMAGE file : ./NrrdFolder/ct_image.nrrd\n",
      "Saved CT_IMAGE as resource in XNAT under experiment.\n",
      "hn3-radiomics;P0415C0006I8731433;P0415C0006I8731433;D_20220104_2357_ct_image;./NrrdFolder/ct_image.nrrd\n",
      "Done for RTStruct 1.3.6.1.4.1.32722.415.6.283403820953602564076710876292412365430 of subject P0415C0006I8731433 .... moving on ....\n"
     ]
    },
    {
     "name": "stderr",
     "output_type": "stream",
     "text": [
      " 78.0 MiB |#                                                      |   1.9 MiB/s\n"
     ]
    },
    {
     "name": "stdout",
     "output_type": "stream",
     "text": [
      "Processing: P0415C0006I9176704\n",
      "Starting with RTStruct 1.3.6.1.4.1.32722.415.6.229678361108755187162907770628387505138\n",
      "Located GTV file : ./NrrdFolder/GTV-1.nrrd\n",
      "Saved MASK as resource in XNAT under experiment.\n",
      "hn3-radiomics;P0415C0006I9176704;P0415C0006I9176704;V_20220104_2357_GTV-1;./NrrdFolder/GTV-1.nrrd\n",
      "Located GTV file : ./NrrdFolder/GTV-lk L.nrrd\n",
      "Saved MASK as resource in XNAT under experiment.\n",
      "hn3-radiomics;P0415C0006I9176704;P0415C0006I9176704;V_20220104_2357_GTV-lk L;./NrrdFolder/GTV-lk L.nrrd\n",
      "Located GTV file : ./NrrdFolder/GTV-lk R.nrrd\n",
      "Saved MASK as resource in XNAT under experiment.\n",
      "hn3-radiomics;P0415C0006I9176704;P0415C0006I9176704;V_20220104_2357_GTV-lk R;./NrrdFolder/GTV-lk R.nrrd\n",
      "Located CT IMAGE file : ./NrrdFolder/ct_image.nrrd\n",
      "Saved CT_IMAGE as resource in XNAT under experiment.\n",
      "hn3-radiomics;P0415C0006I9176704;P0415C0006I9176704;V_20220104_2357_ct_image;./NrrdFolder/ct_image.nrrd\n",
      "Done for RTStruct 1.3.6.1.4.1.32722.415.6.229678361108755187162907770628387505138 of subject P0415C0006I9176704 .... moving on ....\n"
     ]
    },
    {
     "name": "stderr",
     "output_type": "stream",
     "text": [
      " 83.5 MiB |          #                                            |   1.5 MiB/s\n"
     ]
    },
    {
     "name": "stdout",
     "output_type": "stream",
     "text": [
      "Processing: P0415C0006I8205891\n",
      "Starting with RTStruct 1.3.6.1.4.1.32722.415.6.90019478189627941680716408024340446680\n",
      "Located GTV file : ./NrrdFolder/GTV-1.nrrd\n",
      "Saved MASK as resource in XNAT under experiment.\n",
      "hn3-radiomics;P0415C0006I8205891;P0415C0006I8205891;V_20220104_2357_GTV-1;./NrrdFolder/GTV-1.nrrd\n",
      "Located GTV file : ./NrrdFolder/GTV-2.nrrd\n",
      "Saved MASK as resource in XNAT under experiment.\n",
      "hn3-radiomics;P0415C0006I8205891;P0415C0006I8205891;V_20220104_2357_GTV-2;./NrrdFolder/GTV-2.nrrd\n",
      "Located CT IMAGE file : ./NrrdFolder/ct_image.nrrd\n",
      "Saved CT_IMAGE as resource in XNAT under experiment.\n",
      "hn3-radiomics;P0415C0006I8205891;P0415C0006I8205891;V_20220104_2357_ct_image;./NrrdFolder/ct_image.nrrd\n",
      "Done for RTStruct 1.3.6.1.4.1.32722.415.6.90019478189627941680716408024340446680 of subject P0415C0006I8205891 .... moving on ....\n"
     ]
    },
    {
     "name": "stderr",
     "output_type": "stream",
     "text": [
      " 78.5 MiB |               #                                       |   1.5 MiB/s\n"
     ]
    },
    {
     "name": "stdout",
     "output_type": "stream",
     "text": [
      "Processing: P0415C0006I8574428\n",
      "Starting with RTStruct 1.3.6.1.4.1.32722.415.6.122012492251857444589842621343983641975\n",
      "Located GTV file : ./NrrdFolder/GTV-1.nrrd\n",
      "Saved MASK as resource in XNAT under experiment.\n",
      "hn3-radiomics;P0415C0006I8574428;P0415C0006I8574428;V_20220104_2357_GTV-1;./NrrdFolder/GTV-1.nrrd\n",
      "Located GTV file : ./NrrdFolder/GTV-2.nrrd\n",
      "Saved MASK as resource in XNAT under experiment.\n",
      "hn3-radiomics;P0415C0006I8574428;P0415C0006I8574428;V_20220104_2357_GTV-2;./NrrdFolder/GTV-2.nrrd\n",
      "Located GTV file : ./NrrdFolder/GTV-preop.nrrd\n",
      "Saved MASK as resource in XNAT under experiment.\n",
      "hn3-radiomics;P0415C0006I8574428;P0415C0006I8574428;V_20220104_2357_GTV-preop;./NrrdFolder/GTV-preop.nrrd\n",
      "Located CT IMAGE file : ./NrrdFolder/ct_image.nrrd\n",
      "Saved CT_IMAGE as resource in XNAT under experiment.\n",
      "hn3-radiomics;P0415C0006I8574428;P0415C0006I8574428;V_20220104_2357_ct_image;./NrrdFolder/ct_image.nrrd\n",
      "Done for RTStruct 1.3.6.1.4.1.32722.415.6.122012492251857444589842621343983641975 of subject P0415C0006I8574428 .... moving on ....\n"
     ]
    },
    {
     "name": "stderr",
     "output_type": "stream",
     "text": [
      "138.2 MiB |        #                                              |   1.4 MiB/s\n"
     ]
    },
    {
     "name": "stdout",
     "output_type": "stream",
     "text": [
      "Processing: P0415C0006I8383593\n",
      "Starting with RTStruct 1.3.6.1.4.1.32722.415.6.167438893903857598046058010723745234705\n",
      "Located GTV file : ./NrrdFolder/GTVp1.nrrd\n",
      "Saved MASK as resource in XNAT under experiment.\n",
      "hn3-radiomics;P0415C0006I8383593;P0415C0006I8383593;D_20220104_2357_GTVp1;./NrrdFolder/GTVp1.nrrd\n",
      "Located CT IMAGE file : ./NrrdFolder/ct_image.nrrd\n",
      "Saved CT_IMAGE as resource in XNAT under experiment.\n",
      "hn3-radiomics;P0415C0006I8383593;P0415C0006I8383593;D_20220104_2357_ct_image;./NrrdFolder/ct_image.nrrd\n",
      "Done for RTStruct 1.3.6.1.4.1.32722.415.6.167438893903857598046058010723745234705 of subject P0415C0006I8383593 .... moving on ....\n"
     ]
    },
    {
     "name": "stderr",
     "output_type": "stream",
     "text": [
      "136.4 MiB |           #                                           |   1.4 MiB/s\n"
     ]
    },
    {
     "name": "stdout",
     "output_type": "stream",
     "text": [
      "Processing: P0415C0006I8471795\n",
      "Starting with RTStruct 1.3.6.1.4.1.32722.415.6.136722518308256033299801535130887208410\n",
      "Located GTV file : ./NrrdFolder/GTVn_L.nrrd\n",
      "Saved MASK as resource in XNAT under experiment.\n",
      "hn3-radiomics;P0415C0006I8471795;P0415C0006I8471795;D_20220104_2357_GTVn_L;./NrrdFolder/GTVn_L.nrrd\n",
      "Located GTV file : ./NrrdFolder/GTVn_R.nrrd\n",
      "Saved MASK as resource in XNAT under experiment.\n",
      "hn3-radiomics;P0415C0006I8471795;P0415C0006I8471795;D_20220104_2357_GTVn_R;./NrrdFolder/GTVn_R.nrrd\n",
      "Located GTV file : ./NrrdFolder/GTVp1.nrrd\n",
      "Saved MASK as resource in XNAT under experiment.\n",
      "hn3-radiomics;P0415C0006I8471795;P0415C0006I8471795;D_20220104_2357_GTVp1;./NrrdFolder/GTVp1.nrrd\n",
      "Located CT IMAGE file : ./NrrdFolder/ct_image.nrrd\n",
      "Saved CT_IMAGE as resource in XNAT under experiment.\n",
      "hn3-radiomics;P0415C0006I8471795;P0415C0006I8471795;D_20220104_2357_ct_image;./NrrdFolder/ct_image.nrrd\n",
      "Done for RTStruct 1.3.6.1.4.1.32722.415.6.136722518308256033299801535130887208410 of subject P0415C0006I8471795 .... moving on ....\n"
     ]
    },
    {
     "name": "stderr",
     "output_type": "stream",
     "text": [
      " 86.1 MiB |                    #                                  |   1.3 MiB/s\n"
     ]
    },
    {
     "name": "stdout",
     "output_type": "stream",
     "text": [
      "Processing: P0415C0006I9018535\n",
      "Starting with RTStruct 1.3.6.1.4.1.32722.415.6.292236474084231395678055318997815308060\n",
      "Located GTV file : ./NrrdFolder/GTVn_R.nrrd\n",
      "Saved MASK as resource in XNAT under experiment.\n",
      "hn3-radiomics;P0415C0006I9018535;P0415C0006I9018535;D_20220104_2357_GTVn_R;./NrrdFolder/GTVn_R.nrrd\n",
      "Located GTV file : ./NrrdFolder/GTVp1.nrrd\n",
      "Saved MASK as resource in XNAT under experiment.\n",
      "hn3-radiomics;P0415C0006I9018535;P0415C0006I9018535;D_20220104_2357_GTVp1;./NrrdFolder/GTVp1.nrrd\n",
      "Located CT IMAGE file : ./NrrdFolder/ct_image.nrrd\n",
      "Saved CT_IMAGE as resource in XNAT under experiment.\n",
      "hn3-radiomics;P0415C0006I9018535;P0415C0006I9018535;D_20220104_2357_ct_image;./NrrdFolder/ct_image.nrrd\n",
      "Done for RTStruct 1.3.6.1.4.1.32722.415.6.292236474084231395678055318997815308060 of subject P0415C0006I9018535 .... moving on ....\n"
     ]
    },
    {
     "name": "stderr",
     "output_type": "stream",
     "text": [
      " 88.0 MiB |            #                                          |   1.3 MiB/s\n"
     ]
    },
    {
     "name": "stdout",
     "output_type": "stream",
     "text": [
      "Processing: P0415C0006I8858622\n",
      "Starting with RTStruct 1.3.6.1.4.1.32722.415.6.122227879717717547901792284058161401364\n",
      "Located GTV file : ./NrrdFolder/GTV_1.nrrd\n",
      "Saved MASK as resource in XNAT under experiment.\n",
      "hn3-radiomics;P0415C0006I8858622;P0415C0006I8858622;D_20220104_2357_GTV_1;./NrrdFolder/GTV_1.nrrd\n",
      "Located GTV file : ./NrrdFolder/GTV_2.nrrd\n",
      "Saved MASK as resource in XNAT under experiment.\n",
      "hn3-radiomics;P0415C0006I8858622;P0415C0006I8858622;D_20220104_2357_GTV_2;./NrrdFolder/GTV_2.nrrd\n",
      "Located GTV file : ./NrrdFolder/GTV_3.nrrd\n",
      "Saved MASK as resource in XNAT under experiment.\n",
      "hn3-radiomics;P0415C0006I8858622;P0415C0006I8858622;D_20220104_2357_GTV_3;./NrrdFolder/GTV_3.nrrd\n",
      "Located CT IMAGE file : ./NrrdFolder/ct_image.nrrd\n",
      "Saved CT_IMAGE as resource in XNAT under experiment.\n",
      "hn3-radiomics;P0415C0006I8858622;P0415C0006I8858622;D_20220104_2357_ct_image;./NrrdFolder/ct_image.nrrd\n",
      "Done for RTStruct 1.3.6.1.4.1.32722.415.6.122227879717717547901792284058161401364 of subject P0415C0006I8858622 .... moving on ....\n"
     ]
    },
    {
     "name": "stderr",
     "output_type": "stream",
     "text": [
      " 79.5 MiB |                     #                                 |   1.2 MiB/s\n"
     ]
    },
    {
     "name": "stdout",
     "output_type": "stream",
     "text": [
      "Processing: P0415C0006I9393231\n",
      "Starting with RTStruct 1.3.6.1.4.1.32722.415.6.19443141708183235935996546882484347706\n",
      "Located GTV file : ./NrrdFolder/GTV-1.nrrd\n",
      "Saved MASK as resource in XNAT under experiment.\n",
      "hn3-radiomics;P0415C0006I9393231;P0415C0006I9393231;D_20220104_2357_GTV-1;./NrrdFolder/GTV-1.nrrd\n",
      "Located GTV file : ./NrrdFolder/GTV-2.nrrd\n",
      "Saved MASK as resource in XNAT under experiment.\n",
      "hn3-radiomics;P0415C0006I9393231;P0415C0006I9393231;D_20220104_2357_GTV-2;./NrrdFolder/GTV-2.nrrd\n",
      "Located CT IMAGE file : ./NrrdFolder/ct_image.nrrd\n",
      "Saved CT_IMAGE as resource in XNAT under experiment.\n",
      "hn3-radiomics;P0415C0006I9393231;P0415C0006I9393231;D_20220104_2357_ct_image;./NrrdFolder/ct_image.nrrd\n",
      "Done for RTStruct 1.3.6.1.4.1.32722.415.6.19443141708183235935996546882484347706 of subject P0415C0006I9393231 .... moving on ....\n"
     ]
    },
    {
     "name": "stderr",
     "output_type": "stream",
     "text": [
      " 85.5 MiB |                                                    #  |   1.6 MiB/s\n"
     ]
    },
    {
     "name": "stdout",
     "output_type": "stream",
     "text": [
      "Processing: P0415C0006I9464833\n",
      "Starting with RTStruct 1.3.6.1.4.1.32722.415.6.109792118717917981387286081726422540435\n",
      "Located GTV file : ./NrrdFolder/GTV-1.nrrd\n",
      "Saved MASK as resource in XNAT under experiment.\n",
      "hn3-radiomics;P0415C0006I9464833;P0415C0006I9464833;D_20220104_2357_GTV-1;./NrrdFolder/GTV-1.nrrd\n",
      "Located CT IMAGE file : ./NrrdFolder/ct_image.nrrd\n",
      "Saved CT_IMAGE as resource in XNAT under experiment.\n",
      "hn3-radiomics;P0415C0006I9464833;P0415C0006I9464833;D_20220104_2357_ct_image;./NrrdFolder/ct_image.nrrd\n",
      "Done for RTStruct 1.3.6.1.4.1.32722.415.6.109792118717917981387286081726422540435 of subject P0415C0006I9464833 .... moving on ....\n"
     ]
    },
    {
     "name": "stderr",
     "output_type": "stream",
     "text": [
      " 76.0 MiB |                                                  #    |   1.3 MiB/s\n"
     ]
    },
    {
     "name": "stdout",
     "output_type": "stream",
     "text": [
      "Processing: P0415C0006I9596891\n",
      "Starting with RTStruct 1.3.6.1.4.1.32722.415.6.242551931757309181466922737848119989684\n",
      "Located GTV file : ./NrrdFolder/GTVn_L.nrrd\n",
      "Saved MASK as resource in XNAT under experiment.\n",
      "hn3-radiomics;P0415C0006I9596891;P0415C0006I9596891;D_20220104_2357_GTVn_L;./NrrdFolder/GTVn_L.nrrd\n",
      "Located GTV file : ./NrrdFolder/GTVp1.nrrd\n",
      "Saved MASK as resource in XNAT under experiment.\n",
      "hn3-radiomics;P0415C0006I9596891;P0415C0006I9596891;D_20220104_2357_GTVp1;./NrrdFolder/GTVp1.nrrd\n",
      "Located CT IMAGE file : ./NrrdFolder/ct_image.nrrd\n",
      "Saved CT_IMAGE as resource in XNAT under experiment.\n",
      "hn3-radiomics;P0415C0006I9596891;P0415C0006I9596891;D_20220104_2357_ct_image;./NrrdFolder/ct_image.nrrd\n",
      "Done for RTStruct 1.3.6.1.4.1.32722.415.6.242551931757309181466922737848119989684 of subject P0415C0006I9596891 .... moving on ....\n"
     ]
    },
    {
     "name": "stderr",
     "output_type": "stream",
     "text": [
      " 83.8 MiB |        #                                              |   1.2 MiB/s\n"
     ]
    },
    {
     "name": "stdout",
     "output_type": "stream",
     "text": [
      "Processing: P0415C0006I9332184\n",
      "Starting with RTStruct 1.3.6.1.4.1.32722.415.6.84869183800702699477819266453974215532\n",
      "Located GTV file : ./NrrdFolder/GTV_1.nrrd\n",
      "Saved MASK as resource in XNAT under experiment.\n",
      "hn3-radiomics;P0415C0006I9332184;P0415C0006I9332184;D_20220104_2357_GTV_1;./NrrdFolder/GTV_1.nrrd\n",
      "Located GTV file : ./NrrdFolder/GTV_3.nrrd\n",
      "Saved MASK as resource in XNAT under experiment.\n",
      "hn3-radiomics;P0415C0006I9332184;P0415C0006I9332184;D_20220104_2357_GTV_3;./NrrdFolder/GTV_3.nrrd\n",
      "Located CT IMAGE file : ./NrrdFolder/ct_image.nrrd\n",
      "Saved CT_IMAGE as resource in XNAT under experiment.\n",
      "hn3-radiomics;P0415C0006I9332184;P0415C0006I9332184;D_20220104_2357_ct_image;./NrrdFolder/ct_image.nrrd\n",
      "Done for RTStruct 1.3.6.1.4.1.32722.415.6.84869183800702699477819266453974215532 of subject P0415C0006I9332184 .... moving on ....\n"
     ]
    },
    {
     "name": "stderr",
     "output_type": "stream",
     "text": [
      " 77.1 MiB |             #                                         |   1.7 MiB/s\n"
     ]
    },
    {
     "name": "stdout",
     "output_type": "stream",
     "text": [
      "Processing: P0415C0006I9327309\n",
      "Starting with RTStruct 1.3.6.1.4.1.32722.415.6.23177615006424252085453657208683677444\n",
      "Located GTV file : ./NrrdFolder/GTV-1.nrrd\n",
      "Saved MASK as resource in XNAT under experiment.\n",
      "hn3-radiomics;P0415C0006I9327309;P0415C0006I9327309;D_20220104_2357_GTV-1;./NrrdFolder/GTV-1.nrrd\n",
      "Located GTV file : ./NrrdFolder/GTV-2.nrrd\n",
      "Saved MASK as resource in XNAT under experiment.\n",
      "hn3-radiomics;P0415C0006I9327309;P0415C0006I9327309;D_20220104_2357_GTV-2;./NrrdFolder/GTV-2.nrrd\n",
      "Located CT IMAGE file : ./NrrdFolder/ct_image.nrrd\n",
      "Saved CT_IMAGE as resource in XNAT under experiment.\n",
      "hn3-radiomics;P0415C0006I9327309;P0415C0006I9327309;D_20220104_2357_ct_image;./NrrdFolder/ct_image.nrrd\n",
      "Done for RTStruct 1.3.6.1.4.1.32722.415.6.23177615006424252085453657208683677444 of subject P0415C0006I9327309 .... moving on ....\n"
     ]
    },
    {
     "name": "stderr",
     "output_type": "stream",
     "text": [
      " 76.3 MiB |       #                                               |   1.6 MiB/s\n"
     ]
    },
    {
     "name": "stdout",
     "output_type": "stream",
     "text": [
      "Processing: P0415C0006I9985489\n",
      "Starting with RTStruct 1.3.6.1.4.1.32722.415.6.247836650582134111104671840477917575133\n",
      "Located GTV file : ./NrrdFolder/GTV-1.nrrd\n",
      "Saved MASK as resource in XNAT under experiment.\n",
      "hn3-radiomics;P0415C0006I9985489;P0415C0006I9985489;D_20220104_2357_GTV-1;./NrrdFolder/GTV-1.nrrd\n",
      "Located GTV file : ./NrrdFolder/GTV-2.nrrd\n",
      "Saved MASK as resource in XNAT under experiment.\n",
      "hn3-radiomics;P0415C0006I9985489;P0415C0006I9985489;D_20220104_2357_GTV-2;./NrrdFolder/GTV-2.nrrd\n",
      "Located CT IMAGE file : ./NrrdFolder/ct_image.nrrd\n",
      "Saved CT_IMAGE as resource in XNAT under experiment.\n",
      "hn3-radiomics;P0415C0006I9985489;P0415C0006I9985489;D_20220104_2357_ct_image;./NrrdFolder/ct_image.nrrd\n",
      "Done for RTStruct 1.3.6.1.4.1.32722.415.6.247836650582134111104671840477917575133 of subject P0415C0006I9985489 .... moving on ....\n"
     ]
    },
    {
     "name": "stderr",
     "output_type": "stream",
     "text": [
      " 77.2 MiB |   #                                                   |   1.4 MiB/s\n"
     ]
    },
    {
     "name": "stdout",
     "output_type": "stream",
     "text": [
      "Processing: P0415C0006I9831888\n",
      "Starting with RTStruct 1.3.6.1.4.1.32722.415.6.27468558973589137495382052482155438636\n",
      "Located GTV file : ./NrrdFolder/GTV-1.nrrd\n",
      "Saved MASK as resource in XNAT under experiment.\n",
      "hn3-radiomics;P0415C0006I9831888;P0415C0006I9831888;D_20220104_2357_GTV-1;./NrrdFolder/GTV-1.nrrd\n",
      "Located GTV file : ./NrrdFolder/GTV-2.nrrd\n",
      "Saved MASK as resource in XNAT under experiment.\n",
      "hn3-radiomics;P0415C0006I9831888;P0415C0006I9831888;D_20220104_2357_GTV-2;./NrrdFolder/GTV-2.nrrd\n",
      "Located CT IMAGE file : ./NrrdFolder/ct_image.nrrd\n",
      "Saved CT_IMAGE as resource in XNAT under experiment.\n",
      "hn3-radiomics;P0415C0006I9831888;P0415C0006I9831888;D_20220104_2357_ct_image;./NrrdFolder/ct_image.nrrd\n",
      "Done for RTStruct 1.3.6.1.4.1.32722.415.6.27468558973589137495382052482155438636 of subject P0415C0006I9831888 .... moving on ....\n"
     ]
    },
    {
     "name": "stderr",
     "output_type": "stream",
     "text": [
      " 81.3 MiB | #                                                     |   1.3 MiB/s\n"
     ]
    },
    {
     "name": "stdout",
     "output_type": "stream",
     "text": [
      "Processing: P0415C0006I9522686\n",
      "Starting with RTStruct 1.3.6.1.4.1.32722.415.6.295183203664261597722337567062204745916\n",
      "Located GTV file : ./NrrdFolder/GTVn_R.nrrd\n",
      "Saved MASK as resource in XNAT under experiment.\n",
      "hn3-radiomics;P0415C0006I9522686;P0415C0006I9522686;V_20220104_2357_GTVn_R;./NrrdFolder/GTVn_R.nrrd\n",
      "Located GTV file : ./NrrdFolder/GTVp1.nrrd\n",
      "Saved MASK as resource in XNAT under experiment.\n",
      "hn3-radiomics;P0415C0006I9522686;P0415C0006I9522686;V_20220104_2357_GTVp1;./NrrdFolder/GTVp1.nrrd\n",
      "Located CT IMAGE file : ./NrrdFolder/ct_image.nrrd\n",
      "Saved CT_IMAGE as resource in XNAT under experiment.\n",
      "hn3-radiomics;P0415C0006I9522686;P0415C0006I9522686;V_20220104_2357_ct_image;./NrrdFolder/ct_image.nrrd\n",
      "Done for RTStruct 1.3.6.1.4.1.32722.415.6.295183203664261597722337567062204745916 of subject P0415C0006I9522686 .... moving on ....\n"
     ]
    },
    {
     "name": "stderr",
     "output_type": "stream",
     "text": [
      " 77.5 MiB |                                             #         |   1.3 MiB/s\n"
     ]
    },
    {
     "name": "stdout",
     "output_type": "stream",
     "text": [
      "Processing: P0415C0006I9359608\n",
      "Starting with RTStruct 1.3.6.1.4.1.32722.415.6.269985411655107546287846207414063577759\n",
      "Located GTV file : ./NrrdFolder/GTVn_R.nrrd\n",
      "Saved MASK as resource in XNAT under experiment.\n",
      "hn3-radiomics;P0415C0006I9359608;P0415C0006I9359608;D_20220104_2357_GTVn_R;./NrrdFolder/GTVn_R.nrrd\n",
      "Located GTV file : ./NrrdFolder/GTVp1.nrrd\n",
      "Saved MASK as resource in XNAT under experiment.\n",
      "hn3-radiomics;P0415C0006I9359608;P0415C0006I9359608;D_20220104_2357_GTVp1;./NrrdFolder/GTVp1.nrrd\n",
      "Located CT IMAGE file : ./NrrdFolder/ct_image.nrrd\n",
      "Saved CT_IMAGE as resource in XNAT under experiment.\n",
      "hn3-radiomics;P0415C0006I9359608;P0415C0006I9359608;D_20220104_2357_ct_image;./NrrdFolder/ct_image.nrrd\n",
      "Done for RTStruct 1.3.6.1.4.1.32722.415.6.269985411655107546287846207414063577759 of subject P0415C0006I9359608 .... moving on ....\n"
     ]
    },
    {
     "name": "stderr",
     "output_type": "stream",
     "text": [
      " 77.4 MiB |                                                      #|   1.4 MiB/s\n"
     ]
    },
    {
     "name": "stdout",
     "output_type": "stream",
     "text": [
      "Processing: P0415C0006I9769068\n",
      "Starting with RTStruct 1.3.6.1.4.1.32722.415.6.102577419828671826464155128533592054162\n",
      "Located GTV file : ./NrrdFolder/GTV-1.nrrd\n",
      "Saved MASK as resource in XNAT under experiment.\n",
      "hn3-radiomics;P0415C0006I9769068;P0415C0006I9769068;D_20220104_2357_GTV-1;./NrrdFolder/GTV-1.nrrd\n",
      "Located GTV file : ./NrrdFolder/GTV-2.nrrd\n",
      "Saved MASK as resource in XNAT under experiment.\n",
      "hn3-radiomics;P0415C0006I9769068;P0415C0006I9769068;D_20220104_2357_GTV-2;./NrrdFolder/GTV-2.nrrd\n",
      "Located CT IMAGE file : ./NrrdFolder/ct_image.nrrd\n",
      "Saved CT_IMAGE as resource in XNAT under experiment.\n",
      "hn3-radiomics;P0415C0006I9769068;P0415C0006I9769068;D_20220104_2357_ct_image;./NrrdFolder/ct_image.nrrd\n",
      "Done for RTStruct 1.3.6.1.4.1.32722.415.6.102577419828671826464155128533592054162 of subject P0415C0006I9769068 .... moving on ....\n"
     ]
    },
    {
     "name": "stderr",
     "output_type": "stream",
     "text": [
      "101.0 MiB |                                                   #   |   1.5 MiB/s\n"
     ]
    },
    {
     "name": "stdout",
     "output_type": "stream",
     "text": [
      "Processing: P0415C0006I9565578\n",
      "Starting with RTStruct 1.3.6.1.4.1.32722.415.6.292671665377919749419311355994243456136\n",
      "Located GTV file : ./NrrdFolder/GTV-1.nrrd\n",
      "Saved MASK as resource in XNAT under experiment.\n",
      "hn3-radiomics;P0415C0006I9565578;P0415C0006I9565578;V_20220104_2357_GTV-1;./NrrdFolder/GTV-1.nrrd\n",
      "Located GTV file : ./NrrdFolder/GTV-2preop.nrrd\n",
      "Saved MASK as resource in XNAT under experiment.\n",
      "hn3-radiomics;P0415C0006I9565578;P0415C0006I9565578;V_20220104_2357_GTV-2preop;./NrrdFolder/GTV-2preop.nrrd\n",
      "Located GTV file : ./NrrdFolder/GTV-3.nrrd\n",
      "Saved MASK as resource in XNAT under experiment.\n",
      "hn3-radiomics;P0415C0006I9565578;P0415C0006I9565578;V_20220104_2357_GTV-3;./NrrdFolder/GTV-3.nrrd\n",
      "Located GTV file : ./NrrdFolder/GTVPTV.nrrd\n",
      "Saved MASK as resource in XNAT under experiment.\n",
      "hn3-radiomics;P0415C0006I9565578;P0415C0006I9565578;V_20220104_2357_GTVPTV;./NrrdFolder/GTVPTV.nrrd\n",
      "Located CT IMAGE file : ./NrrdFolder/ct_image.nrrd\n",
      "Saved CT_IMAGE as resource in XNAT under experiment.\n",
      "hn3-radiomics;P0415C0006I9565578;P0415C0006I9565578;V_20220104_2357_ct_image;./NrrdFolder/ct_image.nrrd\n",
      "Done for RTStruct 1.3.6.1.4.1.32722.415.6.292671665377919749419311355994243456136 of subject P0415C0006I9565578 .... moving on ....\n"
     ]
    },
    {
     "name": "stderr",
     "output_type": "stream",
     "text": [
      " 98.9 MiB |               #                                       |   1.3 MiB/s\n"
     ]
    },
    {
     "name": "stdout",
     "output_type": "stream",
     "text": [
      "Processing: P0415C0006I9888200\n",
      "Starting with RTStruct 1.3.6.1.4.1.32722.415.6.158813174999552320433001884980950455128\n",
      "Located GTV file : ./NrrdFolder/GTVn_L.nrrd\n",
      "Saved MASK as resource in XNAT under experiment.\n",
      "hn3-radiomics;P0415C0006I9888200;P0415C0006I9888200;D_20220104_2357_GTVn_L;./NrrdFolder/GTVn_L.nrrd\n",
      "Located GTV file : ./NrrdFolder/GTVp1.nrrd\n",
      "Saved MASK as resource in XNAT under experiment.\n",
      "hn3-radiomics;P0415C0006I9888200;P0415C0006I9888200;D_20220104_2357_GTVp1;./NrrdFolder/GTVp1.nrrd\n",
      "Located CT IMAGE file : ./NrrdFolder/ct_image.nrrd\n",
      "Saved CT_IMAGE as resource in XNAT under experiment.\n",
      "hn3-radiomics;P0415C0006I9888200;P0415C0006I9888200;D_20220104_2357_ct_image;./NrrdFolder/ct_image.nrrd\n",
      "Done for RTStruct 1.3.6.1.4.1.32722.415.6.158813174999552320433001884980950455128 of subject P0415C0006I9888200 .... moving on ....\n",
      "Time elapsed : 1053.7757803999998\n"
     ]
    }
   ],
   "source": [
    "XNATdownload = \"./XnatDownload\"\n",
    "CTWorkingDir = \"./CTFolder\"\n",
    "STRUCTWorkingDir = \"./StructFolder\"\n",
    "NRRDWorkingDir = \"./NrrdFolder\"\n",
    "currentResourceLabel = datetime.now().strftime(\"%Y%m%d_%H%M\")\n",
    "#\n",
    "#----------------O-RAW pyradiomics parameters -------------------\n",
    "pyradiomics_params_file = './ParamsSettings/Pyradiomics_Params.yaml' #change this to your own params if needed\n",
    "\n",
    "\n",
    "start_time = process_time()\n",
    "\n",
    "# -----------------------------------------------------------\n",
    "with xnat.connect(xnatUrl, user=xnatUser, password=xnatPass) as session:\n",
    "    myProject= session.projects[xnatProject]\n",
    "    mySubjectsList = myProject.subjects.values()\n",
    "    for s in mySubjectsList:\n",
    "        mySubjectID = s.label\n",
    "        mySubject = myProject.subjects[mySubjectID]\n",
    "        myExperimentsList = mySubject.experiments.values()\n",
    "        for e in myExperimentsList:\n",
    "            myExperimentID = e.label\n",
    "            myExperiment = mySubject.experiments[myExperimentID]\n",
    "            cleanup_temp_folder(XNATdownload)\n",
    "            myExperiment.download_dir(XNATdownload)\n",
    "\n",
    "            # initialize dicom DB\n",
    "            dicomDb = DicomDatabase()\n",
    "            dicomDb.parseFolder(XNATdownload)\n",
    "        \n",
    "            # main\n",
    "            for ptid in dicomDb.getPatientIds():\n",
    "                print(\"Processing: %s\" % (ptid)) # get patient by ID\n",
    "                myChoice = choice(['D','V'],p=[0.8,0.2]) #selects the patient into development subset with prob 0.8\n",
    "                \n",
    "                myPatient = dicomDb.getPatient(ptid)\n",
    "                # loop over RTStructs of this patient\n",
    "                for myStructUID in myPatient.getRTStructs():\n",
    "                    print(\"Starting with RTStruct %s\" % myStructUID)\n",
    "                    # Get RTSTRUCT by SOP Instance UID\n",
    "                    myStruct = myPatient.getRTStruct(myStructUID)\n",
    "                    # Get CT which is referenced by this RTStruct, and is linked to the same patient\n",
    "                    # mind that this can be None, as only a struct, without corresponding CT scan is found\n",
    "                    myCT = myPatient.getCTForRTStruct(myStruct)\n",
    "                \n",
    "                    # clear the working CT/STRUCT folder\n",
    "                    cleanup_temp_folder(CTWorkingDir)\n",
    "                    cleanup_temp_folder(STRUCTWorkingDir)\n",
    "                        \n",
    "                    #only if we have both RTStruct and CT\n",
    "                    if myCT is not None:\n",
    "                        shutil.move(myStruct.getFileLocation(),os.path.join(STRUCTWorkingDir,'struct.dcm')) # move RTSTRUCT file to tmp folder as 'struct.dcm'\n",
    "                        slices = myCT.getSlices()\n",
    "                        for i in range(len(slices)):\n",
    "                            shutil.move(slices[i],os.path.join(CTWorkingDir,str(i)+\".dcm\")) #move CT files to tmp folder as incremental file names\n",
    "                        \n",
    "                        right_now = datetime.now().strftime(\"%d/%m/%Y %H:%M:%S\")\n",
    "                        cleanup_temp_folder(NRRDWorkingDir)\n",
    "                        RTSTRUCT2NRRD(ptid,right_now)\n",
    "                        AXIALCT2NRRD(ptid,right_now)\n",
    "                    \n",
    "                    \n",
    "                    #filter the produced NRRD files for GTV-[0-9] and ct_image\n",
    "                    for fname in glob.glob(NRRDWorkingDir + \"/GTV*.nrrd\"):\n",
    "                        print(\"Located GTV file : \"+fname)\n",
    "                        resource_folder = myChoice + '_' + currentResourceLabel\n",
    "                        resource_folder = resource_folder + '_' + fname.split('/')[-1].split(\".\")[0]\n",
    "                        #resource_folder = datetime.now().strftime(\"%Y%m%d_%H%M\")\n",
    "                        try:\n",
    "                            #upload_file(session, xnatProject, mySubjectID, myExperimentID, '0', resource_folder, fname)\n",
    "                            print(\"Saved MASK as resource in XNAT under experiment.\")\n",
    "                            print(\"%s;%s;%s;%s;%s\" %(xnatProject,mySubjectID, myExperimentID, resource_folder, fname))\n",
    "                        except:\n",
    "                            print(\"Failed to save MASK to XNAT!\")                            \n",
    "                    \n",
    "                    #NRRD files for CT image - assumed to be only one at a time in NRRDWorkingDir\n",
    "                    for fname in glob.glob(NRRDWorkingDir + \"/ct_image.nrrd\"):\n",
    "                        print(\"Located CT IMAGE file : \"+fname)\n",
    "                        #resource_folder = fname.split('/')[-1].split(\".\")[0]\n",
    "                        resource_folder = myChoice + '_' + currentResourceLabel\n",
    "                        resource_folder = resource_folder + \"_ct_image\"\n",
    "                        try:\n",
    "                            #upload_file(session, xnatProject, mySubjectID, myExperimentID, '0', resource_folder, fname)\n",
    "                            print(\"Saved CT_IMAGE as resource in XNAT under experiment.\")\n",
    "                            print(\"%s;%s;%s;%s;%s\" %(xnatProject,mySubjectID, myExperimentID, resource_folder, fname))\n",
    "                        except:\n",
    "                            print(\"Failed to save CT_IMAGE to XNAT!\")\n",
    "                    \n",
    "                    #pyradiomics values possibly useful for comparing GTVs\n",
    "                    #-- comment out the following to skip over\n",
    "                    for fname in glob.glob(NRRDWorkingDir + \"/GTV*.nrrd\"):\n",
    "                        ctname = os.path.join(NRRDWorkingDir,'ct_image.nrrd') #assume fixed\n",
    "                        rname = fname.split('/')[-1].split(\".\")[0] + '.csv' #named as GTV-[0-9].csv\n",
    "                        rname = os.path.join(NRRDWorkingDir,rname) #fixes small error with output to csv file\n",
    "                        resource_folder = \"pyr_\" + currentResourceLabel\n",
    "                        resource_folder = resource_folder + '_' + fname.split('/')[-1].split(\".\")[0]\n",
    "                        #run pyradiomics\n",
    "                        subprocess.run(['pyradiomics',ctname, fname,\\\n",
    "                                            '--param',pyradiomics_params_file,\\\n",
    "                                            '-o',rname,'-f','csv'],capture_output=True)\n",
    "                        try:\n",
    "                            upload_file(session, xnatProject, mySubjectID, myExperimentID, '0', resource_folder, rname)\n",
    "                        except:\n",
    "                            print(\"--- error processing radiomics! -----\")\n",
    "                    \n",
    "                    #conclude and move onto next subject\n",
    "                    print(\"Done for RTStruct %s of subject %s .... moving on ....\" % (myStructUID, ptid))\n",
    "                    \n",
    "                    #only use the break for the purpose of testing\n",
    "                    #break\n",
    "\n",
    "##### ----------------------------------------------------------------------------\n",
    "\n",
    "stop_time = process_time()\n",
    "print(\"Time elapsed : %s\" % (stop_time-start_time))\n"
   ]
  },
  {
   "cell_type": "code",
   "execution_count": null,
   "id": "9ab4ebc5",
   "metadata": {},
   "outputs": [],
   "source": []
  }
 ],
 "metadata": {
  "kernelspec": {
   "display_name": "Python 3 (ipykernel)",
   "language": "python",
   "name": "python3"
  },
  "language_info": {
   "codemirror_mode": {
    "name": "ipython",
    "version": 3
   },
   "file_extension": ".py",
   "mimetype": "text/x-python",
   "name": "python",
   "nbconvert_exporter": "python",
   "pygments_lexer": "ipython3",
   "version": "3.9.7"
  }
 },
 "nbformat": 4,
 "nbformat_minor": 5
}
